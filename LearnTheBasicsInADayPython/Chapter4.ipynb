{
 "cells": [
  {
   "cell_type": "markdown",
   "metadata": {},
   "source": [
    "# Method\n",
    "* A \"Method\" is a spetial fuction for manipulating an instance."
   ]
  },
  {
   "cell_type": "code",
   "execution_count": 3,
   "metadata": {
    "tags": []
   },
   "outputs": [
    {
     "output_type": "stream",
     "name": "stdout",
     "text": "['a', 'b', 'c', 'd', 'e', 'hello']\n['a', 'b', 'c', 'Good!!', 'd', 'e', 'hello']\n['a', 'b', 'c', 'd', 'e', 'hello']\n"
    }
   ],
   "source": [
    "# Method to operate list object\n",
    "a = ['a', 'b', 'c', 'd', 'e' ]\n",
    "a.append('hello')\n",
    "print(a)\n",
    "a.insert(3, 'Good!!')\n",
    "print(a)\n",
    "a.remove('Good!!')\n",
    "print(a)"
   ]
  },
  {
   "cell_type": "code",
   "execution_count": null,
   "metadata": {},
   "outputs": [],
   "source": []
  }
 ],
 "metadata": {
  "language_info": {
   "codemirror_mode": {
    "name": "ipython",
    "version": 3
   },
   "file_extension": ".py",
   "mimetype": "text/x-python",
   "name": "python",
   "nbconvert_exporter": "python",
   "pygments_lexer": "ipython3",
   "version": "3.8.3-final"
  },
  "orig_nbformat": 2,
  "kernelspec": {
   "name": "python38364bit9fa1b0d4b8434418b6a0869ecc6607fc",
   "display_name": "Python 3.8.3 64-bit"
  }
 },
 "nbformat": 4,
 "nbformat_minor": 2
}