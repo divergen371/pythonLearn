{
 "cells": [
  {
   "cell_type": "markdown",
   "metadata": {},
   "source": [
    "# Exercise of \"Learn the basics in a day Python\""
   ]
  },
  {
   "cell_type": "code",
   "execution_count": null,
   "metadata": {
    "tags": []
   },
   "outputs": [],
   "source": [
    "# min max and average calc\n",
    "\n",
    "heightList = [180, 170, 160, 165, 175]\n",
    "\n",
    "sum = 0\n",
    "for i in heightList:\n",
    "    sum += i\n",
    "    ave = sum / len(heightList)\n",
    "\n",
    "print('ave: ' + str(ave))\n",
    "\n",
    "heightMax = 0\n",
    "for i in heightList:\n",
    "    if heightMax < i:\n",
    "        heightMax = i\n",
    "\n",
    "print('max: ' + str(heightMax))\n",
    "\n",
    "heightMin = heightMax\n",
    "for i in heightList:\n",
    "    if heightMin > i:\n",
    "        heightMin = i\n",
    "\n",
    "print('min: ' + str(heightMin))"
   ]
  },
  {
   "cell_type": "code",
   "execution_count": null,
   "metadata": {
    "tags": []
   },
   "outputs": [],
   "source": [
    "#bubble Sort\n",
    "a = [1,2,9,8,0,6,7,5,4,3]\n",
    "\n",
    "def bubble_sort(a):\n",
    "    n = len(a)\n",
    "    for i in reversed(range(n)):\n",
    "        for j in range(i):\n",
    "            if a[j] > a[j + 1]:\n",
    "                a[j], a[j + 1] = a[j + 1], a[j]\n",
    "\n",
    "bubble_sort(a)\n",
    "print(a)"
   ]
  },
  {
   "cell_type": "code",
   "execution_count": null,
   "metadata": {
    "tags": []
   },
   "outputs": [],
   "source": [
    "#dec2bin\n",
    "target = 255\n",
    "resultbin = \"\"\n",
    "\n",
    "while target != 0:\n",
    "    reminder =target % 2\n",
    "    target = target // 2\n",
    "    resultbin += str(reminder)\n",
    "\n",
    "resultbin_reverse = ''.join(list(reversed(resultbin)))\n",
    "print(resultbin_reverse)"
   ]
  },
  {
   "cell_type": "code",
   "execution_count": null,
   "metadata": {
    "tags": []
   },
   "outputs": [],
   "source": [
    "#FizzBuzz\n",
    "for i in range(1, 101):\n",
    "    if i % 15 == 0:\n",
    "        print('FizzBuzz')\n",
    "    elif i % 3 == 0:\n",
    "        print('Fizz')\n",
    "    elif i % 5 == 0:\n",
    "        print('Buzz')\n",
    "    else:\n",
    "        print(i)"
   ]
  },
  {
   "cell_type": "code",
   "execution_count": null,
   "metadata": {
    "tags": []
   },
   "outputs": [],
   "source": [
    "def my_abs(x):\n",
    "    if x < 0:\n",
    "        x *= -1\n",
    "    return x\n",
    "\n",
    "a = my_abs(-3)\n",
    "print(a)\n",
    "print(my_abs(-5))"
   ]
  },
  {
   "cell_type": "code",
   "execution_count": null,
   "metadata": {
    "tags": []
   },
   "outputs": [],
   "source": [
    "# function of fizzbuzz1\n",
    "\n",
    "def fizzbuzz(i):\n",
    "    if i  % 15 == 0:\n",
    "       return 'FizzBuzz'\n",
    "    elif i % 3 == 0:\n",
    "        return 'Fizz'\n",
    "    elif i % 5 == 0:\n",
    "        return 'Buzz'\n",
    "    else:\n",
    "        return ''\n",
    "    \n",
    "\n",
    "print(fizzbuzz(15))\n"
   ]
  },
  {
   "cell_type": "code",
   "execution_count": null,
   "metadata": {
    "tags": []
   },
   "outputs": [],
   "source": [
    "def fizzbuzz(i):\n",
    "    if i % 15 == 0:\n",
    "       return 'FizzBuzz'\n",
    "    elif i % 3 == 0:\n",
    "        return 'Fizz'\n",
    "    elif i % 5 == 0:\n",
    "        return 'Buzz'\n",
    "    else:\n",
    "        return i\n",
    "    \n",
    "\n",
    "for i in range(0, 21):\n",
    "    print(fizzbuzz(i))\n",
    "\n",
    "\n"
   ]
  },
  {
   "cell_type": "code",
   "execution_count": null,
   "metadata": {
    "tags": []
   },
   "outputs": [],
   "source": [
    "def if_even(x):\n",
    "    if x % 2 == 0:\n",
    "        return True\n",
    "    else:\n",
    "        return False\n",
    "    \n",
    "\n",
    "if_even(56)"
   ]
  },
  {
   "cell_type": "code",
   "execution_count": null,
   "metadata": {
    "tags": []
   },
   "outputs": [],
   "source": [
    "import math\n",
    "help(math.sqrt)\n",
    "math.sqrt(9)\n"
   ]
  },
  {
   "cell_type": "code",
   "execution_count": null,
   "metadata": {
    "tags": []
   },
   "outputs": [],
   "source": [
    "def my_abs(x):\n",
    "    if x < 0:\n",
    "        x *= -1\n",
    "        return x\n",
    "\n",
    "a = my_abs(-5)\n",
    "print(a)"
   ]
  },
  {
   "cell_type": "code",
   "execution_count": null,
   "metadata": {
    "tags": []
   },
   "outputs": [],
   "source": [
    "def my_max(a, b):\n",
    "    if a > b:\n",
    "        return a\n",
    "    else:\n",
    "        return b\n",
    "\n",
    "c = my_max(5, 4)\n",
    "print(c)\n",
    "d = my_max(b=5, a=4)\n",
    "print(d)"
   ]
  },
  {
   "cell_type": "code",
   "execution_count": 2,
   "metadata": {
    "tags": []
   },
   "outputs": [
    {
     "output_type": "stream",
     "name": "stdout",
     "text": "hello\nhello\nhello\nhello\nhello\nhello\nhello\nhello\nhello\nhello\n"
    }
   ],
   "source": [
    "a = 10\n",
    "\n",
    "for i in range(10):\n",
    "    print('hello')"
   ]
  },
  {
   "cell_type": "code",
   "execution_count": 5,
   "metadata": {
    "tags": []
   },
   "outputs": [
    {
     "output_type": "stream",
     "name": "stdout",
     "text": "[5, 8, 4]\n"
    }
   ],
   "source": [
    "def pos_int(x):\n",
    "    if x > 0:\n",
    "        return x\n",
    "\n",
    "list_a = [5, -3, 8, -1, 4]\n",
    "f_obj = filter(pos_int, list_a)\n",
    "\n",
    "list_b = list(f_obj)\n",
    "print(list_b)"
   ]
  },
  {
   "cell_type": "code",
   "execution_count": 9,
   "metadata": {
    "tags": []
   },
   "outputs": [
    {
     "output_type": "stream",
     "name": "stdout",
     "text": "['5', '-3', '8', '-1', '4']\n"
    }
   ],
   "source": [
    "def int2str(x):\n",
    "    return str(x)\n",
    "    \n",
    "\n",
    "list_c = [5, -3, 8, -1, 4]\n",
    "m_obj = map(int2str, list_c)\n",
    "\n",
    "list_d = list(m_obj)\n",
    "print(list_d)\n"
   ]
  },
  {
   "cell_type": "code",
   "execution_count": null,
   "metadata": {},
   "outputs": [],
   "source": []
  }
 ],
 "metadata": {
  "language_info": {
   "codemirror_mode": {
    "name": "ipython",
    "version": 3
   },
   "file_extension": ".py",
   "mimetype": "text/x-python",
   "name": "python",
   "nbconvert_exporter": "python",
   "pygments_lexer": "ipython3",
   "version": "3.8.3-final"
  },
  "orig_nbformat": 2,
  "kernelspec": {
   "name": "python38364bit9fa1b0d4b8434418b6a0869ecc6607fc",
   "display_name": "Python 3.8.3 64-bit"
  }
 },
 "nbformat": 4,
 "nbformat_minor": 2
}