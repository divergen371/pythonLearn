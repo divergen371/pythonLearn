{
 "cells": [
  {
   "cell_type": "markdown",
   "metadata": {
    "collapsed": true,
    "pycharm": {
     "name": "#%% md\n"
    }
   },
   "source": [
    "# 辞書\n",
    "\n",
    "辞書は、*キー（key）*と*値（value）*を対応付けたテータ型。\n",
    "\n",
    "|　|利用できる|利用不可|\n",
    "|:---:|:---:|:---:|\n",
    "|キー|文字列・数値・タプル|リスト・辞書|\n",
    "|値|すべてのデータ型|なし|\n",
    "\n",
    "辞書はキーと値の集合であり、キーは（辞書の中で）一意でなければならない"
   ]
  },
  {
   "cell_type": "code",
   "execution_count": 1,
   "outputs": [
    {
     "data": {
      "text/plain": "{'apple': 3, 'pen': 5}"
     },
     "execution_count": 1,
     "metadata": {},
     "output_type": "execute_result"
    }
   ],
   "source": [
    "ppap = {'apple': 3, 'pen': 5}\n",
    "ppap"
   ],
   "metadata": {
    "collapsed": false,
    "pycharm": {
     "name": "#%%\n"
    }
   }
  },
  {
   "cell_type": "code",
   "execution_count": 2,
   "outputs": [
    {
     "data": {
      "text/plain": "dict"
     },
     "execution_count": 2,
     "metadata": {},
     "output_type": "execute_result"
    }
   ],
   "source": [
    "type(ppap)"
   ],
   "metadata": {
    "collapsed": false,
    "pycharm": {
     "name": "#%%\n"
    }
   }
  },
  {
   "cell_type": "code",
   "execution_count": 3,
   "outputs": [
    {
     "data": {
      "text/plain": "3"
     },
     "execution_count": 3,
     "metadata": {},
     "output_type": "execute_result"
    }
   ],
   "source": [
    "# 値の取得 登録されていない値へのアクセスはエラーとなる\n",
    "ppap['apple']"
   ],
   "metadata": {
    "collapsed": false,
    "pycharm": {
     "name": "#%%\n"
    }
   }
  },
  {
   "cell_type": "code",
   "execution_count": 4,
   "outputs": [
    {
     "data": {
      "text/plain": "{'apple': 10, 'pen': 5, 'pineapple': 10}"
     },
     "execution_count": 4,
     "metadata": {},
     "output_type": "execute_result"
    }
   ],
   "source": [
    "# キーの対する値の変更\n",
    "ppap = {'apple': 3, 'pen': 5}\n",
    "ppap['apple'] = 10\n",
    "ppap['pineapple'] = 10\n",
    "ppap\n"
   ],
   "metadata": {
    "collapsed": false,
    "pycharm": {
     "name": "#%%\n"
    }
   }
  },
  {
   "cell_type": "code",
   "execution_count": 5,
   "outputs": [
    {
     "data": {
      "text/plain": "True"
     },
     "execution_count": 5,
     "metadata": {},
     "output_type": "execute_result"
    }
   ],
   "source": [
    "# 辞書にキーが登録されているかどうか調べる\n",
    "ppap = {'apple': 3, 'pen': 5}\n",
    "'apple' in ppap"
   ],
   "metadata": {
    "collapsed": false,
    "pycharm": {
     "name": "#%%\n"
    }
   }
  },
  {
   "cell_type": "code",
   "execution_count": 6,
   "outputs": [
    {
     "data": {
      "text/plain": "2"
     },
     "execution_count": 6,
     "metadata": {},
     "output_type": "execute_result"
    }
   ],
   "source": [
    "# キーと値のペアの数を調べる\n",
    "ppap = {'apple': 3, 'pen': 5}\n",
    "len(ppap)"
   ],
   "metadata": {
    "collapsed": false,
    "pycharm": {
     "name": "#%%\n"
    }
   }
  },
  {
   "cell_type": "code",
   "execution_count": 7,
   "outputs": [
    {
     "data": {
      "text/plain": "{'pen': 5}"
     },
     "execution_count": 7,
     "metadata": {},
     "output_type": "execute_result"
    }
   ],
   "source": [
    "# 削除\n",
    "ppap = {'apple': 3, 'pen': 5}\n",
    "del ppap['apple']\n",
    "ppap"
   ],
   "metadata": {
    "collapsed": false,
    "pycharm": {
     "name": "#%%\n"
    }
   }
  },
  {
   "cell_type": "code",
   "execution_count": 8,
   "outputs": [],
   "source": [
    "# 練習\n",
    "def reverse_lookup(list1):\n",
    "    empty_d = {}\n",
    "    for i in range(len(list1)):\n",
    "        empty_d[list1[i]] = i\n",
    "    return empty_d"
   ],
   "metadata": {
    "collapsed": false,
    "pycharm": {
     "name": "#%%\n"
    }
   }
  },
  {
   "cell_type": "code",
   "execution_count": 9,
   "outputs": [
    {
     "name": "stdout",
     "output_type": "stream",
     "text": [
      "{'apple': 0, 'pen': 1, 'orange': 2, 'lemon': 3}\n",
      "True\n"
     ]
    }
   ],
   "source": [
    "print(reverse_lookup(['apple', 'pen', 'orange', 'lemon']))\n",
    "print(reverse_lookup(['apple', 'pen', 'orange']) == {'apple': 0, 'pen': 1, 'orange': 2})"
   ],
   "metadata": {
    "collapsed": false,
    "pycharm": {
     "name": "#%%\n"
    }
   }
  },
  {
   "cell_type": "markdown",
   "source": [
    "## 辞書のメソッド\n",
    "\n",
    "\n"
   ],
   "metadata": {
    "collapsed": false,
    "pycharm": {
     "name": "#%% md\n"
    }
   }
  },
  {
   "cell_type": "code",
   "execution_count": 13,
   "outputs": [
    {
     "name": "stdout",
     "output_type": "stream",
     "text": [
      "キーappleに対応する値 = 3\n",
      "キーorangeに対応する値 =  None\n"
     ]
    },
    {
     "ename": "KeyError",
     "evalue": "'orange'",
     "output_type": "error",
     "traceback": [
      "\u001B[0;31m---------------------------------------------------------------------------\u001B[0m",
      "\u001B[0;31mKeyError\u001B[0m                                  Traceback (most recent call last)",
      "\u001B[0;32m<ipython-input-13-ccdedb8facb8>\u001B[0m in \u001B[0;36m<module>\u001B[0;34m\u001B[0m\n\u001B[1;32m      8\u001B[0m \u001B[0mprint\u001B[0m\u001B[0;34m(\u001B[0m\u001B[0;34m'キーorangeに対応する値 = '\u001B[0m\u001B[0;34m,\u001B[0m \u001B[0mppap\u001B[0m\u001B[0;34m.\u001B[0m\u001B[0mget\u001B[0m\u001B[0;34m(\u001B[0m\u001B[0;34m'orange'\u001B[0m\u001B[0;34m)\u001B[0m\u001B[0;34m)\u001B[0m\u001B[0;34m\u001B[0m\u001B[0;34m\u001B[0m\u001B[0m\n\u001B[1;32m      9\u001B[0m \u001B[0;31m# 以下はエラー\u001B[0m\u001B[0;34m\u001B[0m\u001B[0;34m\u001B[0m\u001B[0;34m\u001B[0m\u001B[0m\n\u001B[0;32m---> 10\u001B[0;31m \u001B[0mprint\u001B[0m\u001B[0;34m(\u001B[0m\u001B[0;34m'キーorangeに対応する値 = '\u001B[0m\u001B[0;34m,\u001B[0m \u001B[0mppap\u001B[0m\u001B[0;34m[\u001B[0m\u001B[0;34m'orange'\u001B[0m\u001B[0;34m]\u001B[0m\u001B[0;34m)\u001B[0m\u001B[0;34m\u001B[0m\u001B[0;34m\u001B[0m\u001B[0m\n\u001B[0m\u001B[1;32m     11\u001B[0m \u001B[0;31m# 2つ目の引数を指定すると、指定したキーが存在しない場合その値を返す\u001B[0m\u001B[0;34m\u001B[0m\u001B[0;34m\u001B[0m\u001B[0;34m\u001B[0m\u001B[0m\n\u001B[1;32m     12\u001B[0m \u001B[0mprint\u001B[0m\u001B[0;34m(\u001B[0m\u001B[0;34m'キーappleに対応する値 ='\u001B[0m\u001B[0;34m,\u001B[0m \u001B[0mppap\u001B[0m\u001B[0;34m.\u001B[0m\u001B[0mget\u001B[0m\u001B[0;34m(\u001B[0m\u001B[0;34m'apple'\u001B[0m\u001B[0;34m,\u001B[0m \u001B[0;34m-\u001B[0m\u001B[0;36m1\u001B[0m\u001B[0;34m)\u001B[0m\u001B[0;34m)\u001B[0m\u001B[0;34m\u001B[0m\u001B[0;34m\u001B[0m\u001B[0m\n",
      "\u001B[0;31mKeyError\u001B[0m: 'orange'"
     ]
    }
   ],
   "source": [
    "# getメソッド\n",
    "# 引数として指定したキーが辞書に含まれていればその値を返し、なければNoneを返す\n",
    "# 存在しないキーを検索してもエラーを返さないので登録されているかどうかわからないキーの\n",
    "# 検索に使うことでプログラムの停止を防ぐことが出来る。\n",
    "\n",
    "ppap = {'apple': 3, 'pen': 5}\n",
    "print('キーappleに対応する値 =', ppap.get('apple'))\n",
    "print('キーorangeに対応する値 = ', ppap.get('orange'))\n",
    "# 以下はエラー\n",
    "print('キーorangeに対応する値 = ', ppap['orange'])\n"
   ],
   "metadata": {
    "collapsed": false,
    "pycharm": {
     "name": "#%%\n"
    }
   }
  },
  {
   "cell_type": "code",
   "execution_count": 14,
   "outputs": [
    {
     "name": "stdout",
     "output_type": "stream",
     "text": [
      "キーappleに対応する値 = 3\n",
      "キーorangeに対応する値 =  -1\n"
     ]
    }
   ],
   "source": [
    "# 2つ目の引数を指定すると、指定したキーが存在しない場合その値を返す\n",
    "print('キーappleに対応する値 =', ppap.get('apple', -1))\n",
    "print('キーorangeに対応する値 = ', ppap.get('orange', -1))"
   ],
   "metadata": {
    "collapsed": false,
    "pycharm": {
     "name": "#%%\n"
    }
   }
  },
  {
   "cell_type": "code",
   "execution_count": 15,
   "outputs": [
    {
     "name": "stdout",
     "output_type": "stream",
     "text": [
      "3\n",
      "{'apple': 3, 'pen': 5}\n",
      "7\n",
      "{'apple': 3, 'pen': 5, 'orange': 7}\n"
     ]
    }
   ],
   "source": [
    "# setdafaultメソッド\n",
    "# 指定したキーが存在する場合は対応する値を返す\n",
    "# ない場合は二番目に指定した値をキーに対応する値として登録する\n",
    "\n",
    "ppap = {'apple': 3, 'pen': 5}\n",
    "print(ppap.setdefault('apple', 7))\n",
    "print(ppap)\n",
    "print(ppap.setdefault('orange', 7))\n",
    "print(ppap)"
   ],
   "metadata": {
    "collapsed": false,
    "pycharm": {
     "name": "#%%\n"
    }
   }
  },
  {
   "cell_type": "code",
   "execution_count": 16,
   "outputs": [
    {
     "name": "stdout",
     "output_type": "stream",
     "text": [
      "{'pen': 5}\n"
     ]
    }
   ],
   "source": [
    "# キーの削除\n",
    "ppap = {'apple': 3, 'pen': 5}\n",
    "ppap.pop('apple')\n",
    "print(ppap)"
   ],
   "metadata": {
    "collapsed": false,
    "pycharm": {
     "name": "#%%\n"
    }
   }
  },
  {
   "cell_type": "code",
   "execution_count": 18,
   "outputs": [
    {
     "name": "stdout",
     "output_type": "stream",
     "text": [
      "{}\n"
     ]
    }
   ],
   "source": [
    "# すべてのキーの削除\n",
    "ppap = {'apple': 3, 'pen': 5}\n",
    "ppap.clear()\n",
    "print(ppap)"
   ],
   "metadata": {
    "collapsed": false,
    "pycharm": {
     "name": "#%%\n"
    }
   }
  },
  {
   "cell_type": "code",
   "execution_count": 27,
   "outputs": [
    {
     "name": "stdout",
     "output_type": "stream",
     "text": [
      "dict_keys(['apple', 'pen'])\n",
      "['apple', 'pen']\n",
      "dict_values([3, 5])\n",
      "dict_items([('apple', 3), ('pen', 5)])\n",
      "[('apple', 3), ('pen', 5)]\n"
     ]
    }
   ],
   "source": [
    "# キーの一覧\n",
    "ppap = {'apple': 3, 'pen': 5}\n",
    "print(ppap.keys())\n",
    "print(list(ppap.keys()))\n",
    "# 値の一覧\n",
    "print(ppap.values())\n",
    "# キーと値の一覧\n",
    "print(ppap.items())\n",
    "print(list(ppap.items()))"
   ],
   "metadata": {
    "collapsed": false,
    "pycharm": {
     "name": "#%%\n"
    }
   }
  },
  {
   "cell_type": "code",
   "execution_count": 29,
   "outputs": [
    {
     "name": "stdout",
     "output_type": "stream",
     "text": [
      "{'apple': 3, 'pen': 5, 'banana': 6}\n",
      "{'apple': 3, 'pen': 5}\n"
     ]
    }
   ],
   "source": [
    "# 複製\n",
    "ppap = {'apple': 3, 'pen': 5}\n",
    "ppap2 = ppap.copy()\n",
    "ppap['banana'] = 6\n",
    "print(ppap)\n",
    "print(ppap2)"
   ],
   "metadata": {
    "collapsed": false,
    "pycharm": {
     "name": "#%%\n"
    }
   }
  },
  {
   "cell_type": "code",
   "execution_count": 30,
   "outputs": [
    {
     "name": "stdout",
     "output_type": "stream",
     "text": [
      "[10, 20, 30]\n",
      "20\n"
     ]
    }
   ],
   "source": [
    "# 辞書とリスト\n",
    "numbers = {'dozens': [10, 20, 30], 'hundreds': [100, 101, 120, 140]}\n",
    "print(numbers['dozens'])\n",
    "print(numbers['dozens'][1])"
   ],
   "metadata": {
    "collapsed": false,
    "pycharm": {
     "name": "#%%\n"
    }
   }
  },
  {
   "cell_type": "code",
   "execution_count": 31,
   "outputs": [
    {
     "name": "stdout",
     "output_type": "stream",
     "text": [
      "{'cat': 3, 'dog': 3, 'elephant': 8}\n",
      "3\n"
     ]
    }
   ],
   "source": [
    "ppap = {'apple': 3, 'pen': 5}\n",
    "pets = {'cat': 3, 'dog': 3, 'elephant': 8}\n",
    "ld = [ppap, pets]\n",
    "print(ld[1])\n",
    "print(ld[1]['dog'])"
   ],
   "metadata": {
    "collapsed": false,
    "pycharm": {
     "name": "#%%\n"
    }
   }
  },
  {
   "cell_type": "code",
   "execution_count": 43,
   "outputs": [],
   "source": [
    "# 練習\n",
    "def handle_collision(dic1, str1):\n",
    "    if dic1.get(len(str1)) is None:\n",
    "        ls = [str1]\n",
    "    else:\n",
    "        ls = dic1[len(str1)]\n",
    "        ls.append(str1)\n",
    "    dic1[len(str1)] = ls"
   ],
   "metadata": {
    "collapsed": false,
    "pycharm": {
     "name": "#%%\n"
    }
   }
  },
  {
   "cell_type": "code",
   "execution_count": 44,
   "outputs": [
    {
     "name": "stdout",
     "output_type": "stream",
     "text": [
      "True\n"
     ]
    }
   ],
   "source": [
    "dic1_orig = {3: ['ham', 'egg'], 6: ['coffee', 'brandy'], 9: ['port wine'], 15: ['curried chicken']}\n",
    "dic1_result = {3: ['ham', 'egg', 'tea'], 6: ['coffee', 'brandy'], 9: ['port wine'], 15: ['curried chicken']}\n",
    "handle_collision(dic1_orig, 'tea')\n",
    "print(dic1_orig == dic1_result)"
   ],
   "metadata": {
    "collapsed": false,
    "pycharm": {
     "name": "#%%\n"
    }
   }
  },
  {
   "cell_type": "code",
   "execution_count": null,
   "outputs": [],
   "source": [],
   "metadata": {
    "collapsed": false,
    "pycharm": {
     "name": "#%%\n"
    }
   }
  }
 ],
 "metadata": {
  "kernelspec": {
   "name": "python3",
   "language": "python",
   "display_name": "Python 3"
  },
  "language_info": {
   "codemirror_mode": {
    "name": "ipython",
    "version": 2
   },
   "file_extension": ".py",
   "mimetype": "text/x-python",
   "name": "python",
   "nbconvert_exporter": "python",
   "pygments_lexer": "ipython2",
   "version": "2.7.6"
  }
 },
 "nbformat": 4,
 "nbformat_minor": 0
}