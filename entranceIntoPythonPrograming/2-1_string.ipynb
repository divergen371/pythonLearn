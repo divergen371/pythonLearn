{
 "metadata": {
  "language_info": {
   "codemirror_mode": {
    "name": "ipython",
    "version": 3
   },
   "file_extension": ".py",
   "mimetype": "text/x-python",
   "name": "python",
   "nbconvert_exporter": "python",
   "pygments_lexer": "ipython3",
   "version": "3.7.3-final"
  },
  "orig_nbformat": 2,
  "kernelspec": {
   "name": "python_defaultSpec_1598417626848",
   "display_name": "Python 3.7.3 64-bit"
  }
 },
 "nbformat": 4,
 "nbformat_minor": 2,
 "cells": [
  {
   "cell_type": "markdown",
   "metadata": {},
   "source": [
    "# 文字列\n",
    "## 文書処理などに必要な文字列の扱いについて。\n",
    "文字列型のデータとは、いくつかの文字の並びから構成されるデータ型である。  \n",
    "Pythonでは標準で多言語対応となっており、英語アルファベットだけでなく、日本語を始めとして多くの言語を扱うことが出来る。  \n",
    "\n",
    "文字列は文字の並びをシングルクォート、あるいはダブルクォートで囲むことで定義出来る。  \n",
    "組み込み関数`type`で変数に格納されたデータの型を確認出来る。"
   ]
  },
  {
   "cell_type": "code",
   "execution_count": 1,
   "metadata": {},
   "outputs": [
    {
     "output_type": "execute_result",
     "data": {
      "text/plain": "str"
     },
     "metadata": {},
     "execution_count": 1
    }
   ],
   "source": [
    "moji = 'hoge'\n",
    "type(moji)"
   ]
  },
  {
   "cell_type": "markdown",
   "metadata": {},
   "source": [
    "`str`と出力された。これは文字列型のデータ型を表す。  \n",
    "また、`str`は組み込み関数としても提供されており、任意のデータ型のデータを引数として受け取り文字列型に変換して返す。  \n",
    "（一般に、データ型は、そのデータ型への変換を行う関数として使われることが多い。）"
   ]
  },
  {
   "cell_type": "code",
   "execution_count": 2,
   "metadata": {},
   "outputs": [
    {
     "output_type": "execute_result",
     "data": {
      "text/plain": "'123'"
     },
     "metadata": {},
     "execution_count": 2
    }
   ],
   "source": [
    "moji2 = str(123)\n",
    "moji2"
   ]
  },
  {
   "cell_type": "code",
   "execution_count": 3,
   "metadata": {},
   "outputs": [
    {
     "output_type": "execute_result",
     "data": {
      "text/plain": "int"
     },
     "metadata": {},
     "execution_count": 3
    }
   ],
   "source": [
    "# 文字列型から整数型への変換\n",
    "number = int('123')\n",
    "type(number)"
   ]
  },
  {
   "cell_type": "code",
   "execution_count": 4,
   "metadata": {},
   "outputs": [
    {
     "output_type": "execute_result",
     "data": {
      "text/plain": "float"
     },
     "metadata": {},
     "execution_count": 4
    }
   ],
   "source": [
    "# 文字列型から実数への変換\n",
    "real = float('123')\n",
    "type(real)"
   ]
  },
  {
   "cell_type": "code",
   "execution_count": 5,
   "metadata": {},
   "outputs": [
    {
     "output_type": "error",
     "ename": "ValueError",
     "evalue": "invalid literal for int() with base 10: 'あ'",
     "traceback": [
      "\u001b[0;31m---------------------------------------------------------------------------\u001b[0m",
      "\u001b[0;31mValueError\u001b[0m                                Traceback (most recent call last)",
      "\u001b[0;32m<ipython-input-5-602488ea899d>\u001b[0m in \u001b[0;36m<module>\u001b[0;34m\u001b[0m\n\u001b[1;32m      1\u001b[0m \u001b[0;31m# エラーを起こす変換\u001b[0m\u001b[0;34m\u001b[0m\u001b[0;34m\u001b[0m\u001b[0;34m\u001b[0m\u001b[0m\n\u001b[0;32m----> 2\u001b[0;31m \u001b[0me\u001b[0m \u001b[0;34m=\u001b[0m \u001b[0mint\u001b[0m\u001b[0;34m(\u001b[0m\u001b[0;34m'あ'\u001b[0m\u001b[0;34m)\u001b[0m\u001b[0;34m\u001b[0m\u001b[0;34m\u001b[0m\u001b[0m\n\u001b[0m\u001b[1;32m      3\u001b[0m \u001b[0mf\u001b[0m \u001b[0;34m=\u001b[0m \u001b[0mfloat\u001b[0m\u001b[0;34m(\u001b[0m\u001b[0;34m'あ'\u001b[0m\u001b[0;34m)\u001b[0m\u001b[0;34m\u001b[0m\u001b[0;34m\u001b[0m\u001b[0m\n",
      "\u001b[0;31mValueError\u001b[0m: invalid literal for int() with base 10: 'あ'"
     ]
    }
   ],
   "source": [
    "# エラーを起こす変換\n",
    "e = int('あ')\n",
    "f = float('あ')"
   ]
  },
  {
   "cell_type": "markdown",
   "metadata": {},
   "source": [
    "## 文字列とインデックス\n",
    "文字列はいくつかの文字によって構成されている。  \n",
    "文字列のなかの特定の文字を取得したい場合は以下のようにする。  "
   ]
  },
  {
   "cell_type": "code",
   "execution_count": 6,
   "metadata": {},
   "outputs": [
    {
     "output_type": "execute_result",
     "data": {
      "text/plain": "'l'"
     },
     "metadata": {},
     "execution_count": 6
    }
   ],
   "source": [
    "word = 'hello'\n",
    "word[3]"
   ]
  },
  {
   "cell_type": "code",
   "execution_count": 7,
   "metadata": {},
   "outputs": [
    {
     "output_type": "execute_result",
     "data": {
      "text/plain": "'h'"
     },
     "metadata": {},
     "execution_count": 7
    }
   ],
   "source": [
    "'hello'[0]"
   ]
  },
  {
   "cell_type": "markdown",
   "metadata": {},
   "source": [
    "カッコ内で指定した数値のことをインデックスと呼ぶ。  \n",
    "（一文字目をゼロ番目として扱う点に注意する。）\n",
    "このようにして取得した文字は長さ1の文字列として扱われる。  \n",
    "  \n",
    "Pythonにおいて、文字列はイミュータブル（変更不可）なデータ型なのでインデックスを指定して直接書き換えることはできない。  \n",
    "文字列を加工する際は新た別の文字列を作成する必要がある。  \n",
    "また、文字列の長さ以上のインデックスを指定することもできない。"
   ]
  },
  {
   "cell_type": "code",
   "execution_count": 9,
   "metadata": {},
   "outputs": [
    {
     "output_type": "error",
     "ename": "NameError",
     "evalue": "name 'H' is not defined",
     "traceback": [
      "\u001b[0;31m---------------------------------------------------------------------------\u001b[0m",
      "\u001b[0;31mNameError\u001b[0m                                 Traceback (most recent call last)",
      "\u001b[0;32m<ipython-input-9-fa8741e89a0d>\u001b[0m in \u001b[0;36m<module>\u001b[0;34m\u001b[0m\n\u001b[1;32m      1\u001b[0m \u001b[0mword\u001b[0m \u001b[0;34m=\u001b[0m \u001b[0;34m'hello'\u001b[0m\u001b[0;34m\u001b[0m\u001b[0;34m\u001b[0m\u001b[0m\n\u001b[0;32m----> 2\u001b[0;31m \u001b[0mword\u001b[0m\u001b[0;34m[\u001b[0m\u001b[0;36m0\u001b[0m\u001b[0;34m]\u001b[0m \u001b[0;34m=\u001b[0m \u001b[0mH\u001b[0m\u001b[0;34m\u001b[0m\u001b[0;34m\u001b[0m\u001b[0m\n\u001b[0m",
      "\u001b[0;31mNameError\u001b[0m: name 'H' is not defined"
     ]
    }
   ],
   "source": [
    "word = 'hello'\n",
    "word[0] = H"
   ]
  },
  {
   "cell_type": "code",
   "execution_count": 11,
   "metadata": {},
   "outputs": [
    {
     "output_type": "error",
     "ename": "IndexError",
     "evalue": "string index out of range",
     "traceback": [
      "\u001b[0;31m---------------------------------------------------------------------------\u001b[0m",
      "\u001b[0;31mIndexError\u001b[0m                                Traceback (most recent call last)",
      "\u001b[0;32m<ipython-input-11-fb02a850462b>\u001b[0m in \u001b[0;36m<module>\u001b[0;34m\u001b[0m\n\u001b[0;32m----> 1\u001b[0;31m \u001b[0mword\u001b[0m\u001b[0;34m[\u001b[0m\u001b[0;36m100\u001b[0m\u001b[0;34m]\u001b[0m\u001b[0;34m\u001b[0m\u001b[0;34m\u001b[0m\u001b[0m\n\u001b[0m",
      "\u001b[0;31mIndexError\u001b[0m: string index out of range"
     ]
    }
   ],
   "source": [
    "word[100]"
   ]
  },
  {
   "cell_type": "markdown",
   "metadata": {},
   "source": [
    "インデックスに負の値を指定すると文字列の最後尾を始点 にして文字列を指定する。\n",
    "負の値で指定するときは`-1`が始点になる。"
   ]
  },
  {
   "cell_type": "code",
   "execution_count": 12,
   "metadata": {},
   "outputs": [
    {
     "output_type": "execute_result",
     "data": {
      "text/plain": "'o'"
     },
     "metadata": {},
     "execution_count": 12
    }
   ],
   "source": [
    "word[-1]"
   ]
  },
  {
   "cell_type": "markdown",
   "metadata": {},
   "source": [
    "## 文字列とインデックス\n",
    "スライスという機能を使って文字列の一部を取得できる。"
   ]
  },
  {
   "cell_type": "code",
   "execution_count": 1,
   "metadata": {},
   "outputs": [
    {
     "output_type": "execute_result",
     "data": {
      "text/plain": "'123'"
     },
     "metadata": {},
     "execution_count": 1
    }
   ],
   "source": [
    "numbers = '0123456789'\n",
    "numbers[1:4]"
   ]
  },
  {
   "cell_type": "code",
   "execution_count": 2,
   "metadata": {},
   "outputs": [
    {
     "output_type": "execute_result",
     "data": {
      "text/plain": "'012'"
     },
     "metadata": {},
     "execution_count": 2
    }
   ],
   "source": [
    "numbers[0:3]"
   ]
  },
  {
   "cell_type": "code",
   "execution_count": 3,
   "metadata": {},
   "outputs": [
    {
     "output_type": "execute_result",
     "data": {
      "text/plain": "'012'"
     },
     "metadata": {},
     "execution_count": 3
    }
   ],
   "source": [
    "# ゼロは省略できる\n",
    "numbers[:3]"
   ]
  },
  {
   "cell_type": "code",
   "execution_count": 4,
   "metadata": {},
   "outputs": [
    {
     "output_type": "execute_result",
     "data": {
      "text/plain": "'3456789'"
     },
     "metadata": {},
     "execution_count": 4
    }
   ],
   "source": [
    "# 最後尾のインデックスも省略できる\n",
    "numbers[3:]"
   ]
  },
  {
   "cell_type": "code",
   "execution_count": 5,
   "metadata": {},
   "outputs": [
    {
     "output_type": "execute_result",
     "data": {
      "text/plain": "'678'"
     },
     "metadata": {},
     "execution_count": 5
    }
   ],
   "source": [
    "# 負の値でインデックス指定\n",
    "numbers[-4:-1]"
   ]
  },
  {
   "cell_type": "markdown",
   "metadata": {},
   "source": [
    "スライスに3つ目の数値を与えると、取得する文字列に間隔を指定できる。"
   ]
  },
  {
   "cell_type": "code",
   "execution_count": 6,
   "metadata": {},
   "outputs": [
    {
     "output_type": "execute_result",
     "data": {
      "text/plain": "'02468'"
     },
     "metadata": {},
     "execution_count": 6
    }
   ],
   "source": [
    "numbers[::2]"
   ]
  },
  {
   "cell_type": "code",
   "execution_count": 7,
   "metadata": {},
   "outputs": [
    {
     "output_type": "execute_result",
     "data": {
      "text/plain": "'9876543210'"
     },
     "metadata": {},
     "execution_count": 7
    }
   ],
   "source": [
    "# 3つ目の値に負の値を指定する\n",
    "numbers[::-1]"
   ]
  },
  {
   "cell_type": "markdown",
   "metadata": {},
   "source": [
    "## 空文字列\n",
    "シングル（ダブル）クォートで何も囲まない場合、長さ０の文字列となり、これを`空文字列`と呼ぶ。"
   ]
  },
  {
   "cell_type": "code",
   "execution_count": 8,
   "metadata": {},
   "outputs": [],
   "source": [
    "blank = ''"
   ]
  },
  {
   "cell_type": "markdown",
   "metadata": {},
   "source": [
    "`replace`で文字列から特定の文字を除去したいときに活用する。\n"
   ]
  },
  {
   "cell_type": "code",
   "execution_count": 9,
   "metadata": {},
   "outputs": [
    {
     "output_type": "execute_result",
     "data": {
      "text/plain": "'2980円'"
     },
     "metadata": {},
     "execution_count": 9
    }
   ],
   "source": [
    "price = '2,980円'\n",
    "price.replace(',', '')"
   ]
  },
  {
   "cell_type": "markdown",
   "metadata": {},
   "source": [
    "文字列のスライスにおいて、指定したインデックスの範囲に文字列が存在しない場合  \n",
    "たとえば、`[x:y](x > y 且つ xとyは同じ符号を持つ。)`とした場合、エラーではなく空文字列が  \n",
    "返ってくる。"
   ]
  },
  {
   "cell_type": "code",
   "execution_count": 10,
   "metadata": {
    "tags": []
   },
   "outputs": [
    {
     "output_type": "stream",
     "name": "stdout",
     "text": "空文字列1 =  \n空文字列2 =  \n空文字列3 =  \n空文字列ではない =  345678\n"
    }
   ],
   "source": [
    "print('空文字列1 = ', numbers[4:2])\n",
    "print('空文字列2 = ', numbers[-1:-4])\n",
    "print('空文字列3 = ', numbers[3:3])\n",
    "print('空文字列ではない = ', numbers[3:-1])"
   ]
  },
  {
   "cell_type": "markdown",
   "metadata": {},
   "source": [
    "## 文字列の検索\n",
    "`文字列A`が`文字列B`を含むかどうかを調べるには、`in`演算子を使う。  \n",
    "`in`は真偽値を返す。  \n",
    "`not in`演算子は`in`演算子の逆を返す。"
   ]
  },
  {
   "cell_type": "code",
   "execution_count": 11,
   "metadata": {},
   "outputs": [
    {
     "output_type": "execute_result",
     "data": {
      "text/plain": "True"
     },
     "metadata": {},
     "execution_count": 11
    }
   ],
   "source": [
    "'lo' in 'hello'"
   ]
  },
  {
   "cell_type": "code",
   "execution_count": 12,
   "metadata": {},
   "outputs": [
    {
     "output_type": "execute_result",
     "data": {
      "text/plain": "False"
     },
     "metadata": {},
     "execution_count": 12
    }
   ],
   "source": [
    "'a' in 'hello'"
   ]
  },
  {
   "cell_type": "code",
   "execution_count": 13,
   "metadata": {},
   "outputs": [
    {
     "output_type": "execute_result",
     "data": {
      "text/plain": "False"
     },
     "metadata": {},
     "execution_count": 13
    }
   ],
   "source": [
    "check = 'aa'\n",
    "str1 = 'hello'\n",
    "check in str1"
   ]
  },
  {
   "cell_type": "code",
   "execution_count": 14,
   "metadata": {},
   "outputs": [
    {
     "output_type": "execute_result",
     "data": {
      "text/plain": "True"
     },
     "metadata": {},
     "execution_count": 14
    }
   ],
   "source": [
    "check = 'aa'\n",
    "str1 = 'hello'\n",
    "check not in str1"
   ]
  },
  {
   "cell_type": "markdown",
   "metadata": {},
   "source": [
    "## エスケープシーケンス\n",
    "文字列を生成するにはシングルクォートあるいはダブルクォートで文字を囲う。  \n",
    "しかし…"
   ]
  },
  {
   "cell_type": "code",
   "execution_count": 16,
   "metadata": {},
   "outputs": [
    {
     "output_type": "error",
     "ename": "SyntaxError",
     "evalue": "invalid syntax (<ipython-input-16-22edaf9a7d8f>, line 1)",
     "traceback": [
      "\u001b[0;36m  File \u001b[0;32m\"<ipython-input-16-22edaf9a7d8f>\"\u001b[0;36m, line \u001b[0;32m1\u001b[0m\n\u001b[0;31m    non_escape = 'This is 'MINE''\u001b[0m\n\u001b[0m                              ^\u001b[0m\n\u001b[0;31mSyntaxError\u001b[0m\u001b[0;31m:\u001b[0m invalid syntax\n"
     ]
    }
   ],
   "source": [
    "non_escape = 'This is 'MINE''"
   ]
  },
  {
   "cell_type": "markdown",
   "metadata": {},
   "source": [
    "文字列の中でクォートを使うとエラーを起こしてしまう。  \n",
    "文字列の中で文字としてクォートを扱うために`エスケープ`する。"
   ]
  },
  {
   "cell_type": "code",
   "execution_count": 18,
   "metadata": {},
   "outputs": [
    {
     "output_type": "execute_result",
     "data": {
      "text/plain": "\"This is 'MINE'\""
     },
     "metadata": {},
     "execution_count": 18
    }
   ],
   "source": [
    "escaped1 = 'This is \\'MINE\\''\n",
    "escaped1"
   ]
  },
  {
   "cell_type": "markdown",
   "metadata": {},
   "source": [
    "ダブルクォートで文字を囲って、文字列内でシングルクォート使うとエスケープシーケンスを使わなくても  \n",
    "クォートを含んだ文字列を作ることが出来る。  \n",
    "（逆のパターンもOK）\n",
    "また。三連のクォートを使えば、エスケープなしで記述出来る。"
   ]
  },
  {
   "cell_type": "code",
   "execution_count": 20,
   "metadata": {},
   "outputs": [
    {
     "output_type": "execute_result",
     "data": {
      "text/plain": "\"This is 'MINE'\""
     },
     "metadata": {},
     "execution_count": 20
    }
   ],
   "source": [
    "escaped2 = \"This is 'MINE'\"\n",
    "escaped2"
   ]
  },
  {
   "cell_type": "code",
   "execution_count": 21,
   "metadata": {},
   "outputs": [
    {
     "output_type": "execute_result",
     "data": {
      "text/plain": "'This is \"MINE\"'"
     },
     "metadata": {},
     "execution_count": 21
    }
   ],
   "source": [
    "escaped3 = 'This is \"MINE\"'\n",
    "escaped3"
   ]
  },
  {
   "cell_type": "markdown",
   "metadata": {},
   "source": [
    "エスケープシーケンス一覧\n",
    "\n",
    "|エスケープシーケンス|意味|\n",
    "|:---|:---:|\n",
    "|\\newline|文字列の途中で改行する。|\n",
    "|\\\\|バックスラッシュ|\n",
    "|\\'|シングルクォート|\n",
    "|\\\"|ダブルクォート|\n",
    "|\\a|ASCII端末ベル|\n",
    "|\\b|ASCIIバックスペース|\n",
    "|\\f|ASCIIフォームフィード|\n",
    "|\\n|ASCII行送り|\n",
    "|\\r|ASCII復帰|\n",
    "|\\t|ASCII水平タブ|\n",
    "|\\v|ASCII垂直タブ|\n",
    "|\\ooo|8進数oooを持つASCII文字|\n",
    "|\\xhh|16進数を持つASCII|\n",
    "|\\N{name}|Unicordデータベース中で名前`name`を持つ文字|\n",
    "|\\uxxxx|16ビットの16進数値xxxxを持つUnicord文字|\n",
    "|\\Uxxxxxxxx|32ビットの16進数値xxxxxxxxを持つUnicord文字|"
   ]
  },
  {
   "cell_type": "markdown",
   "metadata": {},
   "source": [
    "## 文字列の連結\n",
    "`+`演算子で文字列同士を連結出来る。  \n",
    "連結の際、連結の結果は新しい文字列として生成され、もとの文字列を変化させない。  \n",
    "（文字列はイミュータブル）"
   ]
  },
  {
   "cell_type": "code",
   "execution_count": 25,
   "metadata": {},
   "outputs": [
    {
     "output_type": "execute_result",
     "data": {
      "text/plain": "'hello world'"
     },
     "metadata": {},
     "execution_count": 25
    }
   ],
   "source": [
    "str_linking1 = 'hello'\n",
    "str_linking2 = ' world'\n",
    "str_linked = str_linking1 + str_linking2\n",
    "str_linked"
   ]
  },
  {
   "cell_type": "markdown",
   "metadata": {},
   "source": [
    "## 文字列とメソッド\n",
    "文字列に対する操作を行うため、様々なメソッド（関数のようなもの）が用意されている。  \n",
    "メソッドは必要に応じて、（...）に引数を与え、以下のように使用する。  \n",
    "\n",
    "```\n",
    "文字列.メソッド名(式, ...)\n",
    "# or\n",
    "文字列を格納した変数.メソッド名(式, ...)\n",
    "```"
   ]
  },
  {
   "cell_type": "markdown",
   "metadata": {},
   "source": [
    "## 置換\n",
    "`replace`メソッドは、指定した`部分文字列A`を、別に指定した`文字列B`に置き換えた文字列を作成する。  \n",
    "もとの文字列には変化を与えない。"
   ]
  },
  {
   "cell_type": "code",
   "execution_count": 1,
   "metadata": {},
   "outputs": [
    {
     "output_type": "execute_result",
     "data": {
      "text/plain": "'he123123o'"
     },
     "metadata": {},
     "execution_count": 1
    }
   ],
   "source": [
    "rep = 'hello'\n",
    "rep.replace('l', '123')"
   ]
  },
  {
   "cell_type": "code",
   "execution_count": 2,
   "metadata": {},
   "outputs": [
    {
     "output_type": "execute_result",
     "data": {
      "text/plain": "'hello'"
     },
     "metadata": {},
     "execution_count": 2
    }
   ],
   "source": [
    "rep "
   ]
  },
  {
   "cell_type": "markdown",
   "metadata": {},
   "source": [
    "## 練習\n",
    "英語の文章からなる文字列 str_engsentences が引数として与えられたとき、str_engsentences 中に含まれる全ての句読点（., ,, :, ;, !, ?）を削除した文字列を返す関数 remove_punctuations を作成してください。"
   ]
  },
  {
   "cell_type": "code",
   "execution_count": 9,
   "metadata": {},
   "outputs": [],
   "source": [
    "# 練習\n",
    "def remove_punctuations(str_engsentenceds):\n",
    "    str1 = str_engsentenceds.replace(',', '')\n",
    "    str1 = str1.replace('.', '')\n",
    "    str1 = str1.replace(';', '')\n",
    "    str1 = str1.replace(':', '')\n",
    "    str1 = str1.replace('!', '')\n",
    "    str1 = str1.replace('?', '')\n",
    "    return str1"
   ]
  },
  {
   "cell_type": "code",
   "execution_count": 10,
   "metadata": {
    "tags": []
   },
   "outputs": [
    {
     "output_type": "stream",
     "name": "stdout",
     "text": "Quiet uh donations you want me to make a donation to the coast guard youth auxiliary\n"
    }
   ],
   "source": [
    "print(remove_punctuations('Quiet, uh, donations, you want me to make a donation to the coast guard youth auxiliary'))"
   ]
  },
  {
   "cell_type": "markdown",
   "metadata": {},
   "source": [
    "## 練習\n",
    "ATGCの4種類の文字から成る文字列 str_atgc が引数として与えられたとき、文字列 str_pair を返す関数 atgc_bppair を作成してください。ただし、str_pair は、str_atgc 中の各文字列に対して、 A を T に、T を A に、G を C に、C を G に置き換えたものです。"
   ]
  },
  {
   "cell_type": "code",
   "execution_count": 13,
   "metadata": {},
   "outputs": [],
   "source": [
    "# 練習\n",
    "def atgc_bppair(str_agtc):\n",
    "    str_pair = str_agtc.replace('A', 't')\n",
    "    str_pair = str_pair.replace('T', 'a')\n",
    "    str_pair = str_pair.replace('G', 'c')\n",
    "    str_pair = str_pair.replace('C', 'g')\n",
    "    str_pair = str_pair.upper()\n",
    "    return str_pair"
   ]
  },
  {
   "cell_type": "code",
   "execution_count": 14,
   "metadata": {
    "tags": []
   },
   "outputs": [
    {
     "output_type": "stream",
     "name": "stdout",
     "text": "True\n"
    }
   ],
   "source": [
    "print(atgc_bppair('AAGCCCCATGGTAA') == 'TTCGGGGTACCATT')"
   ]
  },
  {
   "cell_type": "markdown",
   "metadata": {},
   "source": [
    "## 分割\n",
    "`split`メソッドは、指定した`区切り文字列B`で、`文字列A`を分割して、リストと呼ばれるデータに格納します。  \n",
    "\n",
    "```\n",
    "文字列A.split(区切り文字列B)\n",
    "```"
   ]
  },
  {
   "cell_type": "code",
   "execution_count": 1,
   "metadata": {},
   "outputs": [
    {
     "output_type": "execute_result",
     "data": {
      "text/plain": "['apple', 'banana', 'cherry']"
     },
     "metadata": {},
     "execution_count": 1
    }
   ],
   "source": [
    "fruits = 'apple,banana,cherry'\n",
    "fruits.split(',')"
   ]
  },
  {
   "cell_type": "markdown",
   "metadata": {},
   "source": [
    "## 検索\n",
    "`index`メソッドにより、指定した`部分文字列B`が`文字列A`のどこに存在するか調べることができます。具体的には、次のように使用します。  \n",
    "\n",
    "```\n",
    "文字列A.index(部分文字列B)\n",
    "```\n",
    "\n",
    "ただし、指定した部分文字列が文字列に複数回含まれる場合、最初のインデックスが返されます。また、指定した部分文字列が文字列に含まれない場合は、エラーとなります。"
   ]
  },
  {
   "cell_type": "code",
   "execution_count": 2,
   "metadata": {},
   "outputs": [
    {
     "output_type": "execute_result",
     "data": {
      "text/plain": "3"
     },
     "metadata": {},
     "execution_count": 2
    }
   ],
   "source": [
    "word = 'hello'\n",
    "word.index('lo')"
   ]
  },
  {
   "cell_type": "code",
   "execution_count": 3,
   "metadata": {},
   "outputs": [
    {
     "output_type": "execute_result",
     "data": {
      "text/plain": "2"
     },
     "metadata": {},
     "execution_count": 3
    }
   ],
   "source": [
    "word = 'hello'\n",
    "word.index('l')"
   ]
  },
  {
   "cell_type": "code",
   "execution_count": 4,
   "metadata": {},
   "outputs": [
    {
     "output_type": "error",
     "ename": "ValueError",
     "evalue": "substring not found",
     "traceback": [
      "\u001b[0;31m---------------------------------------------------------------------------\u001b[0m",
      "\u001b[0;31mValueError\u001b[0m                                Traceback (most recent call last)",
      "\u001b[0;32m<ipython-input-4-138270642a02>\u001b[0m in \u001b[0;36m<module>\u001b[0;34m\u001b[0m\n\u001b[1;32m      1\u001b[0m \u001b[0;31m# エラー\u001b[0m\u001b[0;34m\u001b[0m\u001b[0;34m\u001b[0m\u001b[0;34m\u001b[0m\u001b[0m\n\u001b[0;32m----> 2\u001b[0;31m \u001b[0mword\u001b[0m\u001b[0;34m.\u001b[0m\u001b[0mindex\u001b[0m\u001b[0;34m(\u001b[0m\u001b[0;34m'a'\u001b[0m\u001b[0;34m)\u001b[0m\u001b[0;34m\u001b[0m\u001b[0;34m\u001b[0m\u001b[0m\n\u001b[0m",
      "\u001b[0;31mValueError\u001b[0m: substring not found"
     ]
    }
   ],
   "source": [
    "# エラー\n",
    "word.index('a')"
   ]
  },
  {
   "cell_type": "markdown",
   "metadata": {},
   "source": [
    "`find`メソッドも`index`と同様に部分文字列を検索し、最初に出現するインデックスを返します。  \n",
    "`index`との違いは、部分文字列が含まれない場合エラーとはならず`-1`が返されることです。"
   ]
  },
  {
   "cell_type": "code",
   "execution_count": 6,
   "metadata": {},
   "outputs": [
    {
     "output_type": "execute_result",
     "data": {
      "text/plain": "-1"
     },
     "metadata": {},
     "execution_count": 6
    }
   ],
   "source": [
    "word = 'hello'\n",
    "word.find('a')"
   ]
  },
  {
   "cell_type": "markdown",
   "metadata": {},
   "source": [
    "## 練習\n",
    "コロン`(:)`を1つだけ含む文字列`str1`を引数として与えると、コロンの左右に存在する文字列を入れ替えた文字列を返す関数`swap_colon(str1)`を作成してください。  \n",
    "次のセルの`...`のところを書き換えて`swap_colon(str1)`を作成してください。"
   ]
  },
  {
   "cell_type": "code",
   "execution_count": 7,
   "metadata": {},
   "outputs": [],
   "source": [
    "def swap_colon(str1):\n",
    "    col_index = str1.index(':')\n",
    "    str2 = str1[:col_index]\n",
    "    str3 = str1[col_index + 1:]\n",
    "    str4 = str3 + ':' + str2\n",
    "    return str4"
   ]
  },
  {
   "cell_type": "code",
   "execution_count": 8,
   "metadata": {
    "tags": []
   },
   "outputs": [
    {
     "output_type": "stream",
     "name": "stdout",
     "text": "True\n"
    }
   ],
   "source": [
    "print(swap_colon('hello:world') == 'world:hello')"
   ]
  },
  {
   "cell_type": "code",
   "execution_count": 13,
   "metadata": {
    "tags": []
   },
   "outputs": [],
   "source": [
    "def swap_colon2(str1):\n",
    "    str2 = str1.split(':')\n",
    "    str3 = str2[0]\n",
    "    str4 = str2[1]\n",
    "    str5 = str4 + ':' + str3\n",
    "    return str5"
   ]
  },
  {
   "cell_type": "code",
   "execution_count": 14,
   "metadata": {
    "tags": []
   },
   "outputs": [
    {
     "output_type": "stream",
     "name": "stdout",
     "text": "True\n"
    }
   ],
   "source": [
    "print(swap_colon2('hello:world') == 'world:hello')"
   ]
  },
  {
   "cell_type": "markdown",
   "metadata": {},
   "source": [
    "## 数え上げ\n",
    "`count`メソッドにより、指定した`部分文字列B`が`文字列A`にいくつ存在するか調べることができます。  \n",
    "\n",
    "```\n",
    "文字列A.count(部分文字列B)\n",
    "```"
   ]
  },
  {
   "cell_type": "code",
   "execution_count": 15,
   "metadata": {},
   "outputs": [
    {
     "output_type": "execute_result",
     "data": {
      "text/plain": "2"
     },
     "metadata": {},
     "execution_count": 15
    }
   ],
   "source": [
    "word = 'hello'\n",
    "word.count('l')"
   ]
  },
  {
   "cell_type": "code",
   "execution_count": 20,
   "metadata": {},
   "outputs": [
    {
     "output_type": "execute_result",
     "data": {
      "text/plain": "6"
     },
     "metadata": {},
     "execution_count": 20
    }
   ],
   "source": [
    "'aaaaaaaaaaaaa'.count('aa')"
   ]
  },
  {
   "cell_type": "markdown",
   "metadata": {},
   "source": [
    "## 練習 \n",
    "ATGCの4種類の文字から成る文字列`str_atgc`と塩基名（A, T, G, C のいずれか）を指定する文字列`str_bpname`が引数として与えられたとき、`str_atgc`中に含まれる塩基`str_bpname`の数を返す関数`atgc_count`を作成してください。"
   ]
  },
  {
   "cell_type": "code",
   "execution_count": 21,
   "metadata": {},
   "outputs": [],
   "source": [
    "def atgc_count(str_atgc, str_bpname):\n",
    "    atgc_count = str_atgc.count(str_bpname)\n",
    "    return atgc_count"
   ]
  },
  {
   "cell_type": "code",
   "execution_count": 22,
   "metadata": {
    "tags": []
   },
   "outputs": [
    {
     "output_type": "stream",
     "name": "stdout",
     "text": "True\n"
    }
   ],
   "source": [
    "print(atgc_count('AAGCCCCATGGTAA', 'A') == 5)"
   ]
  },
  {
   "cell_type": "markdown",
   "metadata": {},
   "source": [
    "## 大文字・小文字\n",
    "`lower`,`capitalize`,`upper`メソッドを用いると、文字列の中の英文字を小文字に変換したり、大文字に変換したりすることができます。  \n",
    "これらの操作では、元の文字列は変化しません。"
   ]
  },
  {
   "cell_type": "code",
   "execution_count": 23,
   "metadata": {},
   "outputs": [
    {
     "output_type": "execute_result",
     "data": {
      "text/plain": "'dna'"
     },
     "metadata": {},
     "execution_count": 23
    }
   ],
   "source": [
    "upper_dna = 'DNA'\n",
    "upper_dna.lower()"
   ]
  },
  {
   "cell_type": "code",
   "execution_count": 24,
   "metadata": {},
   "outputs": [
    {
     "output_type": "execute_result",
     "data": {
      "text/plain": "'HELLO WORLD'"
     },
     "metadata": {},
     "execution_count": 24
    }
   ],
   "source": [
    "lower_txt = 'hello world'\n",
    "lower_txt.upper()"
   ]
  },
  {
   "cell_type": "code",
   "execution_count": 25,
   "metadata": {},
   "outputs": [
    {
     "output_type": "execute_result",
     "data": {
      "text/plain": "'Hello world'"
     },
     "metadata": {},
     "execution_count": 25
    }
   ],
   "source": [
    "lower_txt.capitalize()"
   ]
  },
  {
   "cell_type": "markdown",
   "metadata": {},
   "source": [
    " ## 文字列の比較演算\n",
    "比較演算子`==`, `<`, `> `などを用いて、2つの文字列を比較することもできます。 "
   ]
  },
  {
   "cell_type": "code",
   "execution_count": 1,
   "metadata": {
    "tags": []
   },
   "outputs": [
    {
     "output_type": "stream",
     "name": "stdout",
     "text": "True\nFalse\n"
    }
   ],
   "source": [
    "print('abc' == 'abc')\n",
    "print('ab' == 'abc')"
   ]
  },
  {
   "cell_type": "code",
   "execution_count": 2,
   "metadata": {
    "tags": []
   },
   "outputs": [
    {
     "output_type": "stream",
     "name": "stdout",
     "text": "False\nTrue\n"
    }
   ],
   "source": [
    "print('abc' != 'abc')\n",
    "print('ab' != 'abc')"
   ]
  },
  {
   "cell_type": "markdown",
   "metadata": {},
   "source": [
    "文字列の大小の比較は、いわゆる辞書式による比較で、文字列の最初の文字から順に比較して大小を決めます。 片方がもう片方を拡張したものであれば、拡張した方を大きいとします。"
   ]
  },
  {
   "cell_type": "code",
   "execution_count": 3,
   "metadata": {
    "tags": []
   },
   "outputs": [
    {
     "output_type": "stream",
     "name": "stdout",
     "text": "True\nFalse\nTrue\nTrue\n"
    }
   ],
   "source": [
    "print('abc' <= 'abc')\n",
    "print('abc' < 'abc')\n",
    "print('abc' < 'abd')\n",
    "print('ab' < 'abc')"
   ]
  },
  {
   "cell_type": "markdown",
   "metadata": {},
   "source": [
    "## 練習\n",
    "英語の文字列`str_engsentences`が引数として与えられたとき、それが全て小文字である場合、`True`を返し、そうでない場合、`False`を返す関数`check_lower`を作成してください。  \n",
    "次のセルの`...`のところを書き換えて`check_lower(str_engsentences)`を作成してください。"
   ]
  },
  {
   "cell_type": "code",
   "execution_count": 4,
   "metadata": {},
   "outputs": [],
   "source": [
    "def check_lower(str_ensentences):\n",
    "    return str_ensentences == str_ensentences.lower()"
   ]
  },
  {
   "cell_type": "code",
   "execution_count": 6,
   "metadata": {
    "tags": []
   },
   "outputs": [
    {
     "output_type": "stream",
     "name": "stdout",
     "text": "True\nTrue\n"
    }
   ],
   "source": [
    "print(check_lower('down down down') == True)\n",
    "print(check_lower('There were doors all round the hall, but they were all locked') == False)"
   ]
  },
  {
   "cell_type": "markdown",
   "metadata": {},
   "source": [
    "## 初心者によくある誤解 - 変数と文字列の混乱\n",
    "初心者によくある誤解として、変数と文字列を混乱する例が見られます。たとえば、文字列を引数に取る次のような関数`func`を考えます（ func は引数として与えられた文字列を大文字にして返す関数です）。"
   ]
  },
  {
   "cell_type": "code",
   "execution_count": 1,
   "metadata": {},
   "outputs": [],
   "source": [
    "def func(str1):\n",
    "    return str1.upper()"
   ]
  },
  {
   "cell_type": "markdown",
   "metadata": {},
   "source": [
    "ここで変数`str2`を引数として`func`を呼ぶと`str2`に格納されている文字列が処理されて戻って来る。"
   ]
  },
  {
   "cell_type": "code",
   "execution_count": 2,
   "metadata": {},
   "outputs": [
    {
     "output_type": "execute_result",
     "data": {
      "text/plain": "'ABC'"
     },
     "metadata": {},
     "execution_count": 2
    }
   ],
   "source": [
    "str2 = 'abc'\n",
    "func(str2)"
   ]
  },
  {
   "cell_type": "markdown",
   "metadata": {},
   "source": [
    "次のように`func`を呼ぶと結果が変わってくる。"
   ]
  },
  {
   "cell_type": "code",
   "execution_count": 3,
   "metadata": {},
   "outputs": [
    {
     "output_type": "execute_result",
     "data": {
      "text/plain": "'STR2'"
     },
     "metadata": {},
     "execution_count": 3
    }
   ],
   "source": [
    "str2 = 'abc'\n",
    "func('str2')"
   ]
  },
  {
   "cell_type": "markdown",
   "metadata": {},
   "source": [
    "変数名をクォートで囲ってしまっているので文字列になってしまっている。"
   ]
  },
  {
   "cell_type": "markdown",
   "metadata": {},
   "source": [
    "## 練習\n",
    "コンマ`(,)`を含む英語の文章からなる文字列`str_engsentences`が引数として与えられたとき、`str_engsentences`中の一番最初のコンマより後の文章のみかならなる文字列`str_res`を返す関数`remove_clause`を作成してください。ただし、 str_res の先頭は大文字のアルファベットとしてください。  \n",
    "次のセルの`...`のところを書き換えて`remove_clause(str_engsentences)`を作成してください。"
   ]
  },
  {
   "cell_type": "code",
   "execution_count": 22,
   "metadata": {},
   "outputs": [],
   "source": [
    "def remove_clause(str_ensentences):\n",
    "    splitter = str_ensentences.find(',')\n",
    "    spl2 = str_ensentences[splitter+2:]\n",
    "    return spl2.capitalize()"
   ]
  },
  {
   "cell_type": "code",
   "execution_count": 23,
   "metadata": {
    "tags": []
   },
   "outputs": [
    {
     "output_type": "stream",
     "name": "stdout",
     "text": "True\nBut you aren't observing.\n"
    }
   ],
   "source": [
    "print(remove_clause(\"It's being seen, but you aren't observing.\") == \"But you aren't observing.\")\n",
    "print(remove_clause(\"It's being seen, but you aren't observing.\"))"
   ]
  }
 ]
}