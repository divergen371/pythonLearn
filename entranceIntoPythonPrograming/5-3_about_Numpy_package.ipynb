{
 "cells": [
  {
   "cell_type": "markdown",
   "metadata": {
    "collapsed": true,
    "pycharm": {
     "name": "#%% md\n"
    }
   },
   "source": [
    "# Numpy\n",
    "\n",
    "Numpyとは多次元配列を効率的に扱うためのライブラリである。\n",
    "標準ライブラリではないが、科学技術計算や機械学習など、ベクトル、行列演算が多用される\n",
    "分野ではデファクトスタンダードとなっている。\n"
   ]
  },
  {
   "cell_type": "code",
   "execution_count": 1,
   "outputs": [],
   "source": [
    "# インポート・別名でnpとして利用されることが多い\n",
    "import numpy as np"
   ],
   "metadata": {
    "collapsed": false,
    "pycharm": {
     "name": "#%%\n"
    }
   }
  },
  {
   "cell_type": "markdown",
   "source": [
    "## 配列の構築\n",
    "配列とは特定の型の値の並びである。\n",
    "要素が同じであればリストやタプル、どちらを用いても同じ配列（というデータ型）を作ることが出来る。"
   ],
   "metadata": {
    "collapsed": false,
    "pycharm": {
     "name": "#%% md\n"
    }
   }
  },
  {
   "cell_type": "code",
   "execution_count": 2,
   "outputs": [
    {
     "name": "stdout",
     "output_type": "stream",
     "text": [
      "[1 2 3]\n",
      "[1 2 3]\n",
      "<class 'numpy.ndarray'>\n"
     ]
    }
   ],
   "source": [
    "a = np.array([1,2,3])\n",
    "print(a)\n",
    "b = np.array((1,2,3))\n",
    "print(b)\n",
    "c = type(a)  # 配列はnumpy.ndarrayというデータ型となっている\n",
    "print(c)"
   ],
   "metadata": {
    "collapsed": false,
    "pycharm": {
     "name": "#%%\n"
    }
   }
  },
  {
   "cell_type": "markdown",
   "source": [
    "## 構成する要素の型\n",
    "\n",
    "| 型名 | 説明 |\n",
    "|:---|:---|\n",
    "|numpy.int32|整数(32-bit)を表す|\n",
    "|numpy.float64|実数(64-bit)を表す|\n",
    "|numpy.complex128|複素数(64-bit実数の組)を表す|\n",
    "|numpy.bool|真理値を表す型|\n",
    "\n",
    "リストとは異なり、異なる型の値を混在させることはできない。\n",
    "arrayのdtype引数に要素の型を表すオブジェクトや文字列を与えることで、任意の型の配列を作ることが出来る。"
   ],
   "metadata": {
    "collapsed": false,
    "pycharm": {
     "name": "#%% md\n"
    }
   }
  },
  {
   "cell_type": "code",
   "execution_count": 3,
   "outputs": [
    {
     "name": "stdout",
     "output_type": "stream",
     "text": [
      "[-1  0  1]\n",
      "[-1.  0.  1.]\n",
      "[-1.+0.j  0.+0.j  1.+0.j]\n",
      "[ True False  True]\n"
     ]
    }
   ],
   "source": [
    "print(np.array([-1,0,1], dtype=np.int32)) # int32でも可\n",
    "\n",
    "print(np.array([-1,0,1], dtype=np.float64)) # float64でも可\n",
    "\n",
    "print(np.array([-1,0,1], dtype=np.complex128)) # complex128でも可\n",
    "\n",
    "print(np.array([-1,0,1], dtype=np.bool)) #boolでも可"
   ],
   "metadata": {
    "collapsed": false,
    "pycharm": {
     "name": "#%%\n"
    }
   }
  },
  {
   "cell_type": "markdown",
   "source": [
    "## 多次元配列\n"
   ],
   "metadata": {
    "collapsed": false,
    "pycharm": {
     "name": "#%% md\n"
    }
   }
  },
  {
   "cell_type": "code",
   "execution_count": 4,
   "outputs": [
    {
     "name": "stdout",
     "output_type": "stream",
     "text": [
      "[[1 2]\n",
      " [3 4]]\n",
      "[[[1 2]\n",
      "  [3 4]]\n",
      "\n",
      " [[5 6]\n",
      "  [7 8]]]\n"
     ]
    }
   ],
   "source": [
    "print(np.array([[1,2], [3,4]])) # 二次元配列\n",
    "\n",
    "print(np.array([[[1,2],[3,4]],[[5,6],[7,8]]])) # 三次元配列"
   ],
   "metadata": {
    "collapsed": false,
    "pycharm": {
     "name": "#%%\n"
    }
   }
  },
  {
   "cell_type": "markdown",
   "source": [
    "配列の長さが等しくない場合、多次元配列とは見做されず、リストの配列として扱われる。\n",
    "多次元配列の各次元の長さの組を、形(shape)と呼び、数学の行列と同じように行×列で表す。\n"
   ],
   "metadata": {
    "collapsed": false,
    "pycharm": {
     "name": "#%% md\n"
    }
   }
  },
  {
   "cell_type": "code",
   "execution_count": 5,
   "outputs": [
    {
     "name": "stdout",
     "output_type": "stream",
     "text": [
      "[[0 1 2]\n",
      " [3 4 5]]\n"
     ]
    }
   ],
   "source": [
    "# 一次元配列を多次元配列に変換する・reshape()メソッド\n",
    "\n",
    "a1 = np.array([0,1,2,3,4,5])\n",
    "a2 = a1.reshape(2,3)\n",
    "print(a2)"
   ],
   "metadata": {
    "collapsed": false,
    "pycharm": {
     "name": "#%%\n"
    }
   }
  },
  {
   "cell_type": "code",
   "execution_count": 6,
   "outputs": [
    {
     "name": "stdout",
     "output_type": "stream",
     "text": [
      "[0 6 2 3 4 5]\n",
      "[[0 6 2]\n",
      " [3 4 5]]\n"
     ]
    }
   ],
   "source": [
    "# reshapeを適用する前後の配列は内部的にデータを共有している\n",
    "a1[1] = 6\n",
    "print(a1)\n",
    "print(a2)"
   ],
   "metadata": {
    "collapsed": false,
    "pycharm": {
     "name": "#%%\n"
    }
   }
  },
  {
   "cell_type": "code",
   "execution_count": 7,
   "outputs": [
    {
     "name": "stdout",
     "output_type": "stream",
     "text": [
      "[[0 1 2]\n",
      " [3 4 5]]\n",
      "[0 1 2 3 4 5]\n"
     ]
    }
   ],
   "source": [
    "# ravel()メソッドで多次元配列を一次元配列に戻す・こちらも内部的にデータを共有している\n",
    "a = np.array([0,1,2,3,4,5]).reshape(2,3)\n",
    "print(a)\n",
    "print(a.ravel())"
   ],
   "metadata": {
    "collapsed": false,
    "pycharm": {
     "name": "#%%\n"
    }
   }
  },
  {
   "cell_type": "markdown",
   "source": [
    "## 配列のデータ属性\n",
    "\n",
    "|属性|意味|\n",
    "|:---|:---|\n",
    "|a.dtype|配列`a`の要素型|\n",
    "|a.shape|配列`a`の形|\n",
    "|a.nidm|配列`a`の次元数(`len(a.shape)`に等しい|\n",
    "|a.size|配列`a`の要素数(`a.shape`の総乗と等しい|\n",
    "|a.flat|配列`a`の1次元表現(`a.ravel()`と等しい|\n",
    "|a.T|配列`a`を転置した配列(`a`と要素を共有)|\n",
    "\n",
    "## 配列要素を生成する構築関数\n",
    "\n",
    "要素を生成して配列を構築する代表的な関数。\n",
    "特に断りがない場合は、`array()`と同様に`dtype`引数で要素型を」指定できる。\n"
   ],
   "metadata": {
    "collapsed": false,
    "pycharm": {
     "name": "#%% md\n"
    }
   }
  },
  {
   "cell_type": "code",
   "execution_count": 8,
   "outputs": [
    {
     "name": "stdout",
     "output_type": "stream",
     "text": [
      "[0 1 2]\n",
      "[0.  0.2 0.4 0.6 0.8]\n"
     ]
    }
   ],
   "source": [
    "# arange・rangeの配列版\n",
    "print(np.arange(3))\n",
    "print(np.arange(0, 1, 0.2))"
   ],
   "metadata": {
    "collapsed": false,
    "pycharm": {
     "name": "#%%\n"
    }
   }
  },
  {
   "cell_type": "code",
   "execution_count": 9,
   "outputs": [
    {
     "name": "stdout",
     "output_type": "stream",
     "text": [
      "[0.         0.11111111 0.22222222 0.33333333 0.44444444 0.55555556\n",
      " 0.66666667 0.77777778 0.88888889 1.        ]\n"
     ]
    }
   ],
   "source": [
    "# linspace\n",
    "# 範囲を等分割した値からなる配列を生成する。\n",
    "# 第一引数と第二引数にそれぞれ始点と終点、第三引数に分割数を指定する\n",
    "\n",
    "print(np.linspace(0, 1, 10))"
   ],
   "metadata": {
    "collapsed": false,
    "pycharm": {
     "name": "#%%\n"
    }
   }
  },
  {
   "cell_type": "code",
   "execution_count": 10,
   "outputs": [
    {
     "name": "stdout",
     "output_type": "stream",
     "text": [
      "[0. 0. 0. 0.]\n",
      "[[0. 0. 0.]\n",
      " [0. 0. 0.]]\n",
      "[1. 1. 1.]\n",
      "[[1. 1. 1.]\n",
      " [1. 1. 1.]]\n"
     ]
    }
   ],
   "source": [
    "# zeros・0からなる配列を生成する\n",
    "print(np.zeros(4)) # 長さ4の一次元配列\n",
    "print(np.zeros((2,3))) # 2×３の二次元配列\n",
    "\n",
    "# ones・1からなる配列を生成する\n",
    "print(np.ones(3))\n",
    "print(np.ones((2,3)))"
   ],
   "metadata": {
    "collapsed": false,
    "pycharm": {
     "name": "#%%\n"
    }
   }
  },
  {
   "cell_type": "code",
   "execution_count": 11,
   "outputs": [
    {
     "name": "stdout",
     "output_type": "stream",
     "text": [
      "[0.82235639 0.96979477 0.22340876 0.23081966]\n",
      "[[0.67357422 0.43530889 0.81659237]\n",
      " [0.34823361 0.917945   0.70842767]]\n",
      "[ 0.23146488  0.47615974  0.17414099 -1.73209465]\n",
      "2\n",
      "3\n"
     ]
    }
   ],
   "source": [
    "# ranodm.rand・0以上1未満の乱数からなる配列を生成する\n",
    "print(np.random.rand(4))\n",
    "print(np.random.rand(2,3))\n",
    "print(np.random.randn(4)) # 正規分布\n",
    "print(np.random.binomial(10,0.2)) # 二項分布\n",
    "print(np.random.poisson(4)) # ポアソン分布"
   ],
   "metadata": {
    "collapsed": false,
    "pycharm": {
     "name": "#%%\n"
    }
   }
  },
  {
   "cell_type": "code",
   "execution_count": 12,
   "outputs": [],
   "source": [
    "def range_square_matrix(n):\n",
    "    return np.array([np.arange(i, n+i) for i in range(n)])"
   ],
   "metadata": {
    "collapsed": false,
    "pycharm": {
     "name": "#%%\n"
    }
   }
  },
  {
   "cell_type": "code",
   "execution_count": 13,
   "outputs": [
    {
     "data": {
      "text/plain": "array([[0, 1, 2],\n       [1, 2, 3],\n       [2, 3, 4]])"
     },
     "execution_count": 13,
     "metadata": {},
     "output_type": "execute_result"
    }
   ],
   "source": [
    "range_square_matrix(3)"
   ],
   "metadata": {
    "collapsed": false,
    "pycharm": {
     "name": "#%%\n"
    }
   }
  },
  {
   "cell_type": "code",
   "source": [
    "arr1 = np.arange(0,15)\n",
    "arr1"
   ],
   "metadata": {
    "collapsed": false,
    "pycharm": {
     "name": "#%%\n"
    }
   },
   "execution_count": 19,
   "outputs": [
    {
     "data": {
      "text/plain": "array([ 0,  1,  2,  3,  4,  5,  6,  7,  8,  9, 10, 11, 12, 13, 14])"
     },
     "execution_count": 19,
     "metadata": {},
     "output_type": "execute_result"
    }
   ]
  },
  {
   "cell_type": "code",
   "execution_count": 35,
   "outputs": [
    {
     "data": {
      "text/plain": "array([[ 1,  2,  3,  4,  5],\n       [ 6,  7,  8,  9, 10],\n       [11, 12, 13, 14, 15]])"
     },
     "execution_count": 35,
     "metadata": {},
     "output_type": "execute_result"
    }
   ],
   "source": [
    "arr2 = arr1.reshape(3,5)\n",
    "arr2 + 1"
   ],
   "metadata": {
    "collapsed": false,
    "pycharm": {
     "name": "#%%\n"
    }
   }
  },
  {
   "cell_type": "code",
   "execution_count": 27,
   "outputs": [
    {
     "data": {
      "text/plain": "array([7])"
     },
     "execution_count": 27,
     "metadata": {},
     "output_type": "execute_result"
    }
   ],
   "source": [
    "arr1[0]\n",
    "arr2[1,2:3]"
   ],
   "metadata": {
    "collapsed": false,
    "pycharm": {
     "name": "#%%\n"
    }
   }
  },
  {
   "cell_type": "code",
   "execution_count": 28,
   "outputs": [
    {
     "data": {
      "text/plain": "[2, 3, 4]"
     },
     "execution_count": 28,
     "metadata": {},
     "output_type": "execute_result"
    }
   ],
   "source": [
    "ln = [1,2,3]\n",
    "[x + 1 for x in ln ]"
   ],
   "metadata": {
    "collapsed": false,
    "pycharm": {
     "name": "#%%\n"
    }
   }
  },
  {
   "cell_type": "code",
   "execution_count": 30,
   "outputs": [
    {
     "data": {
      "text/plain": "array([ 1,  2,  3,  4,  5,  6,  7,  8,  9, 10, 11, 12, 13, 14, 15])"
     },
     "execution_count": 30,
     "metadata": {},
     "output_type": "execute_result"
    }
   ],
   "source": [
    "arr1 + 1"
   ],
   "metadata": {
    "collapsed": false,
    "pycharm": {
     "name": "#%%\n"
    }
   }
  },
  {
   "cell_type": "code",
   "execution_count": 41,
   "outputs": [
    {
     "data": {
      "text/plain": "array([[ 0,  2,  4,  6,  8],\n       [ 5,  7,  9, 11, 13],\n       [10, 12, 14, 16, 18]])"
     },
     "execution_count": 41,
     "metadata": {},
     "output_type": "execute_result"
    }
   ],
   "source": [
    "arr3 = np.arange(0,5)\n",
    "arr2 + arr3"
   ],
   "metadata": {
    "collapsed": false,
    "pycharm": {
     "name": "#%%\n"
    }
   }
  },
  {
   "cell_type": "code",
   "execution_count": 43,
   "outputs": [
    {
     "data": {
      "text/plain": "array([[        1,         1,         4,        27,       256],\n       [        0,         1,       128,      6561,    262144],\n       [        0,         1,      4096,   1594323, 268435456]])"
     },
     "execution_count": 43,
     "metadata": {},
     "output_type": "execute_result"
    }
   ],
   "source": [
    "np.power(arr3, arr2)"
   ],
   "metadata": {
    "collapsed": false,
    "pycharm": {
     "name": "#%%\n"
    }
   }
  },
  {
   "cell_type": "code",
   "execution_count": null,
   "outputs": [],
   "source": [],
   "metadata": {
    "collapsed": false,
    "pycharm": {
     "name": "#%%\n"
    }
   }
  }
 ],
 "metadata": {
  "kernelspec": {
   "display_name": "Python 3",
   "language": "python",
   "name": "python3"
  },
  "language_info": {
   "codemirror_mode": {
    "name": "ipython",
    "version": 2
   },
   "file_extension": ".py",
   "mimetype": "text/x-python",
   "name": "python",
   "nbconvert_exporter": "python",
   "pygments_lexer": "ipython2",
   "version": "2.7.6"
  }
 },
 "nbformat": 4,
 "nbformat_minor": 0
}