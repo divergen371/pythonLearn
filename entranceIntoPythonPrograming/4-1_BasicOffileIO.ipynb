{
 "cells": [
  {
   "cell_type": "markdown",
   "metadata": {
    "collapsed": true,
    "pycharm": {
     "name": "#%% md\n"
    }
   },
   "source": [
    "# ファイル入出力の基本\n"
   ]
  },
  {
   "cell_type": "markdown",
   "source": [
    "## ファイルのオープン\n",
    "\n",
    "ファイルから文字列を読み込んだり、ファイルに書き込んだりするには\n",
    "`open()`という関数でファイルをオープンする必要がある。\n",
    "\n",
    "```\n",
    "f = open('ターゲットとなるファイル', モード)\n",
    "```\n",
    "`sample.txt`というファイルを開きたかったら\n",
    "\n",
    "```\n",
    "f = open('sasmple.txt', r)\n",
    "```\n",
    "ファイルの指定は、相対パスあるいは絶対パスのどちらでも良い。\n",
    "\n",
    "モードは`r`が読み込み、`w`が書き込み、`a`が追記、`+`が読み書きどちらも指定となる。"
   ],
   "metadata": {
    "collapsed": false,
    "pycharm": {
     "name": "#%% md\n"
    }
   }
  },
  {
   "cell_type": "code",
   "execution_count": 1,
   "outputs": [],
   "source": [
    "f = open('fileIO.txt', 'r')"
   ],
   "metadata": {
    "collapsed": false,
    "pycharm": {
     "name": "#%%\n"
    }
   }
  },
  {
   "cell_type": "markdown",
   "source": [
    "## ファイルのクローズ\n",
    "\n",
    "ファイルオブジェクトは用が済んだら原則`close()`で閉じる。\n",
    "\n",
    "```\n",
    "f.close()\n",
    "```\n",
    "\n",
    "放置するとトラブルの原因になるので`close()`あるいは`with文`で処理する。"
   ],
   "metadata": {
    "collapsed": false
   }
  },
  {
   "cell_type": "code",
   "execution_count": 2,
   "outputs": [],
   "source": [
    "f.close()"
   ],
   "metadata": {
    "collapsed": false,
    "pycharm": {
     "name": "#%%\n"
    }
   }
  },
  {
   "cell_type": "markdown",
   "source": [
    "## 行の読み込み\n",
    "\n",
    "ファイルオブジェクトには`readline()`というメソッドを適用することが出来る。\n",
    "ファイルから1行読み込んで文字列として返す。\n",
    "1行は、ファイルの先頭か改行文字の次の文字からファイルの終わり、もしくは改行文字\n",
    "までの文字列。\n",
    "必ずしも改行で終わらない。\n",
    "ファイルの終わりに達すると空文字列を返す。\n"
   ],
   "metadata": {
    "collapsed": false,
    "pycharm": {
     "name": "#%% md\n"
    }
   }
  },
  {
   "cell_type": "code",
   "execution_count": 3,
   "outputs": [
    {
     "data": {
      "text/plain": "'hoge\\n'"
     },
     "execution_count": 3,
     "metadata": {},
     "output_type": "execute_result"
    }
   ],
   "source": [
    "f = open('fileIO.txt', 'r')\n",
    "\n",
    "f.readline()"
   ],
   "metadata": {
    "collapsed": false,
    "pycharm": {
     "name": "#%%\n"
    }
   }
  },
  {
   "cell_type": "code",
   "execution_count": 4,
   "outputs": [
    {
     "data": {
      "text/plain": "['oh\\n', 'hogehoge\\n', 'yes\\n', 'hoge']"
     },
     "execution_count": 4,
     "metadata": {},
     "output_type": "execute_result"
    }
   ],
   "source": [
    "f.readlines()"
   ],
   "metadata": {
    "collapsed": false,
    "pycharm": {
     "name": "#%%\n"
    }
   }
  },
  {
   "cell_type": "code",
   "execution_count": 5,
   "outputs": [
    {
     "data": {
      "text/plain": "''"
     },
     "execution_count": 5,
     "metadata": {},
     "output_type": "execute_result"
    }
   ],
   "source": [
    "f.readline()"
   ],
   "metadata": {
    "collapsed": false,
    "pycharm": {
     "name": "#%%\n"
    }
   }
  },
  {
   "cell_type": "code",
   "execution_count": 6,
   "outputs": [],
   "source": [
    "f.close()"
   ],
   "metadata": {
    "collapsed": false,
    "pycharm": {
     "name": "#%%\n"
    }
   }
  },
  {
   "cell_type": "code",
   "execution_count": 7,
   "outputs": [
    {
     "data": {
      "text/plain": "'hoge'"
     },
     "execution_count": 7,
     "metadata": {},
     "output_type": "execute_result"
    }
   ],
   "source": [
    "def last_line(name):\n",
    "    last = ''\n",
    "    with open(name, 'r') as f:\n",
    "        while True:\n",
    "            line = f.readline()\n",
    "            if line == '':\n",
    "                return last\n",
    "            last = line\n",
    "\n",
    "last_line('fileIO.txt')"
   ],
   "metadata": {
    "collapsed": false,
    "pycharm": {
     "name": "#%%\n"
    }
   }
  },
  {
   "cell_type": "markdown",
   "source": [
    "## ファイル全体の読み込み\n",
    "ファイル全体を一括で読み込んで、一つの文字列として出力させたい場合は\n",
    "`read()`メソッドを使う。\n",
    "一度`read()`メソッドで読み込ませるとファイルの終端に到達するので、それ以降は\n",
    "空文字列を返す。\n",
    "\n",
    "`read()`メソッドは内部的には`readline()`メソッドを呼び出している。\n",
    "したがって、ファイルオブジェクトを消費する。"
   ],
   "metadata": {
    "collapsed": false,
    "pycharm": {
     "name": "#%% md\n"
    }
   }
  },
  {
   "cell_type": "code",
   "execution_count": 8,
   "outputs": [
    {
     "data": {
      "text/plain": "'hoge\\noh\\nhogehoge\\nyes\\nhoge'"
     },
     "execution_count": 8,
     "metadata": {},
     "output_type": "execute_result"
    }
   ],
   "source": [
    "f = open('fileIO.txt', 'r')\n",
    "f.read()"
   ],
   "metadata": {
    "collapsed": false,
    "pycharm": {
     "name": "#%%\n"
    }
   }
  },
  {
   "cell_type": "code",
   "execution_count": 9,
   "outputs": [
    {
     "data": {
      "text/plain": "''"
     },
     "execution_count": 9,
     "metadata": {},
     "output_type": "execute_result"
    }
   ],
   "source": [
    "f.read()\n"
   ],
   "metadata": {
    "collapsed": false,
    "pycharm": {
     "name": "#%%\n"
    }
   }
  },
  {
   "cell_type": "code",
   "execution_count": 10,
   "outputs": [
    {
     "data": {
      "text/plain": "25"
     },
     "execution_count": 10,
     "metadata": {},
     "output_type": "execute_result"
    }
   ],
   "source": [
    "# readメソッドでファイルの内容を終端までまとめて出力\n",
    "\n",
    "def number_of_characters(name):\n",
    "    f = open(name, 'r')\n",
    "    s = f.read()\n",
    "    f.close()\n",
    "    return len(s)\n",
    "\n",
    "number_of_characters('fileIO.txt')"
   ],
   "metadata": {
    "collapsed": false,
    "pycharm": {
     "name": "#%%\n"
    }
   }
  },
  {
   "cell_type": "markdown",
   "source": [
    "## 編集中のファイルの動作\n",
    "\n",
    "プログラムでファイルを開くと、そのプログラム内でそのファイルを閉じない限り\n",
    "他のプログラムで利用することはできない。\n",
    "（表計算ソフトの排他制御のようなイメージ）\n",
    "つまり、`close()`メソッドを忘れてはいけない。\n",
    "\n"
   ],
   "metadata": {
    "collapsed": false,
    "pycharm": {
     "name": "#%% md\n"
    }
   }
  },
  {
   "cell_type": "markdown",
   "source": [
    "## ファイルに対するwith文\n",
    "\n",
    "`close()`メソッドが重要なのはわかっていても、忘れることがあるのは間違いない。\n",
    "プログラム中で自身でクローズするなんてうっかりやらかしそうである。\n",
    "そこで、with文を使う。\n",
    "\n",
    "```\n",
    "with ファイルオブジェクト as 変数:\n",
    "    ファイルオブジェクトに対する処理\n",
    "\n",
    "```\n",
    "\n",
    "with文は処理が終わったら自動でファイルオブジェクトをクローズしてくれる。\n"
   ],
   "metadata": {
    "collapsed": false,
    "pycharm": {
     "name": "#%% md\n"
    }
   }
  },
  {
   "cell_type": "code",
   "execution_count": 11,
   "outputs": [
    {
     "name": "stdout",
     "output_type": "stream",
     "text": [
      "hoge\n",
      "oh\n",
      "hogehoge\n",
      "yes\n",
      "hoge\n"
     ]
    }
   ],
   "source": [
    "with open('fileIO.txt', 'r') as f:\n",
    "    print(f.read())"
   ],
   "metadata": {
    "collapsed": false,
    "pycharm": {
     "name": "#%%\n"
    }
   }
  },
  {
   "cell_type": "code",
   "execution_count": 12,
   "outputs": [
    {
     "ename": "ValueError",
     "evalue": "I/O operation on closed file.",
     "output_type": "error",
     "traceback": [
      "\u001B[0;31m---------------------------------------------------------------------------\u001B[0m",
      "\u001B[0;31mValueError\u001B[0m                                Traceback (most recent call last)",
      "\u001B[0;32m<ipython-input-12-c004fd6c5d1b>\u001B[0m in \u001B[0;36m<module>\u001B[0;34m\u001B[0m\n\u001B[1;32m      1\u001B[0m \u001B[0;31m# with文が自動でクローズしてくれていることが、エラーで返ってくる。\u001B[0m\u001B[0;34m\u001B[0m\u001B[0;34m\u001B[0m\u001B[0;34m\u001B[0m\u001B[0m\n\u001B[0;32m----> 2\u001B[0;31m \u001B[0mf\u001B[0m\u001B[0;34m.\u001B[0m\u001B[0mread\u001B[0m\u001B[0;34m(\u001B[0m\u001B[0;34m)\u001B[0m\u001B[0;34m\u001B[0m\u001B[0;34m\u001B[0m\u001B[0m\n\u001B[0m\u001B[1;32m      3\u001B[0m \u001B[0;34m\u001B[0m\u001B[0m\n",
      "\u001B[0;31mValueError\u001B[0m: I/O operation on closed file."
     ]
    }
   ],
   "source": [
    "# with文が自動でクローズしてくれていることが、エラーで返ってくる。\n",
    "f.read()"
   ],
   "metadata": {
    "collapsed": false,
    "pycharm": {
     "name": "#%%\n"
    }
   }
  },
  {
   "cell_type": "markdown",
   "source": [
    "## ファイルへの書き込み\n",
    "\n",
    "ファイルへの書き込みは`print`関数にキーワード引数`file`を指定してファイル名を\n",
    "渡すことで行える。\n",
    "モードは`w`を指定する。\n",
    "同名のファイルが存在しない場合は新たに作成し、存在する場合は上書きする。\n",
    "（追記ではない点に注意。以前の内容は消える）\n",
    "`a`を指定すると追記モードになり、ファイルが存在する場合既存の内容の後に追記される。"
   ],
   "metadata": {
    "collapsed": false,
    "pycharm": {
     "name": "#%% md\n",
     "is_executing": true
    }
   },
   "outputs": [
    {
     "ename": "SyntaxError",
     "evalue": "invalid syntax (<ipython-input-7-ca41e7356e66>, line 3)",
     "output_type": "error",
     "traceback": [
      "\u001B[0;36m  File \u001B[0;32m\"<ipython-input-7-ca41e7356e66>\"\u001B[0;36m, line \u001B[0;32m3\u001B[0m\n\u001B[0;31m    ファイルへの書き込みは`print`関数にキーワード引数`file`を指定してファイル名を\u001B[0m\n\u001B[0m               ^\u001B[0m\n\u001B[0;31mSyntaxError\u001B[0m\u001B[0;31m:\u001B[0m invalid syntax\n"
     ]
    }
   ]
  },
  {
   "cell_type": "code",
   "execution_count": null,
   "outputs": [],
   "source": [
    "with open('printTest.txt', 'w') as f:\n",
    "    print('Hello\\nWorld', file=f)"
   ],
   "metadata": {
    "collapsed": false,
    "pycharm": {
     "name": "#%%\n"
    }
   }
  },
  {
   "cell_type": "markdown",
   "source": [
    "`print`関数はデフォルトで、与えられた文字列の末尾に改行文字を加えて表示するが、\n",
    "キーワード引数`end`で任意の文字を挿入できる。"
   ],
   "metadata": {
    "collapsed": false,
    "pycharm": {
     "name": "#%% md\n"
    }
   }
  },
  {
   "cell_type": "code",
   "execution_count": null,
   "outputs": [],
   "source": [
    "with open('printTest.txt', 'a') as f:\n",
    "    print('hello', 'world\\n', end='', file=f)"
   ],
   "metadata": {
    "collapsed": false,
    "pycharm": {
     "name": "#%%\n"
    }
   }
  },
  {
   "cell_type": "markdown",
   "source": [
    "複数の印字対象を渡すと、デフォルトで空白文字で区切って印字する。\n",
    "区切り文字は`sep`で指定する。\n"
   ],
   "metadata": {
    "collapsed": false,
    "pycharm": {
     "name": "#%% md\n"
    }
   }
  },
  {
   "cell_type": "code",
   "execution_count": null,
   "outputs": [],
   "source": [
    "with open('printTest.txt', 'a') as f:\n",
    "    print('hello', 'world', sep=', ', file=f)"
   ],
   "metadata": {
    "collapsed": false,
    "pycharm": {
     "name": "#%%\n"
    }
   }
  },
  {
   "cell_type": "markdown",
   "source": [
    "より原始的な書き込み用メソッドとして、`write()`と`read()`がある。\n",
    "`write()`メソッドは与えられた文字列を単に書き込む。"
   ],
   "metadata": {
    "collapsed": false,
    "pycharm": {
     "name": "#%% md\n"
    }
   }
  },
  {
   "cell_type": "code",
   "execution_count": null,
   "outputs": [],
   "source": [
    "with open('fileIO.txt') as src, open('fileIO.txt.bak', 'w') as dst:\n",
    "    dst.write(src.read())"
   ],
   "metadata": {
    "collapsed": false,
    "pycharm": {
     "name": "#%%\n"
    }
   }
  },
  {
   "cell_type": "code",
   "execution_count": 17,
   "outputs": [],
   "source": [
    "def file_upper(infile, outfile):\n",
    "    with open(infile, 'r') as f:\n",
    "        with open(outfile, 'w') as wf:\n",
    "            wf.write(f.read().upper())\n"
   ],
   "metadata": {
    "collapsed": false,
    "pycharm": {
     "name": "#%%\n"
    }
   }
  },
  {
   "cell_type": "code",
   "execution_count": 18,
   "outputs": [
    {
     "name": "stdout",
     "output_type": "stream",
     "text": [
      "None\n",
      "True\n"
     ]
    }
   ],
   "source": [
    "with open('print-test.txt', 'w') as f:\n",
    "    print('hello', 'world', file=f)\n",
    "\n",
    "print(file_upper('print-test.txt', 'print-test-upper.txt'))\n",
    "\n",
    "with open('print-test-upper.txt', 'r' ) as f:\n",
    "    print(f.read() == 'HELLO WORLD\\n')"
   ],
   "metadata": {
    "collapsed": false,
    "pycharm": {
     "name": "#%%\n"
    }
   }
  },
  {
   "cell_type": "markdown",
   "source": [
    "## ファイルの読み書きにおける文字コード指定\n",
    "\n",
    "`open`でファイルを開くと、通常そのファイルをテキストモードで開く。\n",
    "その際、特に指定しなければデフォルトの文字コードでファイルを開こうとするが\n",
    "テキストにて指定された文字コードと一致しない場合文字化けを起こす。\n",
    "\n",
    "デフォルトの文字コードはWindowsでShift_JIS、macOSやLinuxではUTF-8になっていることが多い。\n",
    "半角英数字は上記二種類の文字コードで共通のルールでエンコードされているためエラーになることはないが\n",
    "マルチバイト文字（漢字など）はエンコードのルールが異なるため文字化けを起こすのでそのような文字を含むファイルを\n",
    "保存する際、開く際は文字コードの種類を確認する。\n",
    "PythonではOSの種類に関係なくUTF-8がよく使われる。"
   ],
   "metadata": {
    "collapsed": false,
    "pycharm": {
     "name": "#%% md\n"
    }
   }
  },
  {
   "cell_type": "markdown",
   "source": [
    "## 改行文字の削除\n",
    "\n",
    "ファイルをテキストモードで開いて、`read()`や`readline()`で呼び出すと、`str`型の文字列として読み込まれる。\n",
    "\n",
    "\n"
   ],
   "metadata": {
    "collapsed": false,
    "pycharm": {
     "name": "#%% md\n"
    }
   }
  },
  {
   "cell_type": "code",
   "execution_count": null,
   "outputs": [],
   "source": [],
   "metadata": {
    "collapsed": false,
    "pycharm": {
     "name": "#%%\n"
    }
   }
  }
 ],
 "metadata": {
  "kernelspec": {
   "name": "python3",
   "language": "python",
   "display_name": "Python 3"
  },
  "language_info": {
   "codemirror_mode": {
    "name": "ipython",
    "version": 2
   },
   "file_extension": ".py",
   "mimetype": "text/x-python",
   "name": "python",
   "nbconvert_exporter": "python",
   "pygments_lexer": "ipython2",
   "version": "2.7.6"
  }
 },
 "nbformat": 4,
 "nbformat_minor": 0
}