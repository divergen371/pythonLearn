{
 "cells": [
  {
   "cell_type": "markdown",
   "metadata": {
    "collapsed": true,
    "pycharm": {
     "name": "#%% md\n"
    }
   },
   "source": [
    "# ファイル入出力の基本\n"
   ]
  },
  {
   "cell_type": "markdown",
   "source": [
    "## ファイルのオープン\n",
    "\n",
    "ファイルから文字列を読み込んだり、ファイルに書き込んだりするには\n",
    "`open()`という関数でファイルをオープンする必要がある。\n",
    "\n",
    "```\n",
    "f = open('ターゲットとなるファイル', モード)\n",
    "```\n",
    "`sample.txt`というファイルを開きたかったら\n",
    "\n",
    "```\n",
    "f = open('sasmple.txt', r)\n",
    "```\n",
    "ファイルの指定は、相対パスあるいは絶対パスのどちらでも良い。\n",
    "\n",
    "モードは`r`が読み込み、`w`が書き込み、`a`が追記、`+`が読み書きどちらも指定となる。"
   ],
   "metadata": {
    "collapsed": false,
    "pycharm": {
     "name": "#%% md\n"
    }
   }
  },
  {
   "cell_type": "code",
   "execution_count": 1,
   "outputs": [],
   "source": [
    "f = open('fileIO.txt', 'r')"
   ],
   "metadata": {
    "collapsed": false,
    "pycharm": {
     "name": "#%%\n"
    }
   }
  },
  {
   "cell_type": "markdown",
   "source": [
    "## ファイルのクローズ\n",
    "\n",
    "ファイルオブジェクトは用が済んだら原則`close()`で閉じる。\n",
    "\n",
    "```\n",
    "f.close()\n",
    "```\n",
    "\n",
    "放置するとトラブルの原因になるので`close()`あるいは`with文`で処理する。"
   ],
   "metadata": {
    "collapsed": false
   }
  },
  {
   "cell_type": "code",
   "execution_count": 2,
   "outputs": [],
   "source": [
    "f.close()"
   ],
   "metadata": {
    "collapsed": false,
    "pycharm": {
     "name": "#%%\n"
    }
   }
  },
  {
   "cell_type": "markdown",
   "source": [
    "## 行の読み込み\n",
    "\n",
    "ファイルオブジェクトには`readline()`というメソッドを適用することが出来る。\n",
    "ファイルから1行読み込んで文字列として返す。\n",
    "1行は、ファイルの先頭か改行文字の次の文字からファイルの終わり、もしくは改行文字\n",
    "までの文字列。\n",
    "必ずしも改行で終わらない。\n",
    "ファイルの終わりに達すると空文字列を返す。\n"
   ],
   "metadata": {
    "collapsed": false,
    "pycharm": {
     "name": "#%% md\n"
    }
   }
  },
  {
   "cell_type": "code",
   "execution_count": 3,
   "outputs": [
    {
     "data": {
      "text/plain": "'hoge\\n'"
     },
     "execution_count": 3,
     "metadata": {},
     "output_type": "execute_result"
    }
   ],
   "source": [
    "f = open('fileIO.txt', 'r')\n",
    "\n",
    "f.readline()"
   ],
   "metadata": {
    "collapsed": false,
    "pycharm": {
     "name": "#%%\n"
    }
   }
  },
  {
   "cell_type": "code",
   "execution_count": 4,
   "outputs": [
    {
     "data": {
      "text/plain": "['oh\\n', 'hogehoge\\n', 'yes\\n', 'hoge']"
     },
     "execution_count": 4,
     "metadata": {},
     "output_type": "execute_result"
    }
   ],
   "source": [
    "f.readlines()"
   ],
   "metadata": {
    "collapsed": false,
    "pycharm": {
     "name": "#%%\n"
    }
   }
  },
  {
   "cell_type": "code",
   "execution_count": 5,
   "outputs": [
    {
     "data": {
      "text/plain": "''"
     },
     "execution_count": 5,
     "metadata": {},
     "output_type": "execute_result"
    }
   ],
   "source": [
    "f.readline()"
   ],
   "metadata": {
    "collapsed": false,
    "pycharm": {
     "name": "#%%\n"
    }
   }
  },
  {
   "cell_type": "code",
   "execution_count": 6,
   "outputs": [],
   "source": [
    "f.close()"
   ],
   "metadata": {
    "collapsed": false,
    "pycharm": {
     "name": "#%%\n"
    }
   }
  },
  {
   "cell_type": "code",
   "execution_count": 8,
   "outputs": [
    {
     "data": {
      "text/plain": "'hoge'"
     },
     "execution_count": 8,
     "metadata": {},
     "output_type": "execute_result"
    }
   ],
   "source": [
    "def last_line(name):\n",
    "    last = ''\n",
    "    with open(name, 'r') as f:\n",
    "        while True:\n",
    "            line = f.readline()\n",
    "            if line == '':\n",
    "                return last\n",
    "            last = line\n",
    "\n",
    "last_line('fileIO.txt')"
   ],
   "metadata": {
    "collapsed": false,
    "pycharm": {
     "name": "#%%\n"
    }
   }
  },
  {
   "cell_type": "markdown",
   "source": [
    "## ファイル全体の読み込み\n",
    "ファイル全体を一括で読み込んで、一つの文字列として出力させたい場合は\n",
    "`read()`メソッドを使う。\n",
    "一度`read()`メソッドで読み込ませるとファイルの終端に到達するので、それ以降は\n",
    "空文字列を返す。\n",
    "\n",
    "`read()`メソッドは内部的には`readline()`メソッドを呼び出している。\n",
    "したがって、ファイルオブジェクトを消費する。"
   ],
   "metadata": {
    "collapsed": false,
    "pycharm": {
     "name": "#%% md\n"
    }
   }
  },
  {
   "cell_type": "code",
   "execution_count": 2,
   "outputs": [
    {
     "data": {
      "text/plain": "'hoge\\noh\\nhogehoge\\nyes\\nhoge'"
     },
     "execution_count": 2,
     "metadata": {},
     "output_type": "execute_result"
    }
   ],
   "source": [
    "f = open('fileIO.txt', 'r')\n",
    "f.read()"
   ],
   "metadata": {
    "collapsed": false,
    "pycharm": {
     "name": "#%%\n"
    }
   }
  },
  {
   "cell_type": "code",
   "execution_count": 3,
   "outputs": [
    {
     "data": {
      "text/plain": "''"
     },
     "execution_count": 3,
     "metadata": {},
     "output_type": "execute_result"
    }
   ],
   "source": [
    "f.read()\n"
   ],
   "metadata": {
    "collapsed": false,
    "pycharm": {
     "name": "#%%\n"
    }
   }
  },
  {
   "cell_type": "code",
   "execution_count": null,
   "outputs": [],
   "source": [
    "# readメソッドでファイルの内容を終端までまとめて出力\n",
    "\n",
    "def number_of_characters(name):\n",
    "    f = open(name, 'r')\n",
    "    s = f.read()\n",
    "    f.close()\n",
    "    return len(s)\n",
    "\n",
    "number_of_characters('fileIO.txt')"
   ],
   "metadata": {
    "collapsed": false,
    "pycharm": {
     "name": "#%%\n"
    }
   }
  },
  {
   "cell_type": "code",
   "execution_count": null,
   "outputs": [],
   "source": [
    "\n"
   ],
   "metadata": {
    "collapsed": false,
    "pycharm": {
     "name": "#%%\n"
    }
   }
  }
 ],
 "metadata": {
  "kernelspec": {
   "name": "python3",
   "language": "python",
   "display_name": "Python 3"
  },
  "language_info": {
   "codemirror_mode": {
    "name": "ipython",
    "version": 2
   },
   "file_extension": ".py",
   "mimetype": "text/x-python",
   "name": "python",
   "nbconvert_exporter": "python",
   "pygments_lexer": "ipython2",
   "version": "2.7.6"
  }
 },
 "nbformat": 4,
 "nbformat_minor": 0
}