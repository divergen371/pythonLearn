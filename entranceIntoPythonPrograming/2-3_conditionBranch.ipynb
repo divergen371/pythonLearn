{
 "cells": [
  {
   "cell_type": "markdown",
   "source": [
    "# 条件分岐\n",
    "ifで始まり条件分岐を行う制御構造"
   ],
   "metadata": {
    "collapsed": false,
    "pycharm": {
     "name": "#%% md\n"
    }
   }
  },
  {
   "cell_type": "markdown",
   "source": [
    "## 練習"
   ],
   "metadata": {
    "collapsed": false,
    "pycharm": {
     "name": "#%% md\n"
    }
   }
  },
  {
   "cell_type": "code",
   "execution_count": 4,
   "outputs": [],
   "source": [
    "def exception3(x,y,z):\n",
    "    if x == y:\n",
    "        return z\n",
    "    elif y == z:\n",
    "        return x\n",
    "    else:\n",
    "        return y"
   ],
   "metadata": {
    "collapsed": false,
    "pycharm": {
     "name": "#%%\n"
    }
   }
  },
  {
   "cell_type": "code",
   "execution_count": 5,
   "outputs": [
    {
     "name": "stdout",
     "output_type": "stream",
     "text": [
      "1\n",
      "2\n",
      "3\n"
     ]
    }
   ],
   "source": [
    "print(exception3(1,2,2))\n",
    "print(exception3(4,2,4))\n",
    "print(exception3(9,3,9))"
   ],
   "metadata": {
    "collapsed": false,
    "pycharm": {
     "name": "#%%\n"
    }
   }
  },
  {
   "cell_type": "code",
   "execution_count": 10,
   "outputs": [],
   "source": [
    "def exception9(a):\n",
    "    x = a[0] + a[1] + a[2]\n",
    "    y = a[3] + a[4] + a[5]\n",
    "    z = a[6] + a[7] + a[8]\n",
    "    if x == y:\n",
    "        return exception3(a[6], a[7], a[8])\n",
    "    elif y == z:\n",
    "        return exception3(a[0], a[1], a[2])\n",
    "    else:\n",
    "        return exception3(a[3], a[4], a[5])"
   ],
   "metadata": {
    "collapsed": false,
    "pycharm": {
     "name": "#%%\n"
    }
   }
  },
  {
   "cell_type": "code",
   "execution_count": 11,
   "outputs": [
    {
     "name": "stdout",
     "output_type": "stream",
     "text": [
      "1\n",
      "2\n",
      "3\n"
     ]
    }
   ],
   "source": [
    "print(exception9([1,2,2,2,2,2,2,2,2]))\n",
    "print(exception9([4,4,4,4,4,2,4,4,4]))\n",
    "print(exception9([9,9,9,9,9,9,9,9,3]))\n"
   ],
   "metadata": {
    "collapsed": false,
    "pycharm": {
     "name": "#%%\n"
    }
   }
  },
  {
   "cell_type": "code",
   "execution_count": 14,
   "outputs": [
    {
     "name": "stdout",
     "output_type": "stream",
     "text": [
      "x, y and z are different and negative\n",
      "x, y and z are different and negative\n"
     ]
    }
   ],
   "source": [
    "# 複数行にまたがる条件式\n",
    "x, y, z = (-1, -2, -3)\n",
    "if (x < 0 and y < 0 and z < 0 and\n",
    "    x != y and y != z and x != z):\n",
    "    print('x, y and z are different and negative')\n",
    "\n",
    "if x < 0 and y < 0 and z < 0 and \\\n",
    "    x != y and y != z and x != z:\n",
    "    print('x, y and z are different and negative')"
   ],
   "metadata": {
    "collapsed": false,
    "pycharm": {
     "name": "#%%\n"
    }
   }
  },
  {
   "cell_type": "code",
   "execution_count": 16,
   "outputs": [
    {
     "name": "stdout",
     "output_type": "stream",
     "text": [
      "x is less than zero, but x will be 0\n"
     ]
    }
   ],
   "source": [
    "x = -4\n",
    "\n",
    "if x > 0:\n",
    "    print('x is greater than zero.')\n",
    "elif x < 0:\n",
    "    print('x is less than zero, but x will be 0')\n",
    "    x = 0\n",
    "else:\n",
    "    print('x is zero')"
   ],
   "metadata": {
    "collapsed": false,
    "pycharm": {
     "name": "#%%\n"
    }
   }
  },
  {
   "cell_type": "code",
   "execution_count": 22,
   "outputs": [
    {
     "name": "stdout",
     "output_type": "stream",
     "text": [
      "x is less than 1\n"
     ]
    }
   ],
   "source": [
    "x = -1\n",
    "\n",
    "if 2 <= x < 3:\n",
    "    print('x is larger than or equal to 2, and less than 3')\n",
    "elif 1<= x < 2:\n",
    "    print('x is larger than or equal to 1, and less than 2')\n",
    "elif x < 1:\n",
    "    print('x is less than 1')\n",
    "else:\n",
    "    print('x is larger or equal to 3')"
   ],
   "metadata": {
    "collapsed": false,
    "pycharm": {
     "name": "#%%\n"
    }
   }
  },
  {
   "cell_type": "code",
   "execution_count": null,
   "outputs": [],
   "source": [],
   "metadata": {
    "collapsed": false,
    "pycharm": {
     "name": "#%%\n"
    }
   }
  }
 ],
 "metadata": {
  "kernelspec": {
   "display_name": "Python 3",
   "language": "python",
   "name": "python3"
  },
  "language_info": {
   "codemirror_mode": {
    "name": "ipython",
    "version": 2
   },
   "file_extension": ".py",
   "mimetype": "text/x-python",
   "name": "python",
   "nbconvert_exporter": "python",
   "pygments_lexer": "ipython2",
   "version": "2.7.6"
  }
 },
 "nbformat": 4,
 "nbformat_minor": 0
}