{
 "cells": [
  {
   "cell_type": "markdown",
   "metadata": {
    "collapsed": true,
    "pycharm": {
     "name": "#%% md\n"
    }
   },
   "source": [
    "# モジュールの使い方\n",
    "\n",
    "## モジュールのインポート\n",
    "\n",
    "Pythonでは特別な関数や値をまとめたものをモジュールと呼び、これらを他のスクリプトで\n",
    "呼び出すために`import`という文を使う。\n",
    "以下のように宣言する。\n",
    "```\n",
    "import モジュール名\n",
    "```\n",
    "`import`で呼び出した後`モジュール名.モジュールの中での関数名`で機能を利用することができる。\n",
    "複数のモジュールをカンマで区切って同時にインポート出来る。"
   ]
  },
  {
   "cell_type": "code",
   "execution_count": 4,
   "outputs": [
    {
     "name": "stdout",
     "output_type": "stream",
     "text": [
      "1.4142135623730951\n",
      "3.141592653589793\n",
      "0.7071067811865475\n",
      "1.0\n",
      "5.0\n"
     ]
    }
   ],
   "source": [
    "import math\n",
    "\n",
    "print(math.sqrt(2))\n",
    "print(math.pi)\n",
    "print(math.sin(math.pi/4))\n",
    "print(math.cos(0))\n",
    "print(math.log(32,2)) #２を底とする32の対数"
   ],
   "metadata": {
    "collapsed": false,
    "pycharm": {
     "name": "#%%\n"
    }
   }
  },
  {
   "cell_type": "markdown",
   "source": [
    "## from\n",
    "\n",
    "モジュール内で定義されている関数を「モジュール内で定義されている関数名」のようにして、\n",
    "「モジュール名.」をつけずにそのままの名前で利用したい時は`from`を使ってインポートする。\n",
    "\n",
    "```\n",
    "from モジュール名 import モジュール内での関数名\n",
    "```"
   ],
   "metadata": {
    "collapsed": false,
    "pycharm": {
     "name": "#%% md\n",
     "is_executing": true
    }
   },
   "outputs": [
    {
     "ename": "SyntaxError",
     "evalue": "invalid character in identifier (<ipython-input-6-d1117ab2412c>, line 3)",
     "output_type": "error",
     "traceback": [
      "\u001B[0;36m  File \u001B[0;32m\"<ipython-input-6-d1117ab2412c>\"\u001B[0;36m, line \u001B[0;32m3\u001B[0m\n\u001B[0;31m    モジュール内で定義されている関数を「モジュール内で定義されている関数名」のようにして\u001B[0m\n\u001B[0m                                             ^\u001B[0m\n\u001B[0;31mSyntaxError\u001B[0m\u001B[0;31m:\u001B[0m invalid character in identifier\n"
     ]
    }
   ]
  },
  {
   "cell_type": "code",
   "execution_count": 17,
   "outputs": [
    {
     "name": "stdout",
     "output_type": "stream",
     "text": [
      "1.4142135623730951\n",
      "3.141592653589793\n",
      "0.9092974268256817\n",
      "1.0\n",
      "10.0\n"
     ]
    }
   ],
   "source": [
    "from math import sqrt\n",
    "print(sqrt(2))\n",
    "from math import pi\n",
    "print(pi)\n",
    "from math import sin\n",
    "print(sin(2))\n",
    "from math import cos\n",
    "print(cos(0))\n",
    "from math import log\n",
    "print(log(1024, 2))"
   ],
   "metadata": {
    "collapsed": false,
    "pycharm": {
     "name": "#%%\n"
    }
   }
  },
  {
   "cell_type": "markdown",
   "source": [
    "ワイルドカードを用いて明示的に指定せず、アンダーバーで始まるモノ以外すべてを読み込む方法もあるが\n",
    "モジュール内の未知の関数とプログラム内の自身で定義した名前と衝突する可能性があるため推奨されていない。\n",
    "```\n",
    "from モジュール名 import *\n",
    "```\n"
   ],
   "metadata": {
    "collapsed": false,
    "pycharm": {
     "name": "#%% md\n"
    }
   }
  },
  {
   "cell_type": "code",
   "execution_count": 19,
   "outputs": [
    {
     "name": "stdout",
     "output_type": "stream",
     "text": [
      "120\n",
      "2\n",
      "2.718281828459045\n"
     ]
    }
   ],
   "source": [
    "from math import *\n",
    "print(factorial(5)) # 階乗\n",
    "print(floor(2.31)) # 2以下の最大の整数\n",
    "print(e) # 自然対数"
   ],
   "metadata": {
    "collapsed": false,
    "pycharm": {
     "name": "#%%\n"
    }
   }
  },
  {
   "cell_type": "code",
   "execution_count": 21,
   "outputs": [
    {
     "name": "stdout",
     "output_type": "stream",
     "text": [
      "パイ\n",
      "3.141592653589793\n"
     ]
    }
   ],
   "source": [
    "# 衝突の例・自身で定義した変数が上書きされる\n",
    "pi = 'パイ'\n",
    "print(pi)\n",
    "from  math import *\n",
    "print(pi)"
   ],
   "metadata": {
    "collapsed": false,
    "pycharm": {
     "name": "#%%\n"
    }
   }
  },
  {
   "cell_type": "markdown",
   "source": [
    "## as\n",
    "モジュール名が長すぎるなどの理由から別名を定義したい場合は`as`を利用することができる。\n",
    "例えば`Numpy`を`np`という略称で使うことがある。"
   ],
   "metadata": {
    "collapsed": false,
    "pycharm": {
     "name": "#%% md\n"
    }
   }
  },
  {
   "cell_type": "code",
   "execution_count": 3,
   "outputs": [
    {
     "name": "stdout",
     "output_type": "stream",
     "text": [
      "[[1. 1. 1. 1. 1.]\n",
      " [1. 1. 1. 1. 1.]\n",
      " [1. 1. 1. 1. 1.]]\n",
      "[[1. 1. 1. 1. 1.]\n",
      " [1. 1. 1. 1. 1.]\n",
      " [1. 1. 1. 1. 1.]]\n"
     ]
    }
   ],
   "source": [
    "import numpy\n",
    "print(numpy.ones((3, 5))) # 3×5の正方行列\n",
    "import numpy as np\n",
    "print(np.ones((3,5)))"
   ],
   "metadata": {
    "collapsed": false,
    "pycharm": {
     "name": "#%%\n"
    }
   }
  },
  {
   "cell_type": "markdown",
   "source": [
    "個々の関数に別の名前を命名することも出来る。\n"
   ],
   "metadata": {
    "collapsed": false,
    "pycharm": {
     "name": "#%% md\n"
    }
   }
  },
  {
   "cell_type": "code",
   "execution_count": 5,
   "outputs": [
    {
     "name": "stdout",
     "output_type": "stream",
     "text": [
      "120\n",
      "120\n"
     ]
    }
   ],
   "source": [
    "import math\n",
    "print(math.factorial(5)) # ５の階乗\n",
    "from math import factorial as fact\n",
    "print(fact(5))"
   ],
   "metadata": {
    "collapsed": false,
    "pycharm": {
     "name": "#%%\n"
    }
   }
  },
  {
   "cell_type": "code",
   "execution_count": null,
   "outputs": [],
   "source": [
    "\n"
   ],
   "metadata": {
    "collapsed": false,
    "pycharm": {
     "name": "#%%\n"
    }
   }
  }
 ],
 "metadata": {
  "kernelspec": {
   "display_name": "Python 3",
   "language": "python",
   "name": "python3"
  },
  "language_info": {
   "codemirror_mode": {
    "name": "ipython",
    "version": 2
   },
   "file_extension": ".py",
   "mimetype": "text/x-python",
   "name": "python",
   "nbconvert_exporter": "python",
   "pygments_lexer": "ipython2",
   "version": "2.7.6"
  }
 },
 "nbformat": 4,
 "nbformat_minor": 0
}