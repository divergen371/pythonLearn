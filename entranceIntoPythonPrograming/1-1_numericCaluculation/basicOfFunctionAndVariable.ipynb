{
 "metadata": {
  "language_info": {
   "codemirror_mode": {
    "name": "ipython",
    "version": 3
   },
   "file_extension": ".py",
   "mimetype": "text/x-python",
   "name": "python",
   "nbconvert_exporter": "python",
   "pygments_lexer": "ipython3",
   "version": "3.7.3-final"
  },
  "orig_nbformat": 2,
  "kernelspec": {
   "name": "python37364bitf6e34fd73afd444cb3814a1c3c75025b",
   "display_name": "Python 3.7.3 64-bit"
  }
 },
 "nbformat": 4,
 "nbformat_minor": 2,
 "cells": [
  {
   "cell_type": "markdown",
   "metadata": {},
   "source": [
    "# 変数と関数の基礎"
   ]
  },
  {
   "cell_type": "markdown",
   "metadata": {},
   "source": [
    "プログラミング言語における変数とは、値に名前をつける仕組みである。  \n",
    "たとえばプログラムの中で円周率`3.1415926535`使う場合、一箇所だけであれば数値をそのまま記述すればよいが  \n",
    "複数の箇所で使う場合、すべての場所でいちいち入力するのは手間がかかるし、ミスにもつながる。  \n",
    "そこで変数定義によってプログラムで扱う数値を抽象化することで効率化とミスの軽減を図る。  \n",
    "(円周率に限って言えば`math`モジュールをインポートすれば手軽に使えるが。)"
   ]
  },
  {
   "cell_type": "code",
   "execution_count": 1,
   "metadata": {},
   "outputs": [],
   "source": [
    "h = 188.0\n",
    "pi = 3.1415926535"
   ]
  },
  {
   "cell_type": "code",
   "execution_count": 2,
   "metadata": {},
   "outputs": [
    {
     "output_type": "execute_result",
     "data": {
      "text/plain": "188.0"
     },
     "metadata": {},
     "execution_count": 2
    }
   ],
   "source": [
    "h"
   ]
  },
  {
   "cell_type": "code",
   "execution_count": 2,
   "metadata": {},
   "outputs": [
    {
     "output_type": "execute_result",
     "data": {
      "text/plain": "3.1415926535"
     },
     "metadata": {},
     "execution_count": 2
    }
   ],
   "source": [
    "pi"
   ]
  },
  {
   "cell_type": "markdown",
   "metadata": {},
   "source": [
    "`変数名 = 値`で変数を定義する。  \n",
    "定義された変数は式の中で利用することができ、また変数自体が式  \n",
    "であるため変数単体を評価することも出来る。\n",
    "変数は名前を変えていくらでも作ることができるがpythonの言語系で予約されている  \n",
    "キーワードは使うことができない点に注意する。  \n"
   ]
  },
  {
   "cell_type": "markdown",
   "metadata": {},
   "source": [
    "* 変数名の規則\n",
    "    * 変数名に使える文字は`アルファベット`、`数字`、`アンダーバー`(日本語の使用は控える)\n",
    "    * アルファベットから始めなければならない\n",
    "    * 予約語は使えない\n",
    "    * 変数の内容が容易に推測出来るものを選ぶ\n",
    "\n",
    "予約語の一覧はリストとしてkeywordモジュールに格納されている"
   ]
  },
  {
   "cell_type": "code",
   "execution_count": 12,
   "metadata": {
    "tags": []
   },
   "outputs": [
    {
     "output_type": "stream",
     "name": "stdout",
     "text": "['False', 'None', 'True', 'and', 'as', 'assert', 'async', 'await', 'break', 'class', 'continue', 'def', 'del', 'elif', 'else', 'except', 'finally', 'for', 'from', 'global', 'if', 'import', 'in', 'is', 'lambda', 'nonlocal', 'not', 'or', 'pass', 'raise', 'return', 'try', 'while', 'with', 'yield']\n"
    }
   ],
   "source": [
    "import keyword\n",
    "print(keyword.kwlist)"
   ]
  },
  {
   "cell_type": "code",
   "execution_count": 1,
   "metadata": {},
   "outputs": [
    {
     "output_type": "error",
     "ename": "NameError",
     "evalue": "name 'hoge' is not defined",
     "traceback": [
      "\u001b[0;31m---------------------------------------------------------------------------\u001b[0m",
      "\u001b[0;31mNameError\u001b[0m                                 Traceback (most recent call last)",
      "\u001b[0;32m<ipython-input-1-eefd5bc2c547>\u001b[0m in \u001b[0;36m<module>\u001b[0;34m\u001b[0m\n\u001b[0;32m----> 1\u001b[0;31m \u001b[0mhoge\u001b[0m\u001b[0;34m\u001b[0m\u001b[0;34m\u001b[0m\u001b[0m\n\u001b[0m",
      "\u001b[0;31mNameError\u001b[0m: name 'hoge' is not defined"
     ]
    }
   ],
   "source": [
    "hoge"
   ]
  },
  {
   "cell_type": "markdown",
   "metadata": {},
   "source": [
    "未定義の変数を評価しようとするとエラーになる。"
   ]
  },
  {
   "cell_type": "markdown",
   "metadata": {},
   "source": [
    "## 定数について  \n",
    "マジックナンバーやパラメータのような再代入の必要がなく、また再代入されると困る変数は  \n",
    "定数として扱うのが各プログラミング言語おいて主流であるが、Pythonでは定数の概念は存在せず  \n",
    "変数の命名方法による区別で定義する。  \n",
    "アルファベット大文字とアンダーバーで宣言された変数は定数として扱うのがPythonの流儀となっている。"
   ]
  },
  {
   "cell_type": "code",
   "execution_count": 1,
   "metadata": {},
   "outputs": [],
   "source": [
    "TIME_OUT = 300"
   ]
  },
  {
   "cell_type": "code",
   "execution_count": 2,
   "metadata": {},
   "outputs": [],
   "source": [
    "MAX_RATE = 2.0"
   ]
  },
  {
   "cell_type": "markdown",
   "metadata": {},
   "source": [
    "# 代入文"
   ]
  },
  {
   "cell_type": "markdown",
   "metadata": {},
   "source": [
    "変数定義に用いた`=`による構文をPythonでは代入文と呼び、それを実行することを代入と呼ぶ。  \n",
    "左辺が変数名として利用できる場合は、変数定義として解釈される。\n"
   ]
  },
  {
   "cell_type": "code",
   "execution_count": 3,
   "metadata": {},
   "outputs": [],
   "source": [
    "w = 2 + 3"
   ]
  },
  {
   "cell_type": "code",
   "execution_count": 4,
   "metadata": {},
   "outputs": [],
   "source": [
    "w = w+33"
   ]
  },
  {
   "cell_type": "code",
   "execution_count": 5,
   "metadata": {},
   "outputs": [
    {
     "output_type": "execute_result",
     "data": {
      "text/plain": "38"
     },
     "metadata": {},
     "execution_count": 5
    }
   ],
   "source": [
    "w"
   ]
  },
  {
   "cell_type": "markdown",
   "metadata": {},
   "source": [
    "右辺、左辺の順に評価し、右辺に記述されている変数が左辺に来ていても問題ない。"
   ]
  },
  {
   "cell_type": "markdown",
   "metadata": {},
   "source": [
    "# 累積代入文"
   ]
  },
  {
   "cell_type": "markdown",
   "metadata": {},
   "source": [
    "変数の値を増減させる操作は、累積代入を使ってシンプルに表現できる。"
   ]
  },
  {
   "cell_type": "code",
   "execution_count": 8,
   "metadata": {
    "tags": []
   },
   "outputs": [
    {
     "output_type": "stream",
     "name": "stdout",
     "text": "18\n"
    }
   ],
   "source": [
    "w -= 10\n",
    "print(w)"
   ]
  },
  {
   "cell_type": "code",
   "execution_count": 9,
   "metadata": {
    "tags": []
   },
   "outputs": [
    {
     "output_type": "stream",
     "name": "stdout",
     "text": "28\n"
    }
   ],
   "source": [
    "w += 10\n",
    "print(w)"
   ]
  },
  {
   "cell_type": "markdown",
   "metadata": {},
   "source": [
    "`-=`、`+=`を複合代入演算子と呼ぶ。"
   ]
  },
  {
   "cell_type": "markdown",
   "metadata": {},
   "source": [
    "# 関数の定義と返り値"
   ]
  },
  {
   "cell_type": "markdown",
   "metadata": {},
   "source": [
    "## 関数の役割\n",
    "1. 関数にしかできない処理を提供する\n",
    "    * OSやハードウェアの機能の利用は関数からしかできない。\n",
    "    * 関数の内部ではシステムコールなどにより低レイヤのプログラム、つまり  \n",
    "    OSを記述してい言語(C言語など)が呼び出されている。\n",
    "\n",
    "2. 複雑な処理をかんたんに実現する\n",
    "    * アルゴリズムや機能を関数化すればそれを呼び出すことで  \n",
    "    任意に使用できるようになるため、コーディングの効率化につながる。  \n",
    "    (コードの重複の排除)  \n",
    "    * 一般的な処理に関してはPythonが関数を提供しているので、それを使えば  \n",
    "    `早い・速い・バグが少ない`を実現出来る。"
   ]
  },
  {
   "cell_type": "code",
   "execution_count": 3,
   "metadata": {},
   "outputs": [],
   "source": [
    "def bmi(height, weight):\n",
    "    return weight / (height/100.0) ** 2"
   ]
  },
  {
   "cell_type": "code",
   "execution_count": 4,
   "metadata": {},
   "outputs": [
    {
     "output_type": "execute_result",
     "data": {
      "text/plain": "25.71166207529844"
     },
     "metadata": {},
     "execution_count": 4
    }
   ],
   "source": [
    "bmi(165, 70)"
   ]
  },
  {
   "cell_type": "markdown",
   "metadata": {},
   "source": [
    "関数は\n",
    "```\n",
    "def 関数名(引数, ...):\n",
    "    処理1\n",
    "    処理2\n",
    "    return 返り値\n",
    "```\n",
    "で定義する。"
   ]
  },
  {
   "cell_type": "markdown",
   "metadata": {},
   "source": [
    "２次方程式$ax^2+bx+c=0$について以下のような関数を定義せよ。  \n",
    "1. 判別式$b^2-4ac$を求める`det(a,b,c)`  \n",
    "2. 解のうち大きくない方を求める`solution1(a,b,c)`  \n",
    "3. 解のうち小さくない方を求める`solution2(a,b,c)`"
   ]
  },
  {
   "cell_type": "code",
   "execution_count": 9,
   "metadata": {},
   "outputs": [],
   "source": [
    "import math\n",
    "\n",
    "def det(a,b,c):\n",
    "    return b**2 - 4*a*c\n",
    "\n",
    "def solution1(a,b,c):\n",
    "    return (-b - (math.sqrt(det(a,b,c)))) / (2 * a)\n",
    "\n",
    "def solution2(a,b,c):\n",
    "    return (-b + (math.sqrt(det(a,b,c)))) / (2 * a)"
   ]
  },
  {
   "cell_type": "code",
   "execution_count": 11,
   "metadata": {
    "tags": []
   },
   "outputs": [
    {
     "output_type": "stream",
     "name": "stdout",
     "text": "True\nTrue\nTrue\nTrue\nTrue\nTrue\n"
    }
   ],
   "source": [
    "print(det(1,-2,1) == 0)\n",
    "print(det(1,-5,6) == 1)\n",
    "def check_similar(x,y):\n",
    "    print(abs(x-y)<0.000001)\n",
    "\n",
    "check_similar(solution1(1,-2,1),1.0)\n",
    "check_similar(solution2(1,-2,1),1.0)\n",
    "check_similar(solution1(1,-5,6),2.0)\n",
    "check_similar(solution2(1,-5,6),3.0)"
   ]
  },
  {
   "cell_type": "code",
   "execution_count": null,
   "metadata": {},
   "outputs": [],
   "source": []
  }
 ]
}