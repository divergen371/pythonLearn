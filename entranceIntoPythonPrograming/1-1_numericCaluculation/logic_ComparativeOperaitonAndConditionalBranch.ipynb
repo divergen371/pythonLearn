{
 "metadata": {
  "language_info": {
   "codemirror_mode": {
    "name": "ipython",
    "version": 3
   },
   "file_extension": ".py",
   "mimetype": "text/x-python",
   "name": "python",
   "nbconvert_exporter": "python",
   "pygments_lexer": "ipython3",
   "version": "3.7.3-final"
  },
  "orig_nbformat": 2,
  "kernelspec": {
   "name": "python_defaultSpec_1597670465932",
   "display_name": "Python 3.7.3 64-bit"
  }
 },
 "nbformat": 4,
 "nbformat_minor": 2,
 "cells": [
  {
   "cell_type": "markdown",
   "metadata": {},
   "source": [
    "# 論理・比較演算と条件分岐"
   ]
  },
  {
   "cell_type": "markdown",
   "metadata": {},
   "source": [
    "if文"
   ]
  },
  {
   "cell_type": "code",
   "execution_count": 1,
   "metadata": {},
   "outputs": [],
   "source": [
    "def bmax(a,b):\n",
    "    if a > b: # ここで if による条件分岐が用いられています。\n",
    "        return a\n",
    "    else:\n",
    "        return b"
   ]
  },
  {
   "cell_type": "code",
   "execution_count": 3,
   "metadata": {},
   "outputs": [
    {
     "output_type": "execute_result",
     "data": {
      "text/plain": "5"
     },
     "metadata": {},
     "execution_count": 3
    }
   ],
   "source": [
    "bmax(5,4)"
   ]
  },
  {
   "cell_type": "markdown",
   "metadata": {},
   "source": [
    "上の関数`bmax`は、二つの引数の大きい方 （正確には小さくない方）を返します。  \n",
    "`a`が`b`より大きければ`a`が返され、そうでなければ、`b`が返されます。  \n",
    "ここで、`return a`が、`if`より右にインデントされていることに注意してください。 `return a`は、`a > b`が成り立つときのみ実行されます。  \n",
    "`else`は`if`の右の条件が成り立たない場合を示しています。 `else:`として、必ず` :` が付くことに注意してください。  \n",
    "また、`return b`も、`else`より右にインデントされていることに注意してください。`if`と`else`は同じインデントになります。  \n",
    "関数の中で`return`と式が実行されますと、関数は即座に返りますので、 関数定義の中のその後の部分は実行されません。  \n",
    "たとえば、上の条件分岐は以下のように書くこともできます。\n",
    "```python\n",
    "if a > b:\n",
    "    return a\n",
    "return b\n",
    "```\n",
    "ここでは、`if`から始まる条件分岐には`else:`の部分がありません。 条件分岐の後に`return b`が続いています。 （`if`と`return b`のインデントは同じです。）  \n",
    "`a > b`が成り立っていれば、`return a`が実行されて`a`の値が返ります。 したがって、その次の`return b`は実行されません。  \n",
    "`a > b`が成り立っていなければ、`return a`は実行されません。 これで条件分岐は終わりますので、その次にある`return b`が実行されます。\n",
    "\n",
    "なお、`Python`では、`max`という関数があらかじめ定義されています。（すなわち、`max`は組み込み関数です。）\n",
    "## 様々な条件\n",
    "|||\n",
    "|:---:|:---:|\n",
    "|x < y|xはyより小さい|\n",
    "|x <= y|xはy以下|\n",
    "|x > y|xはyより大きい|\n",
    "|x >= y|xはy以上|\n",
    "|x == y|xはyと等しい|\n",
    "|x != y|xとyは等しくない|\n",
    "|x and y|x且つy|\n",
    "|x or y|xまたはy|\n",
    "|||"
   ]
  },
  {
   "cell_type": "markdown",
   "metadata": {},
   "source": [
    "## 練習\n",
    "1. 数値`x`の絶対値を求める関数`absolute(x)`を定義してください。\n",
    "2. `x`が正ならば$1$、負ならば $-1$、ゼロならば$0$を返す`sign(x)`という関数を定義してください。"
   ]
  },
  {
   "cell_type": "code",
   "execution_count": 29,
   "metadata": {},
   "outputs": [],
   "source": [
    "import math\n",
    "def absolute(x):\n",
    "    if x<0:\n",
    "        return x\n",
    "    else:\n",
    "        return x"
   ]
  },
  {
   "cell_type": "markdown",
   "metadata": {},
   "source": [
    "組み込みの`abs`は`math.sqrt(x**2)`で求めているのだろうか？"
   ]
  },
  {
   "cell_type": "code",
   "execution_count": 30,
   "metadata": {},
   "outputs": [],
   "source": [
    "def sign(x):\n",
    "    if x>0:\n",
    "        return 1\n",
    "    if x<0:\n",
    "        return -1\n",
    "    else:\n",
    "        return 0"
   ]
  },
  {
   "cell_type": "code",
   "execution_count": 33,
   "metadata": {
    "tags": []
   },
   "outputs": [
    {
     "output_type": "stream",
     "name": "stdout",
     "text": "True\nTrue\nTrue\nTrue\nTrue\n"
    }
   ],
   "source": [
    "print(absolute(5) == 5)\n",
    "print(absolute(-6) == -6)\n",
    "print(sign(5) == 1)\n",
    "print(sign(-5) == -1)\n",
    "print(sign(0) == 0)"
   ]
  },
  {
   "cell_type": "markdown",
   "metadata": {},
   "source": [
    "# 真理値を返す関数\n",
    "ここで、真理値を返す関数について説明します。  \n",
    "Pythonが扱うデータには様々な種類があります。 数については既に見て来ました。  \n",
    "真理値とは、 `True`または`False`のどちらかの値のことです。 これらは変数ではなく、組み込み定数であることに注意してください。  \n",
    "`True`は、正しいこと（真）を表します。  \n",
    "`False`は、間違ったこと（偽）を表します。  \n",
    "実は、`if`の後の条件の式は、`True`か`False`を値として持ちます。"
   ]
  },
  {
   "cell_type": "code",
   "execution_count": 1,
   "metadata": {},
   "outputs": [
    {
     "output_type": "execute_result",
     "data": {
      "text/plain": "True"
     },
     "metadata": {},
     "execution_count": 1
    }
   ],
   "source": [
    "x = 3\n",
    "x > 1"
   ]
  },
  {
   "cell_type": "markdown",
   "metadata": {},
   "source": [
    "上のように、`x`に$3$を代入しておくと、`x > 1 `という条件は成り立ちます。 したがって、`x > 1 `という式の値は`True`になるのです。"
   ]
  },
  {
   "cell_type": "code",
   "execution_count": 2,
   "metadata": {},
   "outputs": [
    {
     "output_type": "execute_result",
     "data": {
      "text/plain": "False"
     },
     "metadata": {},
     "execution_count": 2
    }
   ],
   "source": [
    "x < 1\n",
    "x % 2 == 0"
   ]
  },
  {
   "cell_type": "code",
   "execution_count": 4,
   "metadata": {},
   "outputs": [],
   "source": [
    "def is_even(x):\n",
    "    return x % 2 == 0"
   ]
  },
  {
   "cell_type": "markdown",
   "metadata": {},
   "source": [
    "この関数は、`x`を$2$で割った余りが$0$に等しいかどうかという 条件の結果である真理値を返します。  \n",
    "`x == y`は、`x`と`y`が等しいかどうかという条件です。 この関数は、この条件の結果である真理値を`return`によって返しています。"
   ]
  },
  {
   "cell_type": "code",
   "execution_count": 5,
   "metadata": {},
   "outputs": [
    {
     "output_type": "execute_result",
     "data": {
      "text/plain": "True"
     },
     "metadata": {},
     "execution_count": 5
    }
   ],
   "source": [
    "is_even(2)"
   ]
  },
  {
   "cell_type": "code",
   "execution_count": 6,
   "metadata": {},
   "outputs": [
    {
     "output_type": "execute_result",
     "data": {
      "text/plain": "False"
     },
     "metadata": {},
     "execution_count": 6
    }
   ],
   "source": [
    "is_even(3)"
   ]
  },
  {
   "cell_type": "markdown",
   "metadata": {},
   "source": [
    "このような関数は、`if`の後に使うことができます。"
   ]
  },
  {
   "cell_type": "code",
   "execution_count": 7,
   "metadata": {},
   "outputs": [],
   "source": [
    "def is_odd(x):\n",
    "    if is_even(x):\n",
    "        return False\n",
    "    else:\n",
    "        return True"
   ]
  },
  {
   "cell_type": "code",
   "execution_count": 8,
   "metadata": {},
   "outputs": [
    {
     "output_type": "execute_result",
     "data": {
      "text/plain": "False"
     },
     "metadata": {},
     "execution_count": 8
    }
   ],
   "source": [
    "is_odd(2)"
   ]
  },
  {
   "cell_type": "code",
   "execution_count": 9,
   "metadata": {},
   "outputs": [
    {
     "output_type": "execute_result",
     "data": {
      "text/plain": "True"
     },
     "metadata": {},
     "execution_count": 9
    }
   ],
   "source": [
    "is_odd(3)"
   ]
  },
  {
   "cell_type": "markdown",
   "metadata": {},
   "source": [
    "## オブジェクト\n",
    "Pythonにおける値（式の評価結果）は全てオブジェクトと総称されます。 変数の値もオブジェクトです。  \n",
    "したがって、数や真理値もオブジェクトです。 今後、文字列やリストなど、様々な種類のデータが登場しますが、 それらはすべてオブジェクトです。  \n",
    "今後、オブジェクトという用語がところどころで出て来ますが、 オブジェクトとデータは同義と思って差し支えありません。 正確には、式の評価結果や変数の値となるデータがオブジェクトです。"
   ]
  },
  {
   "cell_type": "markdown",
   "metadata": {},
   "source": [
    "## 再帰\n",
    "一般に、定義しようとするもの自身を定義の中で参照することを、 再帰と言います。 再帰による定義を再帰的定義と言います。  \n",
    "たとえば、数列の漸化式は再帰的定義と考えられます。 実際に、`n`番目のフィボナッチ数を`fib(n)`とおくと、`fib(n)`は次のような漸化式を満たします。  \n",
    "```\n",
    "fib(n) = n  ただし n<2\n",
    "fib(n) = fib(n-1) + fib(n-2)  ただし n>=2\n",
    "```\n",
    "この漸化式を用いて以下のように実際にフィボナッチ数を計算することができます。  \n",
    "```\n",
    "fib(1) = 1\n",
    "fib(2) = fib(1) + fib(0) = 1 + 0 = 1\n",
    "fib(3) = fib(2) + fib(1) = 1 + 1 = 2\n",
    "fib(4) = fib(3) + fib(2) = 2 + 1 = 3\n",
    "fib(5) = fib(4) + fib(3) = 3 + 2 = 5\n",
    "```"
   ]
  },
  {
   "cell_type": "code",
   "execution_count": 12,
   "metadata": {},
   "outputs": [],
   "source": [
    "def fib(n):\n",
    "    if n < 2:\n",
    "        return n\n",
    "    else:\n",
    "        return fib(n-1) + fib(n-2)"
   ]
  },
  {
   "cell_type": "code",
   "execution_count": 18,
   "metadata": {},
   "outputs": [
    {
     "output_type": "execute_result",
     "data": {
      "text/plain": "89"
     },
     "metadata": {},
     "execution_count": 18
    }
   ],
   "source": [
    "fib(11)"
   ]
  }
 ]
}