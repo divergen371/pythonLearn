{
 "cells": [
  {
   "cell_type": "markdown",
   "metadata": {
    "collapsed": true,
    "pycharm": {
     "name": "#%% md\n"
    }
   },
   "source": [
    "# 関数の定義\n",
    "\n",
    "関数は処理をまとめた再利用可能なコードである。\n",
    "* 名前を持つ\n",
    "* 手続きの流れを持つ\n",
    "* 返り値を持つ（明示的あるいは非明示的に）"
   ]
  },
  {
   "cell_type": "code",
   "execution_count": 1,
   "outputs": [],
   "source": [
    "# 関数greetingを定義\n",
    "def greeting():\n",
    "    print('Hello')"
   ],
   "metadata": {
    "collapsed": false,
    "pycharm": {
     "name": "#%%\n"
    }
   }
  },
  {
   "cell_type": "code",
   "execution_count": 2,
   "outputs": [
    {
     "name": "stdout",
     "output_type": "stream",
     "text": [
      "Hello\n"
     ]
    }
   ],
   "source": [
    "# 関数greetingを呼び出す\n",
    "greeting()"
   ],
   "metadata": {
    "collapsed": false,
    "pycharm": {
     "name": "#%%\n"
    }
   }
  },
  {
   "cell_type": "markdown",
   "source": [
    "関数定義\n",
    "\n",
    "```\n",
    "def 関数名(引数):\n",
    "    関数本体\n",
    "```\n",
    "一行目をヘッダと呼ぶ。\n",
    "関数名は関数の呼び出しに使い、引数は関数に渡す変数。\n",
    "引数は複数受け取ることも、全く受け取らないことも出来る。"
   ],
   "metadata": {
    "collapsed": false,
    "pycharm": {
     "name": "#%% md\n"
    }
   }
  },
  {
   "cell_type": "markdown",
   "source": [
    "## 引数\n",
    "\n",
    "上に書いたとおり関数に渡す変数。\n",
    "ここに書かれた引数はローカル変数となる。"
   ],
   "metadata": {
    "collapsed": false,
    "pycharm": {
     "name": "#%% md\n"
    }
   }
  },
  {
   "cell_type": "code",
   "execution_count": 3,
   "outputs": [],
   "source": [
    "def greeting2(greeting_local):\n",
    "    print(greeting_local)"
   ],
   "metadata": {
    "collapsed": false,
    "pycharm": {
     "name": "#%%\n"
    }
   }
  },
  {
   "cell_type": "code",
   "execution_count": 4,
   "outputs": [
    {
     "name": "stdout",
     "output_type": "stream",
     "text": [
      "hello\n"
     ]
    }
   ],
   "source": [
    "greeting2('hello')"
   ],
   "metadata": {
    "collapsed": false,
    "pycharm": {
     "name": "#%%\n"
    }
   }
  },
  {
   "cell_type": "markdown",
   "source": [
    "関数に渡す引数を実引数といい、関数に設定する引数を仮引数という。\n",
    "\n",
    "\n"
   ],
   "metadata": {
    "collapsed": false,
    "pycharm": {
     "name": "#%% md\n"
    }
   }
  },
  {
   "cell_type": "markdown",
   "source": [
    "## 返り値\n",
    "\n",
    "関数が行った処理の結果を返す。\n",
    "returnで定義し、返り値がない場合はNoneを返す。\n",
    "returnが実行されると関数を抜けるため、次の行に\n",
    "処理が書かれていても実行しない。\n",
    "returnの後に式がない場合もNoneを返し関数を抜ける。"
   ],
   "metadata": {
    "collapsed": false,
    "pycharm": {
     "name": "#%% md\n"
    }
   }
  },
  {
   "cell_type": "code",
   "execution_count": 5,
   "outputs": [
    {
     "data": {
      "text/plain": "'HELLO'"
     },
     "execution_count": 5,
     "metadata": {},
     "output_type": "execute_result"
    }
   ],
   "source": [
    "# 引数に与えた文字列を大文字に変換して返す\n",
    "\n",
    "def greeting_upper(greeting_word):\n",
    "    return greeting_word.upper()\n",
    "\n",
    "\n",
    "greeting_upper('hello')"
   ],
   "metadata": {
    "collapsed": false,
    "pycharm": {
     "name": "#%%\n"
    }
   }
  },
  {
   "cell_type": "code",
   "execution_count": 6,
   "outputs": [
    {
     "data": {
      "text/plain": "5.0"
     },
     "execution_count": 6,
     "metadata": {},
     "output_type": "execute_result"
    }
   ],
   "source": [
    "# 入力の平均を計算して返す\n",
    "def average(nums):\n",
    "    return sum(nums)/len(nums) # sumとlenはPythonの組み込み関数\n",
    "\n",
    "average([1,3,5,7,9])"
   ],
   "metadata": {
    "collapsed": false,
    "pycharm": {
     "name": "#%%\n"
    }
   }
  },
  {
   "cell_type": "code",
   "execution_count": 7,
   "outputs": [
    {
     "data": {
      "text/plain": "'HELLO!!'"
     },
     "execution_count": 7,
     "metadata": {},
     "output_type": "execute_result"
    }
   ],
   "source": [
    "# 返り値は変数に代入できる\n",
    "greet = greeting_upper('hello!!')\n",
    "greet"
   ],
   "metadata": {
    "collapsed": false,
    "pycharm": {
     "name": "#%%\n"
    }
   }
  },
  {
   "cell_type": "markdown",
   "source": [
    "## 複数の引数\n",
    "\n",
    "関数は任意の数の引数を受け取ることが出来る。\n",
    "カンマで区切り、引数の名前は重複してはいけない。"
   ],
   "metadata": {
    "collapsed": false,
    "pycharm": {
     "name": "#%% md\n"
    }
   }
  },
  {
   "cell_type": "code",
   "execution_count": 8,
   "outputs": [
    {
     "name": "stdout",
     "output_type": "stream",
     "text": [
      "Hello, Bonjour, Guten Tag\n",
      "HelloHelloHello, Guten Tag\n"
     ]
    }
   ],
   "source": [
    "# 3つの引数それぞれに渡された値を表示する関数\n",
    "\n",
    "def greeting3(en, fr, de):\n",
    "    print(en + ', ' + fr + ', ' + de)\n",
    "\n",
    "greeting3('Hello', 'Bonjour', 'Guten Tag')\n",
    "\n",
    "# 引数はどのような型でもよく、混在していても良い\n",
    "\n",
    "def greeting4(en, number, de):\n",
    "    print(en*number+ ', ' + de)\n",
    "\n",
    "greeting4('Hello', 3, 'Guten Tag')"
   ],
   "metadata": {
    "collapsed": false,
    "pycharm": {
     "name": "#%%\n"
    }
   }
  },
  {
   "cell_type": "code",
   "execution_count": 9,
   "outputs": [
    {
     "name": "stdout",
     "output_type": "stream",
     "text": [
      "Hello Atsushi\n"
     ]
    },
    {
     "ename": "TypeError",
     "evalue": "can only concatenate str (not \"int\") to str",
     "output_type": "error",
     "traceback": [
      "\u001B[0;31m---------------------------------------------------------------------------\u001B[0m",
      "\u001B[0;31mTypeError\u001B[0m                                 Traceback (most recent call last)",
      "\u001B[0;32m<ipython-input-9-49860e5d6976>\u001B[0m in \u001B[0;36m<module>\u001B[0;34m\u001B[0m\n\u001B[1;32m      7\u001B[0m \u001B[0;31m# 文字列以外の型を引数に渡すとエラーを返す\u001B[0m\u001B[0;34m\u001B[0m\u001B[0;34m\u001B[0m\u001B[0;34m\u001B[0m\u001B[0m\n\u001B[1;32m      8\u001B[0m \u001B[0;34m\u001B[0m\u001B[0m\n\u001B[0;32m----> 9\u001B[0;31m \u001B[0mprint\u001B[0m\u001B[0;34m(\u001B[0m\u001B[0mgreeting5\u001B[0m\u001B[0;34m(\u001B[0m\u001B[0;36m5\u001B[0m\u001B[0;34m)\u001B[0m\u001B[0;34m)\u001B[0m\u001B[0;34m\u001B[0m\u001B[0;34m\u001B[0m\u001B[0m\n\u001B[0m\u001B[1;32m     10\u001B[0m \u001B[0;34m\u001B[0m\u001B[0m\n",
      "\u001B[0;32m<ipython-input-9-49860e5d6976>\u001B[0m in \u001B[0;36mgreeting5\u001B[0;34m(name)\u001B[0m\n\u001B[1;32m      1\u001B[0m \u001B[0;31m# 引数の型を指定する＞型アノテーション\u001B[0m\u001B[0;34m\u001B[0m\u001B[0;34m\u001B[0m\u001B[0;34m\u001B[0m\u001B[0m\n\u001B[1;32m      2\u001B[0m \u001B[0;32mdef\u001B[0m \u001B[0mgreeting5\u001B[0m\u001B[0;34m(\u001B[0m\u001B[0mname\u001B[0m\u001B[0;34m:\u001B[0m \u001B[0mstr\u001B[0m\u001B[0;34m)\u001B[0m \u001B[0;34m->\u001B[0m \u001B[0mstr\u001B[0m\u001B[0;34m:\u001B[0m\u001B[0;34m\u001B[0m\u001B[0;34m\u001B[0m\u001B[0m\n\u001B[0;32m----> 3\u001B[0;31m     \u001B[0;32mreturn\u001B[0m \u001B[0;34m'Hello '\u001B[0m \u001B[0;34m+\u001B[0m \u001B[0mname\u001B[0m\u001B[0;34m\u001B[0m\u001B[0;34m\u001B[0m\u001B[0m\n\u001B[0m\u001B[1;32m      4\u001B[0m \u001B[0;34m\u001B[0m\u001B[0m\n\u001B[1;32m      5\u001B[0m \u001B[0mprint\u001B[0m\u001B[0;34m(\u001B[0m\u001B[0mgreeting5\u001B[0m\u001B[0;34m(\u001B[0m\u001B[0;34m'Atsushi'\u001B[0m\u001B[0;34m)\u001B[0m\u001B[0;34m)\u001B[0m\u001B[0;34m\u001B[0m\u001B[0;34m\u001B[0m\u001B[0m\n",
      "\u001B[0;31mTypeError\u001B[0m: can only concatenate str (not \"int\") to str"
     ]
    }
   ],
   "source": [
    "\n",
    "# 引数の型を指定する＞型アノテーション\n",
    "def greeting5(name: str) -> str:\n",
    "    return 'Hello ' + name\n",
    "\n",
    "print(greeting5('Atsushi'))\n",
    "\n",
    "# 文字列以外の型を引数に渡すとエラーを返す\n",
    "\n",
    "print(greeting5(5))"
   ],
   "metadata": {
    "collapsed": false,
    "pycharm": {
     "name": "#%%\n"
    }
   }
  },
  {
   "cell_type": "markdown",
   "source": [
    "## 変数とスコープ\n",
    "関数の引数や関数内で定義される変数はローカル変数となる。\n",
    "よって、外部からの参照はできない。\n"
   ],
   "metadata": {
    "collapsed": false,
    "pycharm": {
     "name": "#%% md\n"
    }
   }
  },
  {
   "cell_type": "code",
   "execution_count": 10,
   "outputs": [
    {
     "name": "stdout",
     "output_type": "stream",
     "text": [
      "Hello\n"
     ]
    },
    {
     "ename": "NameError",
     "evalue": "name 'greet_local' is not defined",
     "output_type": "error",
     "traceback": [
      "\u001B[0;31m---------------------------------------------------------------------------\u001B[0m",
      "\u001B[0;31mNameError\u001B[0m                                 Traceback (most recent call last)",
      "\u001B[0;32m<ipython-input-10-053be0b7d15a>\u001B[0m in \u001B[0;36m<module>\u001B[0;34m\u001B[0m\n\u001B[1;32m      6\u001B[0m \u001B[0;31m# 外部からの参照。エラーが返ってくる（Not defined）\u001B[0m\u001B[0;34m\u001B[0m\u001B[0;34m\u001B[0m\u001B[0;34m\u001B[0m\u001B[0m\n\u001B[1;32m      7\u001B[0m \u001B[0;34m\u001B[0m\u001B[0m\n\u001B[0;32m----> 8\u001B[0;31m \u001B[0mgreet_local\u001B[0m\u001B[0;34m\u001B[0m\u001B[0;34m\u001B[0m\u001B[0m\n\u001B[0m\u001B[1;32m      9\u001B[0m \u001B[0;34m\u001B[0m\u001B[0m\n",
      "\u001B[0;31mNameError\u001B[0m: name 'greet_local' is not defined"
     ]
    }
   ],
   "source": [
    "def greeting6(greet_local):\n",
    "    print(greet_local)\n",
    "\n",
    "greeting6('Hello')\n",
    "\n",
    "# 外部からの参照。エラーが返ってくる（Not defined）\n",
    "\n",
    "greet_local"
   ],
   "metadata": {
    "collapsed": false,
    "pycharm": {
     "name": "#%%\n"
    }
   }
  },
  {
   "cell_type": "code",
   "execution_count": 13,
   "outputs": [
    {
     "name": "stdout",
     "output_type": "stream",
     "text": [
      "Hello\n",
      "Hello\n",
      "Bonjour\n",
      "Hello\n"
     ]
    }
   ],
   "source": [
    "# グローバル変数\n",
    "greet_global = 'Hello'\n",
    "\n",
    "def greeting7():\n",
    "    print(greet_global)\n",
    "\n",
    "greeting7()\n",
    "\n",
    "print(greet_global)\n",
    "\n",
    "# グローバル変数と同じ名前の変数を関数内で定義してみる\n",
    "\n",
    "def greeting8():\n",
    "    greet_global = 'Bonjour'\n",
    "    print(greet_global)\n",
    "\n",
    "greeting8()\n",
    "\n",
    "print(greet_global)"
   ],
   "metadata": {
    "collapsed": false,
    "pycharm": {
     "name": "#%%\n"
    }
   }
  },
  {
   "cell_type": "markdown",
   "source": [
    "関数内にグローバル変数と同名の変数が存在する場合、\n",
    "グローバル変数を参照できなくなる。\n",
    "例えば"
   ],
   "metadata": {
    "collapsed": false,
    "pycharm": {
     "name": "#%% md\n"
    }
   }
  },
  {
   "cell_type": "code",
   "execution_count": 14,
   "outputs": [
    {
     "ename": "UnboundLocalError",
     "evalue": "local variable 'greet_global' referenced before assignment",
     "output_type": "error",
     "traceback": [
      "\u001B[0;31m---------------------------------------------------------------------------\u001B[0m",
      "\u001B[0;31mUnboundLocalError\u001B[0m                         Traceback (most recent call last)",
      "\u001B[0;32m<ipython-input-14-511aef2d12b5>\u001B[0m in \u001B[0;36m<module>\u001B[0;34m\u001B[0m\n\u001B[1;32m      6\u001B[0m     \u001B[0mprint\u001B[0m\u001B[0;34m(\u001B[0m\u001B[0mgreet_global\u001B[0m\u001B[0;34m)\u001B[0m\u001B[0;34m\u001B[0m\u001B[0;34m\u001B[0m\u001B[0m\n\u001B[1;32m      7\u001B[0m \u001B[0;34m\u001B[0m\u001B[0m\n\u001B[0;32m----> 8\u001B[0;31m \u001B[0mgreeting9\u001B[0m\u001B[0;34m(\u001B[0m\u001B[0;34m)\u001B[0m\u001B[0;34m\u001B[0m\u001B[0;34m\u001B[0m\u001B[0m\n\u001B[0m\u001B[1;32m      9\u001B[0m \u001B[0;34m\u001B[0m\u001B[0m\n",
      "\u001B[0;32m<ipython-input-14-511aef2d12b5>\u001B[0m in \u001B[0;36mgreeting9\u001B[0;34m()\u001B[0m\n\u001B[1;32m      2\u001B[0m \u001B[0;34m\u001B[0m\u001B[0m\n\u001B[1;32m      3\u001B[0m \u001B[0;32mdef\u001B[0m \u001B[0mgreeting9\u001B[0m\u001B[0;34m(\u001B[0m\u001B[0;34m)\u001B[0m\u001B[0;34m:\u001B[0m\u001B[0;34m\u001B[0m\u001B[0;34m\u001B[0m\u001B[0m\n\u001B[0;32m----> 4\u001B[0;31m     \u001B[0mprint\u001B[0m\u001B[0;34m(\u001B[0m\u001B[0mgreet_global\u001B[0m\u001B[0;34m)\u001B[0m\u001B[0;34m\u001B[0m\u001B[0;34m\u001B[0m\u001B[0m\n\u001B[0m\u001B[1;32m      5\u001B[0m     \u001B[0mgreet_global\u001B[0m \u001B[0;34m=\u001B[0m \u001B[0;34m' Bonjour'\u001B[0m\u001B[0;34m\u001B[0m\u001B[0;34m\u001B[0m\u001B[0m\n\u001B[1;32m      6\u001B[0m     \u001B[0mprint\u001B[0m\u001B[0;34m(\u001B[0m\u001B[0mgreet_global\u001B[0m\u001B[0;34m)\u001B[0m\u001B[0;34m\u001B[0m\u001B[0;34m\u001B[0m\u001B[0m\n",
      "\u001B[0;31mUnboundLocalError\u001B[0m: local variable 'greet_global' referenced before assignment"
     ]
    }
   ],
   "source": [
    "greet_global = 'Hello'\n",
    "\n",
    "def greeting9():\n",
    "    print(greet_global) # 未定義の変数扱いになってしまう\n",
    "    greet_global = ' Bonjour'\n",
    "    print(greet_global)\n",
    "\n",
    "greeting9()"
   ],
   "metadata": {
    "collapsed": false,
    "pycharm": {
     "name": "#%%\n"
    }
   }
  },
  {
   "cell_type": "markdown",
   "source": [
    "とすると参照エラーを起こす。\n",
    "関数内にグローバル変数と同名のローカル変数が存在する場合、\n",
    "その関数内のどの場所でもローカル変数を参照するためである。"
   ],
   "metadata": {
    "collapsed": false
   }
  },
  {
   "cell_type": "markdown",
   "source": [
    "## global宣言\n",
    "\n",
    "基本的に関数内ではグローバル変数は更新されないが\n",
    "global宣言を使うことによって更新できる。\n",
    "ただし、これを濫用すると無用な混乱を招くので全く使用しない前提\n",
    "でいたほうが良い。"
   ],
   "metadata": {
    "collapsed": false,
    "pycharm": {
     "name": "#%% md\n"
    }
   }
  },
  {
   "cell_type": "code",
   "execution_count": 18,
   "outputs": [
    {
     "name": "stdout",
     "output_type": "stream",
     "text": [
      "Bonjour\n"
     ]
    },
    {
     "data": {
      "text/plain": "'Bonjour'"
     },
     "execution_count": 18,
     "metadata": {},
     "output_type": "execute_result"
    }
   ],
   "source": [
    "def greeting10():\n",
    "    global greet_global\n",
    "    greet_global = 'Bonjour'\n",
    "    print(greet_global)\n",
    "\n",
    "greeting10()\n",
    "\n",
    "greet_global"
   ],
   "metadata": {
    "collapsed": false,
    "pycharm": {
     "name": "#%%\n"
    }
   }
  },
  {
   "cell_type": "markdown",
   "source": [
    "## キーワード引数\n",
    "一般的な引数では、事前に定義した引数の順番に従って関数に渡さなければならない  。\n",
    "キーワードつき引数を使うと、関数は引数の変数名とその値をペアとして受け取ることができる。\n",
    "キーワード引数を使った場合、引数は順不同で渡せる。"
   ],
   "metadata": {
    "collapsed": false,
    "pycharm": {
     "name": "#%% md\n"
    }
   }
  },
  {
   "cell_type": "code",
   "execution_count": 19,
   "outputs": [
    {
     "name": "stdout",
     "output_type": "stream",
     "text": [
      "HelloHelloHelloHelloHello,Japan\n"
     ]
    }
   ],
   "source": [
    "def greeting11(en, number, name):\n",
    "    print(en*number+ ','+name)\n",
    "\n",
    "greeting11(en='Hello', name='Japan', number=5)"
   ],
   "metadata": {
    "collapsed": false,
    "pycharm": {
     "name": "#%%\n"
    }
   }
  }
 ],
 "metadata": {
  "kernelspec": {
   "display_name": "Python 3",
   "language": "python",
   "name": "python3"
  },
  "language_info": {
   "codemirror_mode": {
    "name": "ipython",
    "version": 2
   },
   "file_extension": ".py",
   "mimetype": "text/x-python",
   "name": "python",
   "nbconvert_exporter": "python",
   "pygments_lexer": "ipython2",
   "version": "2.7.6"
  }
 },
 "nbformat": 4,
 "nbformat_minor": 0
}