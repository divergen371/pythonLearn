{
 "cells": [
  {
   "cell_type": "markdown",
   "metadata": {
    "collapsed": true,
    "pycharm": {
     "name": "#%% md\n"
    }
   },
   "source": [
    "# 関数の定義\n",
    "\n",
    "関数は処理をまとめた再利用可能なコードである。\n",
    "* 名前を持つ\n",
    "* 手続きの流れを持つ\n",
    "* 返り値を持つ（明示的あるいは非明示的に）"
   ]
  },
  {
   "cell_type": "code",
   "execution_count": 1,
   "outputs": [],
   "source": [
    "# 関数greetingを定義\n",
    "def greeting():\n",
    "    print('Hello')"
   ],
   "metadata": {
    "collapsed": false,
    "pycharm": {
     "name": "#%%\n"
    }
   }
  },
  {
   "cell_type": "code",
   "execution_count": 2,
   "outputs": [
    {
     "name": "stdout",
     "output_type": "stream",
     "text": [
      "Hello\n"
     ]
    }
   ],
   "source": [
    "# 関数greetingを呼び出す\n",
    "greeting()"
   ],
   "metadata": {
    "collapsed": false,
    "pycharm": {
     "name": "#%%\n"
    }
   }
  },
  {
   "cell_type": "markdown",
   "source": [
    "関数定義\n",
    "\n",
    "```\n",
    "def 関数名(引数):\n",
    "    関数本体\n",
    "```\n",
    "一行目をヘッダと呼ぶ。\n",
    "関数名は関数の呼び出しに使い、引数は関数に渡す変数。\n",
    "引数は複数受け取ることも、全く受け取らないことも出来る。"
   ],
   "metadata": {
    "collapsed": false,
    "pycharm": {
     "name": "#%% md\n"
    }
   }
  },
  {
   "cell_type": "markdown",
   "source": [
    "## 引数\n",
    "\n",
    "上に書いたとおり関数に渡す変数。\n",
    "ここに書かれた引数はローカル変数となる。"
   ],
   "metadata": {
    "collapsed": false,
    "pycharm": {
     "name": "#%% md\n"
    }
   }
  },
  {
   "cell_type": "code",
   "execution_count": 11,
   "outputs": [],
   "source": [
    "def greeting2(greeting_local):\n",
    "    print(greeting_local)"
   ],
   "metadata": {
    "collapsed": false,
    "pycharm": {
     "name": "#%%\n"
    }
   }
  },
  {
   "cell_type": "code",
   "execution_count": 12,
   "outputs": [
    {
     "name": "stdout",
     "output_type": "stream",
     "text": [
      "hello\n"
     ]
    }
   ],
   "source": [
    "greeting2('hello')"
   ],
   "metadata": {
    "collapsed": false,
    "pycharm": {
     "name": "#%%\n"
    }
   }
  },
  {
   "cell_type": "markdown",
   "source": [
    "関数に渡す引数を実引数といい、関数に設定する引数を仮引数という。\n",
    "\n",
    "\n"
   ],
   "metadata": {
    "collapsed": false,
    "pycharm": {
     "name": "#%% md\n"
    }
   }
  },
  {
   "cell_type": "markdown",
   "source": [
    "## 返り値\n",
    "\n",
    "関数が行った処理の結果を返す。\n",
    "returnで定義し、返り値がない場合はNoneを返す。\n",
    "returnが実行されると関数を抜けるため、次の行に\n",
    "処理が書かれていても実行しない。\n",
    "returnの後に式がない場合もNoneを返し関数を抜ける。"
   ],
   "metadata": {
    "collapsed": false,
    "pycharm": {
     "name": "#%% md\n"
    }
   }
  },
  {
   "cell_type": "code",
   "execution_count": 14,
   "outputs": [
    {
     "data": {
      "text/plain": "'HELLO'"
     },
     "execution_count": 14,
     "metadata": {},
     "output_type": "execute_result"
    }
   ],
   "source": [
    "# 引数に与えた文字列を大文字に変換して返す\n",
    "\n",
    "def greeting_upper(greeting_word):\n",
    "    return greeting_word.upper()\n",
    "\n",
    "\n",
    "greeting_upper('hello')"
   ],
   "metadata": {
    "collapsed": false,
    "pycharm": {
     "name": "#%%\n"
    }
   }
  },
  {
   "cell_type": "code",
   "execution_count": 16,
   "outputs": [
    {
     "data": {
      "text/plain": "5.0"
     },
     "execution_count": 16,
     "metadata": {},
     "output_type": "execute_result"
    }
   ],
   "source": [
    "# 入力の平均を計算して返す\n",
    "def average(nums):\n",
    "    return sum(nums)/len(nums) # sumとlenはPythonの組み込み関数\n",
    "\n",
    "average([1,3,5,7,9])"
   ],
   "metadata": {
    "collapsed": false,
    "pycharm": {
     "name": "#%%\n"
    }
   }
  },
  {
   "cell_type": "code",
   "execution_count": null,
   "outputs": [],
   "source": [],
   "metadata": {
    "collapsed": false,
    "pycharm": {
     "name": "#%%\n"
    }
   }
  }
 ],
 "metadata": {
  "kernelspec": {
   "display_name": "Python 3",
   "language": "python",
   "name": "python3"
  },
  "language_info": {
   "codemirror_mode": {
    "name": "ipython",
    "version": 2
   },
   "file_extension": ".py",
   "mimetype": "text/x-python",
   "name": "python",
   "nbconvert_exporter": "python",
   "pygments_lexer": "ipython2",
   "version": "2.7.6"
  }
 },
 "nbformat": 4,
 "nbformat_minor": 0
}