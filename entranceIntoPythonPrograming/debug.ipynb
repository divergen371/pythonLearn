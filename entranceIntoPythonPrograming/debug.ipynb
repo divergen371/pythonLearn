{
 "metadata": {
  "language_info": {
   "codemirror_mode": {
    "name": "ipython",
    "version": 3
   },
   "file_extension": ".py",
   "mimetype": "text/x-python",
   "name": "python",
   "nbconvert_exporter": "python",
   "pygments_lexer": "ipython3",
   "version": "3.7.3-final"
  },
  "orig_nbformat": 2,
  "kernelspec": {
   "name": "python_defaultSpec_1597723542719",
   "display_name": "Python 3.7.3 64-bit"
  }
 },
 "nbformat": 4,
 "nbformat_minor": 2,
 "cells": [
  {
   "cell_type": "markdown",
   "metadata": {},
   "source": [
    "# デバッグ\n",
    "プログラムにバグ（誤り）があって正しく実行できないときは、バグを取り除くデバッグの作業が必要になります。\n",
    "そもそも、バグが出ないようにすることが大切です。 たとえば、以下に留意することでバグを防ぐことができます。\n",
    "* ”良い”コードを書く\n",
    "  * コードに説明のコメントを入れる。\n",
    "  * １行の文字数、インデント、空白などのフォーマットを遵守する。\n",
    "  * 変数や関数の名前を適当につけない。\n",
    "  * グローバル変数に留意する。\n",
    "  * コードに固有の`マジックナンバー`を避け、変数を使う。\n",
    "  * コード内でのコピーアンドペーストを避ける。\n",
    "  * コード内での不要な処理は避ける。\n",
    "  * コードの冗長性を減らす。\n",
    "\n",
    "* 参考\n",
    "  * [Google Python Style Guide](http://works.surgo.jp/translation/pyguide.html)\n",
    "  * [Official Style Guide for Python Code](http://pep8-ja.readthedocs.io/ja/latest/)\n",
    "\n",
    "* 関数の単体テストを行う。\n",
    "* 一つの関数につき、一つの機能・タスクをもたせるに留める。\n",
    "\n"
   ]
  },
  {
   "cell_type": "markdown",
   "metadata": {},
   "source": [
    "## 文法エラー Syntax Error\n",
    "文法エラーは、入力がPythonの文法に違反しているエラーです。 文法エラーに対しては、  \n",
    "1. まず、エラーメッセージを確認しましょう。  \n",
    "2. エラーメッセージの最終行を見て、それが SyntaxError であることを確認しましょう。  \n",
    "3. エラーとなっているコードの行数を確認しましょう。  \n",
    "4. そして、当該行付近のコードを注意深く確認しましょう。  \n",
    "\n",
    "よくある文法エラーの例：\n",
    "\n",
    "* クォーテーションや括弧の閉じ忘れ\n",
    "* コロンのつけ忘れ\n",
    "* = と == の混同\n",
    "* インデントの誤り\n",
    "* 全角の空白\n",
    "など"
   ]
  },
  {
   "cell_type": "code",
   "execution_count": 1,
   "metadata": {},
   "outputs": [
    {
     "output_type": "error",
     "ename": "SyntaxError",
     "evalue": "EOL while scanning string literal (<ipython-input-1-87bc87c08523>, line 1)",
     "traceback": [
      "\u001b[0;36m  File \u001b[0;32m\"<ipython-input-1-87bc87c08523>\"\u001b[0;36m, line \u001b[0;32m1\u001b[0m\n\u001b[0;31m    print(\"This is error!!)\u001b[0m\n\u001b[0m                           ^\u001b[0m\n\u001b[0;31mSyntaxError\u001b[0m\u001b[0;31m:\u001b[0m EOL while scanning string literal\n"
     ]
    }
   ],
   "source": [
    "# クォーテーション忘れ\n",
    "print(\"This is error!!)"
   ]
  },
  {
   "cell_type": "code",
   "execution_count": 3,
   "metadata": {},
   "outputs": [
    {
     "output_type": "error",
     "ename": "SyntaxError",
     "evalue": "invalid character in identifier (<ipython-input-3-6a1d737d6e97>, line 1)",
     "traceback": [
      "\u001b[0;36m  File \u001b[0;32m\"<ipython-input-3-6a1d737d6e97>\"\u001b[0;36m, line \u001b[0;32m1\u001b[0m\n\u001b[0;31m    1 +　1\u001b[0m\n\u001b[0m       　^\u001b[0m\n\u001b[0;31mSyntaxError\u001b[0m\u001b[0;31m:\u001b[0m invalid character in identifier\n"
     ]
    }
   ],
   "source": [
    "1 +　1 #　演算子あとのスペースが全角"
   ]
  },
  {
   "cell_type": "code",
   "execution_count": null,
   "metadata": {},
   "outputs": [],
   "source": []
  }
 ]
}