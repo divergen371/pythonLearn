{
 "metadata": {
  "language_info": {
   "codemirror_mode": {
    "name": "ipython",
    "version": 3
   },
   "file_extension": ".py",
   "mimetype": "text/x-python",
   "name": "python",
   "nbconvert_exporter": "python",
   "pygments_lexer": "ipython3",
   "version": "3.7.3-final"
  },
  "orig_nbformat": 2,
  "kernelspec": {
   "name": "python_defaultSpec_1597723542719",
   "display_name": "Python 3.7.3 64-bit"
  }
 },
 "nbformat": 4,
 "nbformat_minor": 2,
 "cells": [
  {
   "cell_type": "markdown",
   "metadata": {},
   "source": [
    "# デバッグ\n",
    "プログラムにバグ（誤り）があって正しく実行できないときは、バグを取り除くデバッグの作業が必要になります。\n",
    "そもそも、バグが出ないようにすることが大切です。 たとえば、以下に留意することでバグを防ぐことができます。\n",
    "* ”良い”コードを書く\n",
    "  * コードに説明のコメントを入れる。\n",
    "  * １行の文字数、インデント、空白などのフォーマットを遵守する。\n",
    "  * 変数や関数の名前を適当につけない。\n",
    "  * グローバル変数に留意する。\n",
    "  * コードに固有の`マジックナンバー`を避け、変数を使う。\n",
    "  * コード内でのコピーアンドペーストを避ける。\n",
    "  * コード内での不要な処理は避ける。\n",
    "  * コードの冗長性を減らす。\n",
    "\n",
    "* 参考\n",
    "  * [Google Python Style Guide](http://works.surgo.jp/translation/pyguide.html)\n",
    "  * [Official Style Guide for Python Code](http://pep8-ja.readthedocs.io/ja/latest/)\n",
    "\n",
    "* 関数の単体テストを行う。\n",
    "* 一つの関数につき、一つの機能・タスクをもたせるに留める。\n",
    "\n"
   ]
  },
  {
   "cell_type": "markdown",
   "metadata": {},
   "source": [
    "## 文法エラー Syntax Error\n",
    "文法エラーは、入力がPythonの文法に違反しているエラーです。 文法エラーに対しては、  \n",
    "1. まず、エラーメッセージを確認しましょう。  \n",
    "2. エラーメッセージの最終行を見て、それが SyntaxError であることを確認しましょう。  \n",
    "3. エラーとなっているコードの行数を確認しましょう。  \n",
    "4. そして、当該行付近のコードを注意深く確認しましょう。  \n",
    "\n",
    "よくある文法エラーの例：\n",
    "\n",
    "* クォーテーションや括弧の閉じ忘れ\n",
    "* コロンのつけ忘れ\n",
    "* = と == の混同\n",
    "* インデントの誤り\n",
    "* 全角の空白\n",
    "など"
   ]
  },
  {
   "cell_type": "code",
   "execution_count": 1,
   "metadata": {},
   "outputs": [
    {
     "output_type": "error",
     "ename": "SyntaxError",
     "evalue": "EOL while scanning string literal (<ipython-input-1-87bc87c08523>, line 1)",
     "traceback": [
      "\u001b[0;36m  File \u001b[0;32m\"<ipython-input-1-87bc87c08523>\"\u001b[0;36m, line \u001b[0;32m1\u001b[0m\n\u001b[0;31m    print(\"This is error!!)\u001b[0m\n\u001b[0m                           ^\u001b[0m\n\u001b[0;31mSyntaxError\u001b[0m\u001b[0;31m:\u001b[0m EOL while scanning string literal\n"
     ]
    }
   ],
   "source": [
    "# クォーテーション忘れ\n",
    "print(\"This is error!!)"
   ]
  },
  {
   "cell_type": "code",
   "execution_count": 3,
   "metadata": {},
   "outputs": [
    {
     "output_type": "error",
     "ename": "SyntaxError",
     "evalue": "invalid character in identifier (<ipython-input-3-6a1d737d6e97>, line 1)",
     "traceback": [
      "\u001b[0;36m  File \u001b[0;32m\"<ipython-input-3-6a1d737d6e97>\"\u001b[0;36m, line \u001b[0;32m1\u001b[0m\n\u001b[0;31m    1 +　1\u001b[0m\n\u001b[0m       　^\u001b[0m\n\u001b[0;31mSyntaxError\u001b[0m\u001b[0;31m:\u001b[0m invalid character in identifier\n"
     ]
    }
   ],
   "source": [
    "1 +　1 #　演算子あとのスペースが全角"
   ]
  },
  {
   "cell_type": "markdown",
   "metadata": {},
   "source": [
    "## 実行エラー Runtime Error\n",
    "実行エラーは、コードの実行時に検出されるエラーです。 実行エラーに対しては、  \n",
    "1. まず、エラーメッセージを確認しましょう。  \n",
    "2. エラーメッセージの最終行を見て、そのエラーのタイプを確認しましょう。  \n",
    "3. エラーとなっているコードの行数を確認しましょう。  \n",
    "4. そして、当該行付近のコードについて、どの部分が実行エラーのタイプに関係しているか確認しましょう。もし複数の原因がありそうであれば、行を分割、改行して再度実行し、エラーを確認しましょう。  \n",
    "5. 原因がわからない場合は、 print を挿入して処理の入出力の内容を確認しましょう。  \n",
    "\n",
    "よくある実行エラーの例：\n",
    "* 文字列やリストの要素エラー\n",
    "* 変数名・関数名の打ち間違え\n",
    "* 無限の繰り返し\n",
    "* 型と処理の不整合\n",
    "* ゼロによる割り算\n",
    "* ファイルの入出力誤り、\n",
    "\n",
    "など"
   ]
  },
  {
   "cell_type": "code",
   "execution_count": 4,
   "metadata": {},
   "outputs": [
    {
     "output_type": "error",
     "ename": "ZeroDivisionError",
     "evalue": "division by zero",
     "traceback": [
      "\u001b[0;31m---------------------------------------------------------------------------\u001b[0m",
      "\u001b[0;31mZeroDivisionError\u001b[0m                         Traceback (most recent call last)",
      "\u001b[0;32m<ipython-input-4-184904070a29>\u001b[0m in \u001b[0;36m<module>\u001b[0;34m\u001b[0m\n\u001b[0;32m----> 1\u001b[0;31m \u001b[0mprint\u001b[0m\u001b[0;34m(\u001b[0m\u001b[0;36m1\u001b[0m\u001b[0;34m/\u001b[0m\u001b[0;36m0\u001b[0m\u001b[0;34m)\u001b[0m \u001b[0;31m# ゼロ除算\u001b[0m\u001b[0;34m\u001b[0m\u001b[0;34m\u001b[0m\u001b[0m\n\u001b[0m",
      "\u001b[0;31mZeroDivisionError\u001b[0m: division by zero"
     ]
    }
   ],
   "source": [
    "print(1/0) # ゼロ除算"
   ]
  },
  {
   "cell_type": "markdown",
   "metadata": {},
   "source": [
    "## 論理エラー Logical Error\n",
    "論理エラーとは、プログラムを実行できるが、プログラムが意図したように動作しないというエラーです。 論理エラーに対しては、  \n",
    "1. 入力に対する期待される出力と実際の出力を確認しましょう。  \n",
    "2. コードを読み進めながら、期待する処理と異なるところを見つけましょう。必要であれば、 print を挿入して処理の入出力の内容を確認しましょう。"
   ]
  },
  {
   "cell_type": "markdown",
   "metadata": {},
   "source": [
    "## ptintによるデバッグ\n",
    "`print`を用いたデバッグについて紹介しましょう。  \n",
    "以下の関数`median(x,y,z)`は、`x`と`y`と`z`の中間値（真ん中の値）を求めようとするものです。`x`と`y`と`z`は相異なる数であると仮定します。\n"
   ]
  },
  {
   "cell_type": "code",
   "execution_count": 7,
   "metadata": {},
   "outputs": [],
   "source": [
    "def median(x,y,z):\n",
    "    if x>y:\n",
    "        x = y\n",
    "        y = x\n",
    "    if z<x:\n",
    "        return x\n",
    "    if z<y:\n",
    "        return z\n",
    "    return y"
   ]
  },
  {
   "cell_type": "code",
   "execution_count": 10,
   "metadata": {
    "tags": []
   },
   "outputs": [
    {
     "output_type": "stream",
     "name": "stdout",
     "text": "1 1\n"
    },
    {
     "output_type": "execute_result",
     "data": {
      "text/plain": "1"
     },
     "metadata": {},
     "execution_count": 10
    }
   ],
   "source": [
    "median(3,1,2)"
   ]
  },
  {
   "cell_type": "markdown",
   "metadata": {},
   "source": [
    "このようにこのプログラムは間違っています。  \n",
    "最初のif文で`x>y`のときに`x`と`y`を交換しようとしているのですが、それがうまく行っていないようです。  \n",
    "そこで、最初のif文の後に`print`を入れて、`x `と`y`の値を表示させましょう。"
   ]
  },
  {
   "cell_type": "code",
   "execution_count": 9,
   "metadata": {},
   "outputs": [],
   "source": [
    "def median(x,y,z):\n",
    "    if x>y:\n",
    "        x = y\n",
    "        y = x\n",
    "    print(x,y)\n",
    "    if z<x:\n",
    "        return x\n",
    "    if z<y:\n",
    "        return z\n",
    "    return y"
   ]
  },
  {
   "cell_type": "code",
   "execution_count": 11,
   "metadata": {
    "tags": []
   },
   "outputs": [
    {
     "output_type": "stream",
     "name": "stdout",
     "text": "1 1\n"
    },
    {
     "output_type": "execute_result",
     "data": {
      "text/plain": "1"
     },
     "metadata": {},
     "execution_count": 11
    }
   ],
   "source": [
    "median(3,1,2)"
   ]
  },
  {
   "cell_type": "markdown",
   "metadata": {},
   "source": [
    "`x`と`y`が同じ値になってしまっています。そこで、以下のように修正します。"
   ]
  },
  {
   "cell_type": "code",
   "execution_count": 14,
   "metadata": {},
   "outputs": [],
   "source": [
    "def median(x,y,z):\n",
    "    if x>y:\n",
    "        w = x\n",
    "        x = y\n",
    "        y = w\n",
    "    #print(x,y)\n",
    "    if z<x:\n",
    "        return x\n",
    "    if z<y:\n",
    "        return z\n",
    "    return y"
   ]
  },
  {
   "cell_type": "code",
   "execution_count": 15,
   "metadata": {
    "tags": []
   },
   "outputs": [
    {
     "output_type": "execute_result",
     "data": {
      "text/plain": "2"
     },
     "metadata": {},
     "execution_count": 15
    }
   ],
   "source": [
    "median(3,1,2)"
   ]
  },
  {
   "cell_type": "markdown",
   "metadata": {},
   "source": [
    "正しく動きました。`print`は削除してもよいのですが、今後のために`#`を付けてコメントアウトして残しておきます。"
   ]
  },
  {
   "cell_type": "markdown",
   "metadata": {},
   "source": [
    "## assert文によるデバッグ\n",
    "論理エラーを見つける上で有用なのが、assert文です。  \n",
    "`assert`の次に書かれた条件式が偽であった時に、`AssertionError`が発生してプログラムが停止する仕組みです。  \n",
    "次に例を示します。"
   ]
  },
  {
   "cell_type": "code",
   "execution_count": null,
   "metadata": {},
   "outputs": [],
   "source": []
  }
 ]
}