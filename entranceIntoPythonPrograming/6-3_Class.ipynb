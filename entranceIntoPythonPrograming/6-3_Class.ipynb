{
 "cells": [
  {
   "cell_type": "markdown",
   "metadata": {
    "collapsed": true,
    "pycharm": {
     "name": "#%% md\n"
    }
   },
   "source": [
    "# クラス\n",
    "\n",
    "Pythonにおけるオブジェクト指向プログラミングのうち、クラスを定義する方法について。\n"
   ]
  },
  {
   "cell_type": "markdown",
   "source": [
    "## クラス定義\n",
    "Pythonではすべてのデータはオブジェクトであるが、以下では特にクラス定義によって作成された\n",
    "クラスを型とするデータを扱う。\n",
    "\n",
    "ファイルオブジェクトに対して`readline()`というメソッドを呼び出すと、ファイルの行が文字列として\n",
    "返って来る。\n",
    "ここではファイルオブジェクトのようなオブジェクトで`readline()`が呼び出されると\n",
    "常に`'Hello\\n'`という文字列を返すものを作ってみる。\n"
   ],
   "metadata": {
    "collapsed": false,
    "pycharm": {
     "name": "#%% md\n"
    }
   }
  },
  {
   "cell_type": "markdown",
   "source": [
    "まず、新しいクラスを定義する。\n",
    "クラスとはオブジェクトの種類で、新しいクラスを定義すると、そのクラスに属するオブジェクトを\n",
    "作成することが出来る。\n",
    "\n",
    "それらのオブジェクトの型は、その新しいクラスに属する。\n"
   ],
   "metadata": {
    "collapsed": false,
    "pycharm": {
     "name": "#%% md\n",
     "is_executing": true
    }
   },
   "outputs": [
    {
     "ename": "SyntaxError",
     "evalue": "invalid character in identifier (<ipython-input-2-29b901164cc9>, line 1)",
     "output_type": "error",
     "traceback": [
      "\u001B[0;36m  File \u001B[0;32m\"<ipython-input-2-29b901164cc9>\"\u001B[0;36m, line \u001B[0;32m1\u001B[0m\n\u001B[0;31m    まず、新しいクラスを定義する。\u001B[0m\n\u001B[0m                  ^\u001B[0m\n\u001B[0;31mSyntaxError\u001B[0m\u001B[0;31m:\u001B[0m invalid character in identifier\n"
     ]
    }
   ]
  },
  {
   "cell_type": "code",
   "execution_count": 1,
   "outputs": [],
   "source": [
    "# Helloを返し続けるHelloForEverを定義する。\n",
    "\n",
    "class HelloForEver:\n",
    "    def readline(self):\n",
    "        return 'Hello\\n'"
   ],
   "metadata": {
    "collapsed": false,
    "pycharm": {
     "name": "#%%\n"
    }
   }
  },
  {
   "cell_type": "markdown",
   "source": [
    "クラス定義の書式\n",
    "\n",
    "```\n",
    "class クラス名:\n",
    "    def メソッド名(self, 引数):\n",
    "        実行文\n",
    "    def メソッド名(self, 引数):\n",
    "        実行文\n",
    "\n",
    "```\n",
    "メソッドの第一引数は慣例的に`self`となっている。"
   ],
   "metadata": {
    "collapsed": false,
    "pycharm": {
     "name": "#%% md\n"
    }
   }
  },
  {
   "cell_type": "code",
   "execution_count": 2,
   "outputs": [],
   "source": [
    "# クラスのオブジェクト\n",
    "f = HelloForEver()"
   ],
   "metadata": {
    "collapsed": false,
    "pycharm": {
     "name": "#%%\n"
    }
   }
  },
  {
   "cell_type": "markdown",
   "source": [
    "オブジェクトの生成は\n",
    "\n",
    "```\n",
    "クラス名(式, ...)\n",
    "```\n",
    "という式で行う。\n",
    "オブジェクトを生成する式をコンストラクタという。\n"
   ],
   "metadata": {
    "collapsed": false,
    "pycharm": {
     "name": "#%% md\n"
    }
   }
  },
  {
   "cell_type": "code",
   "execution_count": 3,
   "outputs": [
    {
     "data": {
      "text/plain": "__main__.HelloForEver"
     },
     "execution_count": 3,
     "metadata": {},
     "output_type": "execute_result"
    }
   ],
   "source": [
    "# 式の無いコンストラクタの型を調べる\n",
    "type(f)"
   ],
   "metadata": {
    "collapsed": false,
    "pycharm": {
     "name": "#%%\n"
    }
   }
  },
  {
   "cell_type": "code",
   "execution_count": 4,
   "outputs": [
    {
     "data": {
      "text/plain": "<__main__.HelloForEver at 0x105f772e0>"
     },
     "execution_count": 4,
     "metadata": {},
     "output_type": "execute_result"
    }
   ],
   "source": [
    "# オブジェクトそのものの型\n",
    "\n",
    "f"
   ],
   "metadata": {
    "collapsed": false,
    "pycharm": {
     "name": "#%%\n"
    }
   }
  },
  {
   "cell_type": "code",
   "execution_count": 5,
   "outputs": [
    {
     "data": {
      "text/plain": "'Hello\\n'"
     },
     "execution_count": 5,
     "metadata": {},
     "output_type": "execute_result"
    }
   ],
   "source": [
    "# このオブジェクトに対してreadline()を呼び出す\n",
    "\n",
    "f.readline()"
   ],
   "metadata": {
    "collapsed": false,
    "pycharm": {
     "name": "#%%\n"
    }
   }
  },
  {
   "cell_type": "markdown",
   "source": [
    "この例では、`f`という変数に入っているオブジェクトが`self`という引数に渡されて、`readline`\n",
    "の本体である`return 'Hello\\n'`が実行された。(この例ではselfは参照されていない）"
   ],
   "metadata": {
    "collapsed": false,
    "pycharm": {
     "name": "#%% md\n"
    }
   }
  },
  {
   "cell_type": "markdown",
   "source": [
    "## 初期化と属性\n",
    "\n",
    "以下の例では初期化のメソッドが定義され、オブジェクトに属性が付与される。\n",
    "\n",
    "初期化のメソッドは`__init__`という名前を持ち、オブジェクトが作られた時に自動的に呼び出される。\n",
    "`__init__`の引数は、オブジェクト自身と、クラス名の後に与えられる式の値である。"
   ],
   "metadata": {
    "collapsed": false,
    "pycharm": {
     "name": "#%% md\n"
    }
   }
  },
  {
   "cell_type": "code",
   "execution_count": 6,
   "outputs": [],
   "source": [
    "class HelloFile:\n",
    "    def __init__(self, n):\n",
    "        self.n = n # 左辺のnは属性名、右辺のnは__init__メソッドの引数\n",
    "    def readline(self):\n",
    "        if self.n == 0:\n",
    "            return ''\n",
    "        self.n = self.n - 1\n",
    "        return 'Hello\\n'"
   ],
   "metadata": {
    "collapsed": false,
    "pycharm": {
     "name": "#%%\n"
    }
   }
  },
  {
   "cell_type": "code",
   "execution_count": 7,
   "outputs": [],
   "source": [
    "f = HelloFile(3)"
   ],
   "metadata": {
    "collapsed": false,
    "pycharm": {
     "name": "#%%\n"
    }
   }
  },
  {
   "cell_type": "markdown",
   "source": [
    "すると、`HelloFile`を型とする新しいオブジェクトが作られて、そのオブジェクト自身が\n",
    "`self`に、`3`が`n`に渡されて、`self.n = n`という文が実行される。\n",
    "\n",
    "`self.n`という式は、このオブジェクトの`n`という名前の属性を表す。\n",
    "\n",
    "一般に、`class`の構文で定義されたクラスを型とするオブジェクトは、属性を持つことが出来る。\n",
    "属性とは個々のオブジェクトごとに記録される値であり、オブジェクトに対してその属性名を\n",
    "指定して、参照したり設定することが出来る。\n",
    "オブジェクトの属性は、`self.属性名`という式で参照され、`self.属性名`を代入文の左辺に\n",
    "書けば属性を設定ずることが出来る。\n",
    "\n",
    "`self.n = n`のうち、`self.`の次の`n`は属性を表し、右辺の`n`は、`__init__`メソッドの引数を\n",
    "表しているので、混同しないように注意。\n",
    "\n",
    "この例では、新しく作られたオブジェクトの`n`という属性が、引数`n`の値である`3`に設定\n",
    "される。\n",
    "\n",
    "`readline`メソッドについては以下のように定義されている\n",
    "\n",
    "``` python\n",
    "def readline(self):\n",
    "    if self.n == 0:\n",
    "        return ''\n",
    "    self.n = self.n = -1\n",
    "    return 'Hello\\n'\n",
    "```\n",
    "\n",
    "オブジェクトの属性`n`を参照して、それが`0`なら空文字列を返す。\n",
    "そうでなければ、属性`n`を`1`減らしてから文字列`'Hello\\n'を返す。"
   ],
   "metadata": {
    "collapsed": false,
    "pycharm": {
     "name": "#%% md\n"
    }
   }
  },
  {
   "cell_type": "code",
   "execution_count": 8,
   "outputs": [
    {
     "data": {
      "text/plain": "'Hello\\n'"
     },
     "execution_count": 8,
     "metadata": {},
     "output_type": "execute_result"
    }
   ],
   "source": [
    "f.readline()"
   ],
   "metadata": {
    "collapsed": false,
    "pycharm": {
     "name": "#%%\n"
    }
   }
  },
  {
   "cell_type": "code",
   "execution_count": 9,
   "outputs": [
    {
     "data": {
      "text/plain": "'Hello\\n'"
     },
     "execution_count": 9,
     "metadata": {},
     "output_type": "execute_result"
    }
   ],
   "source": [
    "f.readline()"
   ],
   "metadata": {
    "collapsed": false,
    "pycharm": {
     "name": "#%%\n"
    }
   }
  },
  {
   "cell_type": "code",
   "execution_count": 10,
   "outputs": [
    {
     "data": {
      "text/plain": "'Hello\\n'"
     },
     "execution_count": 10,
     "metadata": {},
     "output_type": "execute_result"
    }
   ],
   "source": [
    "\n",
    "f.readline()"
   ],
   "metadata": {
    "collapsed": false,
    "pycharm": {
     "name": "#%%\n"
    }
   }
  },
  {
   "cell_type": "code",
   "execution_count": 11,
   "outputs": [
    {
     "data": {
      "text/plain": "''"
     },
     "execution_count": 11,
     "metadata": {},
     "output_type": "execute_result"
    }
   ],
   "source": [
    "\n",
    "f.readline()"
   ],
   "metadata": {
    "collapsed": false,
    "pycharm": {
     "name": "#%%\n"
    }
   }
  },
  {
   "cell_type": "markdown",
   "source": [
    "## 継承\n",
    "\n",
    "継承は、既存のクラスをもとにして、変更部分だけを与えることにより\n",
    "新たなクラスを定義する機能である。\n",
    "\n",
    "以下では、`HelloForEver`をもとにして、`HelloFile`を定義していく。\n"
   ],
   "metadata": {
    "collapsed": false,
    "pycharm": {
     "name": "#%% md\n"
    }
   }
  },
  {
   "cell_type": "code",
   "execution_count": 13,
   "outputs": [],
   "source": [
    "class HelloFile(HelloForEver):\n",
    "    def __init__(self, n):\n",
    "        self.n = n\n",
    "    def readline(self):\n",
    "        if self.n == 0:\n",
    "            return ''\n",
    "        self.n = self.n - 1\n",
    "        return super().readline()"
   ],
   "metadata": {
    "collapsed": false,
    "pycharm": {
     "name": "#%%\n"
    }
   }
  },
  {
   "cell_type": "markdown",
   "source": [
    "ここでは、`__init__`と`readline`を新たに定義している。\n",
    "\n",
    "`HelloForEver`にも`readline`があり、こちらの`readline`は、`super.readline()`という式で\n",
    "呼出すことが出来る。\n",
    "`super()`は子クラスのオブジェクトに対して親クラスのメソッドを呼出すための構文である。\n",
    "\n",
    "\n"
   ],
   "metadata": {
    "collapsed": false,
    "pycharm": {
     "name": "#%% md\n"
    }
   }
  },
  {
   "cell_type": "code",
   "execution_count": 14,
   "outputs": [],
   "source": [
    "f = HelloFile(3)"
   ],
   "metadata": {
    "collapsed": false,
    "pycharm": {
     "name": "#%%\n"
    }
   }
  },
  {
   "cell_type": "code",
   "execution_count": 16,
   "outputs": [
    {
     "data": {
      "text/plain": "'Hello\\n'"
     },
     "execution_count": 16,
     "metadata": {},
     "output_type": "execute_result"
    }
   ],
   "source": [
    "f.readline()"
   ],
   "metadata": {
    "collapsed": false,
    "pycharm": {
     "name": "#%%\n"
    }
   }
  },
  {
   "cell_type": "markdown",
   "source": [
    "## 特殊メソッド\n",
    "\n",
    "Pyhtonでは、特殊メソッドと呼ばれるメソッドがある。これらの名前はアンダーバー2つで始まり\n",
    "アンダーバー2つで終わる。\n",
    "\n",
    "クラス定義の中で特殊メソッドを定義すると、そのクラスのオブジェクトに対して、その特殊\n",
    "メソッドに対応する機能が付与される。\n",
    "先に出た、`__init__`も特殊メソッドの一つである。\n",
    "以下で作成するクラス`HelloFileIterator`では`__iter__`と`__next__`という特殊メソッド\n",
    "が定義されている。\n",
    "このクラスは`HelloFile`を継承して定義されている。\n",
    "\n",
    "`__iter__`メソッドは、オブジェクトに対して関数`iter`が適用された時に呼び出される。\n",
    "`__iter__`メソッドの値が関数`iter`の値になる。\n",
    "以下の例では、`__iter__`はオブジェクト自身を返している。\n",
    "したがって、オブジェクトに`iter`が適用されるとオブジェクト自身が返る。"
   ],
   "metadata": {
    "collapsed": false,
    "pycharm": {
     "name": "#%% md\n"
    }
   }
  },
  {
   "cell_type": "code",
   "execution_count": 17,
   "outputs": [],
   "source": [
    "class HelloFileIterator(HelloFile):\n",
    "    def __iter__(self):\n",
    "        return self\n",
    "    def __next__(self):\n",
    "        line = self.readline()\n",
    "        if line == '':\n",
    "            raise StopIteration\n",
    "        return line"
   ],
   "metadata": {
    "collapsed": false,
    "pycharm": {
     "name": "#%%\n"
    }
   }
  },
  {
   "cell_type": "code",
   "execution_count": 18,
   "outputs": [],
   "source": [
    "f = HelloFileIterator(3)"
   ],
   "metadata": {
    "collapsed": false,
    "pycharm": {
     "name": "#%%\n"
    }
   }
  },
  {
   "cell_type": "code",
   "execution_count": 19,
   "outputs": [
    {
     "name": "stdout",
     "output_type": "stream",
     "text": [
      "True\n"
     ]
    }
   ],
   "source": [
    "print(f is iter(f))"
   ],
   "metadata": {
    "collapsed": false,
    "pycharm": {
     "name": "#%%\n"
    }
   }
  },
  {
   "cell_type": "code",
   "execution_count": null,
   "outputs": [],
   "source": [],
   "metadata": {
    "collapsed": false,
    "pycharm": {
     "name": "#%%\n"
    }
   }
  }
 ],
 "metadata": {
  "kernelspec": {
   "display_name": "Python 3",
   "language": "python",
   "name": "python3"
  },
  "language_info": {
   "codemirror_mode": {
    "name": "ipython",
    "version": 2
   },
   "file_extension": ".py",
   "mimetype": "text/x-python",
   "name": "python",
   "nbconvert_exporter": "python",
   "pygments_lexer": "ipython2",
   "version": "2.7.6"
  }
 },
 "nbformat": 4,
 "nbformat_minor": 0
}