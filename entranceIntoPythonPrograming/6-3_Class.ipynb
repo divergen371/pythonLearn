{
 "cells": [
  {
   "cell_type": "markdown",
   "metadata": {
    "collapsed": true,
    "pycharm": {
     "name": "#%% md\n"
    }
   },
   "source": [
    "# クラス\n",
    "\n",
    "Pythonにおけるオブジェクト指向プログラミングのうち、クラスを定義する方法について。\n"
   ]
  },
  {
   "cell_type": "markdown",
   "source": [
    "## クラス定義\n",
    "Pythonではすべてのデータはオブジェクトであるが、以下では特にクラス定義によって作成された\n",
    "クラスを型とするデータを扱う。\n",
    "\n",
    "ファイルオブジェクトに対して`readline()`というメソッドを呼び出すと、ファイルの行が文字列として\n",
    "返って来る。\n",
    "ここではファイルオブジェクトのようなオブジェクトで`readline()`が呼び出されると\n",
    "常に`'Hello\\n'`という文字列を返すものを作ってみる。\n"
   ],
   "metadata": {
    "collapsed": false,
    "pycharm": {
     "name": "#%% md\n"
    }
   }
  },
  {
   "cell_type": "markdown",
   "source": [
    "まず、新しいクラスを定義する。\n",
    "クラスとはオブジェクトの種類で、新しいクラスを定義すると、そのクラスに属するオブジェクトを\n",
    "作成することが出来る。\n",
    "\n",
    "それらのオブジェクトの型は、その新しいクラスに属する。\n"
   ],
   "metadata": {
    "collapsed": false,
    "pycharm": {
     "name": "#%% md\n",
     "is_executing": true
    }
   },
   "outputs": [
    {
     "ename": "SyntaxError",
     "evalue": "invalid character in identifier (<ipython-input-2-29b901164cc9>, line 1)",
     "output_type": "error",
     "traceback": [
      "\u001B[0;36m  File \u001B[0;32m\"<ipython-input-2-29b901164cc9>\"\u001B[0;36m, line \u001B[0;32m1\u001B[0m\n\u001B[0;31m    まず、新しいクラスを定義する。\u001B[0m\n\u001B[0m                  ^\u001B[0m\n\u001B[0;31mSyntaxError\u001B[0m\u001B[0;31m:\u001B[0m invalid character in identifier\n"
     ]
    }
   ]
  },
  {
   "cell_type": "code",
   "execution_count": 3,
   "outputs": [],
   "source": [
    "# Helloを返し続けるHelloForEverを定義する。\n",
    "\n",
    "class HelloForEver:\n",
    "    def readline(self):\n",
    "        return 'Hello\\n'"
   ],
   "metadata": {
    "collapsed": false,
    "pycharm": {
     "name": "#%%\n"
    }
   }
  },
  {
   "cell_type": "markdown",
   "source": [
    "クラス定義の書式\n",
    "\n",
    "```\n",
    "class クラス名:\n",
    "    def メソッド名(self, 引数):\n",
    "        実行文\n",
    "    def メソッド名(self, 引数):\n",
    "        実行文\n",
    "\n",
    "```\n",
    "メソッドの第一引数は慣例的に`self`となっている。"
   ],
   "metadata": {
    "collapsed": false,
    "pycharm": {
     "name": "#%% md\n"
    }
   }
  },
  {
   "cell_type": "code",
   "execution_count": 5,
   "outputs": [],
   "source": [
    "# クラスのオブジェクト\n",
    "f = HelloForEver()"
   ],
   "metadata": {
    "collapsed": false,
    "pycharm": {
     "name": "#%%\n"
    }
   }
  },
  {
   "cell_type": "markdown",
   "source": [
    "オブジェクトの生成は\n",
    "\n",
    "```\n",
    "クラス名(式, ...)\n",
    "```\n",
    "という式で行う。\n",
    "オブジェクトを生成する式をコンストラクタという。\n"
   ],
   "metadata": {
    "collapsed": false,
    "pycharm": {
     "name": "#%% md\n"
    }
   }
  },
  {
   "cell_type": "code",
   "execution_count": 6,
   "outputs": [
    {
     "data": {
      "text/plain": "__main__.HelloForEver"
     },
     "execution_count": 6,
     "metadata": {},
     "output_type": "execute_result"
    }
   ],
   "source": [
    "# 式の無いコンストラクタの型を調べる\n",
    "type(f)"
   ],
   "metadata": {
    "collapsed": false,
    "pycharm": {
     "name": "#%%\n"
    }
   }
  },
  {
   "cell_type": "code",
   "execution_count": null,
   "outputs": [],
   "source": [
    "# オブジェクトそのものの型\n"
   ],
   "metadata": {
    "collapsed": false,
    "pycharm": {
     "name": "#%%\n"
    }
   }
  }
 ],
 "metadata": {
  "kernelspec": {
   "display_name": "Python 3",
   "language": "python",
   "name": "python3"
  },
  "language_info": {
   "codemirror_mode": {
    "name": "ipython",
    "version": 2
   },
   "file_extension": ".py",
   "mimetype": "text/x-python",
   "name": "python",
   "nbconvert_exporter": "python",
   "pygments_lexer": "ipython2",
   "version": "2.7.6"
  }
 },
 "nbformat": 4,
 "nbformat_minor": 0
}