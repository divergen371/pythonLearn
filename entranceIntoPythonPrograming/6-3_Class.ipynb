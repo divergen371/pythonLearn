{
 "cells": [
  {
   "cell_type": "markdown",
   "metadata": {
    "collapsed": true,
    "pycharm": {
     "name": "#%% md\n"
    }
   },
   "source": [
    "# クラス\n",
    "\n",
    "Pythonにおけるオブジェクト指向プログラミングのうち、クラスを定義する方法について。\n"
   ]
  },
  {
   "cell_type": "markdown",
   "source": [
    "## クラス定義\n",
    "Pythonではすべてのデータはオブジェクトであるが、以下では特にクラス定義によって作成された\n",
    "クラスを型とするデータを扱う。\n",
    "\n",
    "ファイルオブジェクトに対して`readline()`というメソッドを呼び出すと、ファイルの行が文字列として\n",
    "返って来る。\n",
    "ここではファイルオブジェクトのようなオブジェクトで`readline()`が呼び出されると\n",
    "常に`'Hello\\n'`という文字列を返すものを作ってみる。\n"
   ],
   "metadata": {
    "collapsed": false,
    "pycharm": {
     "name": "#%% md\n"
    }
   }
  },
  {
   "cell_type": "markdown",
   "source": [
    "まず、新しいクラスを定義する。\n",
    "クラスとはオブジェクトの種類で、新しいクラスを定義すると、そのクラスに属するオブジェクトを\n",
    "作成することが出来る。\n",
    "\n",
    "それらのオブジェクトの型は、その新しいクラスに属する。\n"
   ],
   "metadata": {
    "collapsed": false,
    "pycharm": {
     "name": "#%% md\n",
     "is_executing": true
    }
   },
   "outputs": [
    {
     "ename": "SyntaxError",
     "evalue": "invalid character in identifier (<ipython-input-2-29b901164cc9>, line 1)",
     "output_type": "error",
     "traceback": [
      "\u001B[0;36m  File \u001B[0;32m\"<ipython-input-2-29b901164cc9>\"\u001B[0;36m, line \u001B[0;32m1\u001B[0m\n\u001B[0;31m    まず、新しいクラスを定義する。\u001B[0m\n\u001B[0m                  ^\u001B[0m\n\u001B[0;31mSyntaxError\u001B[0m\u001B[0;31m:\u001B[0m invalid character in identifier\n"
     ]
    }
   ]
  },
  {
   "cell_type": "code",
   "execution_count": 1,
   "outputs": [],
   "source": [
    "# Helloを返し続けるHelloForEverを定義する。\n",
    "\n",
    "class HelloForEver:\n",
    "    def readline(self):\n",
    "        return 'Hello\\n'"
   ],
   "metadata": {
    "collapsed": false,
    "pycharm": {
     "name": "#%%\n"
    }
   }
  },
  {
   "cell_type": "markdown",
   "source": [
    "クラス定義の書式\n",
    "\n",
    "```\n",
    "class クラス名:\n",
    "    def メソッド名(self, 引数):\n",
    "        実行文\n",
    "    def メソッド名(self, 引数):\n",
    "        実行文\n",
    "\n",
    "```\n",
    "メソッドの第一引数は慣例的に`self`となっている。"
   ],
   "metadata": {
    "collapsed": false,
    "pycharm": {
     "name": "#%% md\n"
    }
   }
  },
  {
   "cell_type": "code",
   "execution_count": 2,
   "outputs": [],
   "source": [
    "# クラスのオブジェクト\n",
    "f = HelloForEver()"
   ],
   "metadata": {
    "collapsed": false,
    "pycharm": {
     "name": "#%%\n"
    }
   }
  },
  {
   "cell_type": "markdown",
   "source": [
    "オブジェクトの生成は\n",
    "\n",
    "```\n",
    "クラス名(式, ...)\n",
    "```\n",
    "という式で行う。\n",
    "オブジェクトを生成する式をコンストラクタという。\n"
   ],
   "metadata": {
    "collapsed": false,
    "pycharm": {
     "name": "#%% md\n"
    }
   }
  },
  {
   "cell_type": "code",
   "execution_count": 3,
   "outputs": [
    {
     "data": {
      "text/plain": "__main__.HelloForEver"
     },
     "execution_count": 3,
     "metadata": {},
     "output_type": "execute_result"
    }
   ],
   "source": [
    "# 式の無いコンストラクタの型を調べる\n",
    "type(f)"
   ],
   "metadata": {
    "collapsed": false,
    "pycharm": {
     "name": "#%%\n"
    }
   }
  },
  {
   "cell_type": "code",
   "execution_count": 5,
   "outputs": [
    {
     "data": {
      "text/plain": "<__main__.HelloForEver at 0x10d652430>"
     },
     "execution_count": 5,
     "metadata": {},
     "output_type": "execute_result"
    }
   ],
   "source": [
    "# オブジェクトそのものの型\n",
    "\n",
    "f"
   ],
   "metadata": {
    "collapsed": false,
    "pycharm": {
     "name": "#%%\n"
    }
   }
  },
  {
   "cell_type": "code",
   "execution_count": 6,
   "outputs": [
    {
     "data": {
      "text/plain": "'Hello\\n'"
     },
     "execution_count": 6,
     "metadata": {},
     "output_type": "execute_result"
    }
   ],
   "source": [
    "# このオブジェクトに対してreadline()を呼び出す\n",
    "\n",
    "f.readline()"
   ],
   "metadata": {
    "collapsed": false,
    "pycharm": {
     "name": "#%%\n"
    }
   }
  },
  {
   "cell_type": "markdown",
   "source": [
    "この例では、`f`という変数に入っているオブジェクトが`self`という引数に渡されて、`readline`\n",
    "の本体である`return 'Hello\\n'`が実行された。(この例ではselfは参照されていない）"
   ],
   "metadata": {
    "collapsed": false,
    "pycharm": {
     "name": "#%% md\n"
    }
   }
  },
  {
   "cell_type": "markdown",
   "source": [
    "## 初期化と属性\n",
    "\n",
    "以下の例では初期化のメソッドが定義され、オブジェクトに属性が付与される。\n",
    "\n",
    "初期化のメソッドは`__init__`という名前を持ち、オブジェクトが作られた時に自動的に呼び出される。\n",
    "`__init__`の引数は、オブジェクト自身と、クラス名の後に与えられる式の値である。"
   ],
   "metadata": {
    "collapsed": false,
    "pycharm": {
     "name": "#%% md\n"
    }
   }
  },
  {
   "cell_type": "code",
   "execution_count": 7,
   "outputs": [],
   "source": [
    "class HelloFile:\n",
    "    def __init__(self, n):\n",
    "        self.n = n # 左辺のnは属性名、右辺のnは__init__メソッドの引数\n",
    "    def readline(self):\n",
    "        if self.n == 0:\n",
    "            return ''\n",
    "        self.n = self.n - 1\n",
    "        return 'Hello\\n'"
   ],
   "metadata": {
    "collapsed": false,
    "pycharm": {
     "name": "#%%\n"
    }
   }
  },
  {
   "cell_type": "code",
   "execution_count": 8,
   "outputs": [],
   "source": [
    "f = HelloFile(3)"
   ],
   "metadata": {
    "collapsed": false,
    "pycharm": {
     "name": "#%%\n"
    }
   }
  },
  {
   "cell_type": "markdown",
   "source": [
    "すると、`HelloFile`を型とする新しいオブジェクトが作られて、そのオブジェクト自身が\n",
    "`self`に、`3`が`n`に渡されて、`self.n = n`という文が実行される。\n",
    "\n",
    "`self.n`という式は、このオブジェクトの`n`という名前の属性を表す。\n",
    "\n",
    "一般に、`class`の構文で定義されたクラスを型とするオブジェクトは、属性を持つことが出来る。\n",
    "属性とは個々のオブジェクトごとに記録される値であり、オブジェクトに対してその属性名を\n",
    "指定して、参照したり設定することが出来る。\n",
    "オブジェクトの属性は、`self.属性名`という式で参照され、`self.属性名`を代入文の左辺に\n",
    "書けば属性を設定ずることが出来る。\n",
    "\n",
    "`self.n = n`のうち、`self.`の次の`n`は属性を表し、右辺の`n`は、`__init__`メソッドの引数を\n",
    "表しているので、混同しないように注意。"
   ],
   "metadata": {
    "collapsed": false,
    "pycharm": {
     "name": "#%% md\n"
    }
   }
  },
  {
   "cell_type": "code",
   "execution_count": null,
   "outputs": [],
   "source": [],
   "metadata": {
    "collapsed": false,
    "pycharm": {
     "name": "#%%\n"
    }
   }
  }
 ],
 "metadata": {
  "kernelspec": {
   "display_name": "Python 3",
   "language": "python",
   "name": "python3"
  },
  "language_info": {
   "codemirror_mode": {
    "name": "ipython",
    "version": 2
   },
   "file_extension": ".py",
   "mimetype": "text/x-python",
   "name": "python",
   "nbconvert_exporter": "python",
   "pygments_lexer": "ipython2",
   "version": "2.7.6"
  }
 },
 "nbformat": 4,
 "nbformat_minor": 0
}