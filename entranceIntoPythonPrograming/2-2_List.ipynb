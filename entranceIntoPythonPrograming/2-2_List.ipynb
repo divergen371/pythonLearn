{
 "metadata": {
  "language_info": {
   "codemirror_mode": {
    "name": "ipython",
    "version": 3
   },
   "file_extension": ".py",
   "mimetype": "text/x-python",
   "name": "python",
   "nbconvert_exporter": "python",
   "pygments_lexer": "ipython3",
   "version": "3.7.3-final"
  },
  "orig_nbformat": 2,
  "kernelspec": {
   "name": "python_defaultSpec_1598496208536",
   "display_name": "Python 3.7.3 64-bit"
  }
 },
 "nbformat": 4,
 "nbformat_minor": 2,
 "cells": [
  {
   "cell_type": "markdown",
   "metadata": {},
   "source": [
    "# リスト\n",
    "複数のデータ要素をまとめて扱う。  \n",
    "リストでは構成する要素としてあらゆるデータを指定できる。  \n",
    "リスト内に異なるデータ型の要素が混ざっていても良い。"
   ]
  },
  {
   "cell_type": "code",
   "execution_count": 5,
   "metadata": {
    "tags": []
   },
   "outputs": [
    {
     "output_type": "stream",
     "name": "stdout",
     "text": "[0, 1, 2, 3, 4, 5]\n"
    },
    {
     "output_type": "execute_result",
     "data": {
      "text/plain": "list"
     },
     "metadata": {},
     "execution_count": 5
    }
   ],
   "source": [
    "numbers = [0,1,2,3,4,5]\n",
    "print(numbers)\n",
    "type(numbers)"
   ]
  },
  {
   "cell_type": "code",
   "execution_count": 7,
   "metadata": {},
   "outputs": [],
   "source": [
    "fruits = ['apple', 'banana', 'cherry']"
   ]
  },
  {
   "cell_type": "code",
   "execution_count": 9,
   "metadata": {},
   "outputs": [
    {
     "output_type": "execute_result",
     "data": {
      "text/plain": "[1, 'apple', 2, 'banana']"
     },
     "metadata": {},
     "execution_count": 9
    }
   ],
   "source": [
    "mix = [1, 'apple', 2, 'banana']\n",
    "mix"
   ]
  },
  {
   "cell_type": "code",
   "execution_count": 1,
   "metadata": {},
   "outputs": [
    {
     "output_type": "execute_result",
     "data": {
      "text/plain": "[]"
     },
     "metadata": {},
     "execution_count": 1
    }
   ],
   "source": [
    "# 空リスト\n",
    "empty = []\n",
    "empty"
   ]
  },
  {
   "cell_type": "markdown",
   "metadata": {},
   "source": [
    "## リストとインデックス\n",
    "インデックスの指定は文字列型と同じで、0から始まる。"
   ]
  },
  {
   "cell_type": "code",
   "execution_count": 2,
   "metadata": {},
   "outputs": [
    {
     "output_type": "execute_result",
     "data": {
      "text/plain": "'c'"
     },
     "metadata": {},
     "execution_count": 2
    }
   ],
   "source": [
    "abcd = ['a', 'b', 'c', 'd']\n",
    "abcd[2]"
   ]
  },
  {
   "cell_type": "markdown",
   "metadata": {},
   "source": [
    "リストは文字列とは違って変更可能である。  \n",
    "インデックスを指定して、データを代入することで要素を変更できる。"
   ]
  },
  {
   "cell_type": "code",
   "execution_count": 19,
   "metadata": {},
   "outputs": [
    {
     "output_type": "execute_result",
     "data": {
      "text/plain": "['1', '', 'c', 'd']"
     },
     "metadata": {},
     "execution_count": 19
    }
   ],
   "source": [
    "abcd = ['1', 'b', 'c', 'd']\n",
    "abcd[1] = ''\n",
    "abcd"
   ]
  },
  {
   "cell_type": "code",
   "execution_count": 6,
   "metadata": {},
   "outputs": [
    {
     "output_type": "execute_result",
     "data": {
      "text/plain": "['b', 'c']"
     },
     "metadata": {},
     "execution_count": 6
    }
   ],
   "source": [
    "abcd = ['1', 'b', 'c', 'd']\n",
    "abcd[1:3]"
   ]
  },
  {
   "cell_type": "code",
   "execution_count": 7,
   "metadata": {},
   "outputs": [
    {
     "output_type": "execute_result",
     "data": {
      "text/plain": "['1', 'c']"
     },
     "metadata": {},
     "execution_count": 7
    }
   ],
   "source": [
    "abcd = ['1', 'b', 'c', 'd']\n",
    "abcd[0:4:2]"
   ]
  },
  {
   "cell_type": "code",
   "execution_count": 1,
   "metadata": {},
   "outputs": [],
   "source": [
    "# 練習 偶数番目のインデックスを除去する。\n",
    "def remove_evenindex(ln):\n",
    "     ln2= ln[1::2] \n",
    "     return ln2"
   ]
  },
  {
   "cell_type": "code",
   "execution_count": 2,
   "metadata": {
    "tags": []
   },
   "outputs": [
    {
     "output_type": "stream",
     "name": "stdout",
     "text": "[2, 4]\n"
    }
   ],
   "source": [
    "print(remove_evenindex([1,2,3,4,5]))"
   ]
  },
  {
   "cell_type": "code",
   "execution_count": 3,
   "metadata": {},
   "outputs": [
    {
     "output_type": "execute_result",
     "data": {
      "text/plain": "['hello', 'I', 'am', 'john', 'doe.']"
     },
     "metadata": {},
     "execution_count": 3
    }
   ],
   "source": [
    "'hello I am john doe.'.split(' ')"
   ]
  },
  {
   "cell_type": "markdown",
   "metadata": {},
   "source": [
    "## 多重リスト\n",
    "リストはリストそのものをリストの要素として扱うことが出来る。"
   ]
  },
  {
   "cell_type": "code",
   "execution_count": 4,
   "metadata": {},
   "outputs": [],
   "source": [
    "# n重リスト。これは二重リストである。\n",
    "lns = [[1,2,3], [10,20,30], ['a', 'b', 'c']]"
   ]
  },
  {
   "cell_type": "markdown",
   "metadata": {},
   "source": [
    "多重リストにおいてはインデックスの指定も多重となる"
   ]
  },
  {
   "cell_type": "code",
   "execution_count": 6,
   "metadata": {},
   "outputs": [
    {
     "output_type": "execute_result",
     "data": {
      "text/plain": "10"
     },
     "metadata": {},
     "execution_count": 6
    }
   ],
   "source": [
    "# 2つ目のリストの1つ目の要素にアクセス\n",
    "lns[1][0]"
   ]
  },
  {
   "cell_type": "code",
   "execution_count": 8,
   "metadata": {},
   "outputs": [
    {
     "output_type": "execute_result",
     "data": {
      "text/plain": "[[[1, 2, 3], [10, 20, 30], ['a', 'b', 'c']],\n ['x', 1, [11, 22, 33]],\n ['y', [111, 222, 333]]]"
     },
     "metadata": {},
     "execution_count": 8
    }
   ],
   "source": [
    "# こういうのもあり\n",
    "lns2 = [lns, ['x', 1,[11,22,33]], ['y', [111,222,333]]]\n",
    "lns2"
   ]
  },
  {
   "cell_type": "markdown",
   "metadata": {},
   "source": [
    "## リストに対する関数・演算子・メソッド\n",
    "### リストの要素数\n",
    "組み込み関数`len`を使うことで、リスト内の要素の数を取得できる。"
   ]
  },
  {
   "cell_type": "code",
   "execution_count": 9,
   "metadata": {},
   "outputs": [
    {
     "output_type": "execute_result",
     "data": {
      "text/plain": "5"
     },
     "metadata": {},
     "execution_count": 9
    }
   ],
   "source": [
    "numbers = [1,2,3,4,5]\n",
    "len(numbers)"
   ]
  },
  {
   "cell_type": "code",
   "execution_count": 35,
   "metadata": {},
   "outputs": [],
   "source": [
    "# 練習 文字列中の単語の数を調べる\n",
    "def count_words(str_engsentence):\n",
    "    split = str_engsentence.split(' ')\n",
    "    return len(split)"
   ]
  },
  {
   "cell_type": "code",
   "execution_count": 36,
   "metadata": {
    "tags": []
   },
   "outputs": [
    {
     "output_type": "stream",
     "name": "stdout",
     "text": "True\n"
    }
   ],
   "source": [
    "print(count_words('From Stettin in the Baltic to Trieste in the Adriatic an iron curtain has descended across the Continent.') == 18)"
   ]
  },
  {
   "cell_type": "markdown",
   "metadata": {},
   "source": [
    "### リストと演算子\n",
    "演算子`+`によって連結、演算子`*`で連結を繰り返す。"
   ]
  },
  {
   "cell_type": "code",
   "execution_count": 14,
   "metadata": {},
   "outputs": [
    {
     "output_type": "execute_result",
     "data": {
      "text/plain": "[1, 2, 3, 'a', 'b', 'c']"
     },
     "metadata": {},
     "execution_count": 14
    }
   ],
   "source": [
    "numbers = [1,2,3]\n",
    "numbers + ['a', 'b', 'c']"
   ]
  },
  {
   "cell_type": "code",
   "execution_count": 15,
   "metadata": {},
   "outputs": [
    {
     "output_type": "execute_result",
     "data": {
      "text/plain": "[1, 2, 3, 1, 2, 3, 1, 2, 3]"
     },
     "metadata": {},
     "execution_count": 15
    }
   ],
   "source": [
    "numbers * 3"
   ]
  },
  {
   "cell_type": "code",
   "execution_count": 16,
   "metadata": {},
   "outputs": [
    {
     "output_type": "execute_result",
     "data": {
      "text/plain": "[1, 2, 3, 4, 5, 6, 1, 2, 3, 4, 5, 6, 1, 2, 3, 4, 5, 6]"
     },
     "metadata": {},
     "execution_count": 16
    }
   ],
   "source": [
    "(numbers + [4,5,6] )*3"
   ]
  },
  {
   "cell_type": "code",
   "execution_count": null,
   "metadata": {},
   "outputs": [],
   "source": []
  }
 ]
}