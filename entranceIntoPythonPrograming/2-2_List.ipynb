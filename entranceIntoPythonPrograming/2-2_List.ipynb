{
 "metadata": {
  "language_info": {
   "codemirror_mode": {
    "name": "ipython",
    "version": 3
   },
   "file_extension": ".py",
   "mimetype": "text/x-python",
   "name": "python",
   "nbconvert_exporter": "python",
   "pygments_lexer": "ipython3",
   "version": "3.7.3-final"
  },
  "orig_nbformat": 2,
  "kernelspec": {
   "name": "python_defaultSpec_1598532816451",
   "display_name": "Python 3.7.3 64-bit"
  }
 },
 "nbformat": 4,
 "nbformat_minor": 2,
 "cells": [
  {
   "cell_type": "markdown",
   "metadata": {},
   "source": [
    "# リスト\n",
    "複数のデータ要素をまとめて扱う。  \n",
    "リストでは構成する要素としてあらゆるデータを指定できる。  \n",
    "リスト内に異なるデータ型の要素が混ざっていても良い。"
   ]
  },
  {
   "cell_type": "code",
   "execution_count": 74,
   "metadata": {
    "tags": []
   },
   "outputs": [
    {
     "output_type": "stream",
     "name": "stdout",
     "text": "[0, 1, 2, 3, 4, 5]\n"
    },
    {
     "output_type": "execute_result",
     "data": {
      "text/plain": "list"
     },
     "metadata": {},
     "execution_count": 74
    }
   ],
   "source": [
    "numbers = [0,1,2,3,4,5]\n",
    "print(numbers)\n",
    "type(numbers)"
   ]
  },
  {
   "cell_type": "code",
   "execution_count": 75,
   "metadata": {},
   "outputs": [],
   "source": [
    "fruits = ['apple', 'banana', 'cherry']"
   ]
  },
  {
   "cell_type": "code",
   "execution_count": 76,
   "metadata": {},
   "outputs": [
    {
     "output_type": "execute_result",
     "data": {
      "text/plain": "[1, 'apple', 2, 'banana']"
     },
     "metadata": {},
     "execution_count": 76
    }
   ],
   "source": [
    "mix = [1, 'apple', 2, 'banana']\n",
    "mix"
   ]
  },
  {
   "cell_type": "code",
   "execution_count": 77,
   "metadata": {},
   "outputs": [
    {
     "output_type": "execute_result",
     "data": {
      "text/plain": "[]"
     },
     "metadata": {},
     "execution_count": 77
    }
   ],
   "source": [
    "# 空リスト\n",
    "empty = []\n",
    "empty"
   ]
  },
  {
   "cell_type": "markdown",
   "metadata": {},
   "source": [
    "## リストとインデックス\n",
    "インデックスの指定は文字列型と同じで、0から始まる。"
   ]
  },
  {
   "cell_type": "code",
   "execution_count": 78,
   "metadata": {},
   "outputs": [
    {
     "output_type": "execute_result",
     "data": {
      "text/plain": "'c'"
     },
     "metadata": {},
     "execution_count": 78
    }
   ],
   "source": [
    "abcd = ['a', 'b', 'c', 'd']\n",
    "abcd[2]"
   ]
  },
  {
   "cell_type": "markdown",
   "metadata": {},
   "source": [
    "リストは文字列とは違って変更可能である。  \n",
    "インデックスを指定して、データを代入することで要素を変更できる。"
   ]
  },
  {
   "cell_type": "code",
   "execution_count": 79,
   "metadata": {},
   "outputs": [
    {
     "output_type": "execute_result",
     "data": {
      "text/plain": "['1', '', 'c', 'd']"
     },
     "metadata": {},
     "execution_count": 79
    }
   ],
   "source": [
    "abcd = ['1', 'b', 'c', 'd']\n",
    "abcd[1] = ''\n",
    "abcd"
   ]
  },
  {
   "cell_type": "code",
   "execution_count": 80,
   "metadata": {},
   "outputs": [
    {
     "output_type": "execute_result",
     "data": {
      "text/plain": "['b', 'c']"
     },
     "metadata": {},
     "execution_count": 80
    }
   ],
   "source": [
    "abcd = ['1', 'b', 'c', 'd']\n",
    "abcd[1:3]"
   ]
  },
  {
   "cell_type": "code",
   "execution_count": 81,
   "metadata": {},
   "outputs": [
    {
     "output_type": "execute_result",
     "data": {
      "text/plain": "['1', 'c']"
     },
     "metadata": {},
     "execution_count": 81
    }
   ],
   "source": [
    "abcd = ['1', 'b', 'c', 'd']\n",
    "abcd[0:4:2]"
   ]
  },
  {
   "cell_type": "code",
   "execution_count": 82,
   "metadata": {},
   "outputs": [],
   "source": [
    "# 練習 偶数番目のインデックスを除去する。\n",
    "def remove_evenindex(ln):\n",
    "     ln2= ln[1::2] \n",
    "     return ln2"
   ]
  },
  {
   "cell_type": "code",
   "execution_count": 83,
   "metadata": {
    "tags": []
   },
   "outputs": [
    {
     "output_type": "stream",
     "name": "stdout",
     "text": "[2, 4]\n"
    }
   ],
   "source": [
    "print(remove_evenindex([1,2,3,4,5]))"
   ]
  },
  {
   "cell_type": "code",
   "execution_count": 84,
   "metadata": {},
   "outputs": [
    {
     "output_type": "execute_result",
     "data": {
      "text/plain": "['hello', 'I', 'am', 'john', 'doe.']"
     },
     "metadata": {},
     "execution_count": 84
    }
   ],
   "source": [
    "'hello I am john doe.'.split(' ')"
   ]
  },
  {
   "cell_type": "markdown",
   "metadata": {},
   "source": [
    "## 多重リスト\n",
    "リストはリストそのものをリストの要素として扱うことが出来る。"
   ]
  },
  {
   "cell_type": "code",
   "execution_count": 85,
   "metadata": {},
   "outputs": [],
   "source": [
    "# n重リスト。これは二重リストである。\n",
    "lns = [[1,2,3], [10,20,30], ['a', 'b', 'c']]"
   ]
  },
  {
   "cell_type": "markdown",
   "metadata": {},
   "source": [
    "多重リストにおいてはインデックスの指定も多重となる"
   ]
  },
  {
   "cell_type": "code",
   "execution_count": 86,
   "metadata": {},
   "outputs": [
    {
     "output_type": "execute_result",
     "data": {
      "text/plain": "10"
     },
     "metadata": {},
     "execution_count": 86
    }
   ],
   "source": [
    "# 2つ目のリストの1つ目の要素にアクセス\n",
    "lns[1][0]"
   ]
  },
  {
   "cell_type": "code",
   "execution_count": 87,
   "metadata": {},
   "outputs": [
    {
     "output_type": "execute_result",
     "data": {
      "text/plain": "[[[1, 2, 3], [10, 20, 30], ['a', 'b', 'c']],\n ['x', 1, [11, 22, 33]],\n ['y', [111, 222, 333]]]"
     },
     "metadata": {},
     "execution_count": 87
    }
   ],
   "source": [
    "# こういうのもあり\n",
    "lns2 = [lns, ['x', 1,[11,22,33]], ['y', [111,222,333]]]\n",
    "lns2"
   ]
  },
  {
   "cell_type": "markdown",
   "metadata": {},
   "source": [
    "## リストに対する関数・演算子・メソッド\n",
    "### リストの要素数\n",
    "組み込み関数`len`を使うことで、リスト内の要素の数を取得できる。"
   ]
  },
  {
   "cell_type": "code",
   "execution_count": 88,
   "metadata": {},
   "outputs": [
    {
     "output_type": "execute_result",
     "data": {
      "text/plain": "5"
     },
     "metadata": {},
     "execution_count": 88
    }
   ],
   "source": [
    "numbers = [1,2,3,4,5]\n",
    "len(numbers)"
   ]
  },
  {
   "cell_type": "code",
   "execution_count": 89,
   "metadata": {},
   "outputs": [],
   "source": [
    "# 練習 文字列中の単語の数を調べる\n",
    "def count_words(str_engsentence):\n",
    "    split = str_engsentence.split(' ')\n",
    "    return len(split)"
   ]
  },
  {
   "cell_type": "code",
   "execution_count": 90,
   "metadata": {
    "tags": []
   },
   "outputs": [
    {
     "output_type": "stream",
     "name": "stdout",
     "text": "True\n"
    }
   ],
   "source": [
    "print(count_words('From Stettin in the Baltic to Trieste in the Adriatic an iron curtain has descended across the Continent.') == 18)"
   ]
  },
  {
   "cell_type": "markdown",
   "metadata": {},
   "source": [
    "### リストと演算子\n",
    "演算子`+`によって連結、演算子`*`で連結を繰り返す。"
   ]
  },
  {
   "cell_type": "code",
   "execution_count": 91,
   "metadata": {},
   "outputs": [
    {
     "output_type": "execute_result",
     "data": {
      "text/plain": "[1, 2, 3, 'a', 'b', 'c']"
     },
     "metadata": {},
     "execution_count": 91
    }
   ],
   "source": [
    "numbers = [1,2,3]\n",
    "numbers + ['a', 'b', 'c']"
   ]
  },
  {
   "cell_type": "code",
   "execution_count": 92,
   "metadata": {},
   "outputs": [
    {
     "output_type": "execute_result",
     "data": {
      "text/plain": "[1, 2, 3, 1, 2, 3, 1, 2, 3]"
     },
     "metadata": {},
     "execution_count": 92
    }
   ],
   "source": [
    "numbers * 3"
   ]
  },
  {
   "cell_type": "code",
   "execution_count": 93,
   "metadata": {},
   "outputs": [
    {
     "output_type": "execute_result",
     "data": {
      "text/plain": "[1, 2, 3, 4, 5, 6, 1, 2, 3, 4, 5, 6, 1, 2, 3, 4, 5, 6]"
     },
     "metadata": {},
     "execution_count": 93
    }
   ],
   "source": [
    "(numbers + [4,5,6] )*3"
   ]
  },
  {
   "cell_type": "code",
   "execution_count": 94,
   "metadata": {},
   "outputs": [
    {
     "output_type": "execute_result",
     "data": {
      "text/plain": "[0, 0, 0, 0, 0, 0, 0, 0, 0, 0]"
     },
     "metadata": {},
     "execution_count": 94
    }
   ],
   "source": [
    "zero10 = [0] * 10\n",
    "zero10"
   ]
  },
  {
   "cell_type": "code",
   "execution_count": 95,
   "metadata": {},
   "outputs": [
    {
     "output_type": "execute_result",
     "data": {
      "text/plain": "False"
     },
     "metadata": {},
     "execution_count": 95
    }
   ],
   "source": [
    "# in演算子 >> 左辺の要素がリストに含まれていればTrueを返す。\n",
    "10 in numbers"
   ]
  },
  {
   "cell_type": "markdown",
   "metadata": {},
   "source": [
    "`in`演算子は論理演算orを簡潔に表すのに使える。  \n",
    "例えばif文などの条件で"
   ]
  },
  {
   "cell_type": "code",
   "execution_count": 96,
   "metadata": {},
   "outputs": [
    {
     "output_type": "error",
     "ename": "SyntaxError",
     "evalue": "invalid syntax (<ipython-input-96-4a32a39deea6>, line 1)",
     "traceback": [
      "\u001b[0;36m  File \u001b[0;32m\"<ipython-input-96-4a32a39deea6>\"\u001b[0;36m, line \u001b[0;32m1\u001b[0m\n\u001b[0;31m    a1 == 1 or a1 == 3  or a3 == 7:\u001b[0m\n\u001b[0m                                   ^\u001b[0m\n\u001b[0;31mSyntaxError\u001b[0m\u001b[0;31m:\u001b[0m invalid syntax\n"
     ]
    }
   ],
   "source": [
    "a1 == 1 or a1 == 3  or a3 == 7:"
   ]
  },
  {
   "cell_type": "code",
   "execution_count": 97,
   "metadata": {},
   "outputs": [
    {
     "output_type": "error",
     "ename": "SyntaxError",
     "evalue": "invalid syntax (<ipython-input-97-4c66b675cfab>, line 1)",
     "traceback": [
      "\u001b[0;36m  File \u001b[0;32m\"<ipython-input-97-4c66b675cfab>\"\u001b[0;36m, line \u001b[0;32m1\u001b[0m\n\u001b[0;31m    a1 in [1, 3, 7]:\u001b[0m\n\u001b[0m                    ^\u001b[0m\n\u001b[0;31mSyntaxError\u001b[0m\u001b[0;31m:\u001b[0m invalid syntax\n"
     ]
    }
   ],
   "source": [
    "a1 in [1, 3, 7]:"
   ]
  },
  {
   "cell_type": "markdown",
   "metadata": {},
   "source": [
    "とすることが出来る。  \n",
    "`not in`演算子は`in`の逆を意味する。"
   ]
  },
  {
   "cell_type": "code",
   "execution_count": 98,
   "metadata": {},
   "outputs": [
    {
     "output_type": "execute_result",
     "data": {
      "text/plain": "3"
     },
     "metadata": {},
     "execution_count": 98
    }
   ],
   "source": [
    "# 指定した要素のインデックスを数え上げる\n",
    "numbers = [0,1,2,3,4,5]\n",
    "numbers.index(3)"
   ]
  },
  {
   "cell_type": "code",
   "execution_count": 99,
   "metadata": {},
   "outputs": [
    {
     "output_type": "execute_result",
     "data": {
      "text/plain": "3"
     },
     "metadata": {},
     "execution_count": 99
    }
   ],
   "source": [
    "# 指定した要素の数を返す\n",
    "all20 = [20]*3\n",
    "all20.count(20)"
   ]
  },
  {
   "cell_type": "code",
   "execution_count": 100,
   "metadata": {},
   "outputs": [],
   "source": [
    "# sortメソッド（デフォルトは昇順・もとのリストに変更を加える・処理したリストを返さないので新しい変数に代入不可)\n",
    "mess_num = [2,4,1,5,7,8,9]\n",
    "mess_num.sort()"
   ]
  },
  {
   "cell_type": "code",
   "execution_count": 101,
   "metadata": {},
   "outputs": [
    {
     "output_type": "execute_result",
     "data": {
      "text/plain": "[1, 2, 4, 5, 7, 8, 9]"
     },
     "metadata": {},
     "execution_count": 101
    }
   ],
   "source": [
    "mess_num"
   ]
  },
  {
   "cell_type": "code",
   "execution_count": 102,
   "metadata": {},
   "outputs": [
    {
     "output_type": "execute_result",
     "data": {
      "text/plain": "[9, 8, 7, 5, 4, 2, 1]"
     },
     "metadata": {},
     "execution_count": 102
    }
   ],
   "source": [
    "# reverseオプションで降順\n",
    "mess_num.sort(reverse=True)\n",
    "mess_num"
   ]
  },
  {
   "cell_type": "code",
   "execution_count": 103,
   "metadata": {},
   "outputs": [
    {
     "output_type": "execute_result",
     "data": {
      "text/plain": "[1, 2, 4, 5, 7, 8, 9]"
     },
     "metadata": {},
     "execution_count": 103
    }
   ],
   "source": [
    "# sorted関数（こちらはもとのリストに変更を加えない・戻り値を返すため新しい変数に代入可）\n",
    "mess_num2 = [3,4,1,5,7,8,6]\n",
    "sorted(mess_num)"
   ]
  },
  {
   "cell_type": "code",
   "execution_count": 104,
   "metadata": {},
   "outputs": [
    {
     "output_type": "execute_result",
     "data": {
      "text/plain": "['a', 'g', 's', 'u']"
     },
     "metadata": {},
     "execution_count": 104
    }
   ],
   "source": [
    "charac = ['a', 'g', 'u', 's']\n",
    "sorted(charac)"
   ]
  },
  {
   "cell_type": "code",
   "execution_count": 105,
   "metadata": {},
   "outputs": [
    {
     "output_type": "execute_result",
     "data": {
      "text/plain": "[8, 7, 6, 5, 4, 3, 1]"
     },
     "metadata": {},
     "execution_count": 105
    }
   ],
   "source": [
    "sorted(mess_num2, reverse=True)"
   ]
  },
  {
   "cell_type": "markdown",
   "metadata": {},
   "source": [
    "## リストを操作するメソッド\n",
    "メソッドや組み込み関数がリストに対して破壊的であるかどうかは、名称からなどから判断するのは難しい。"
   ]
  },
  {
   "cell_type": "code",
   "execution_count": 106,
   "metadata": {},
   "outputs": [
    {
     "output_type": "execute_result",
     "data": {
      "text/plain": "[1, 2, 3, 4, 5, 6]"
     },
     "metadata": {},
     "execution_count": 106
    }
   ],
   "source": [
    "# append・要素の追加\n",
    "numbers = [1,2,3,4,5]\n",
    "numbers.append(6)\n",
    "numbers"
   ]
  },
  {
   "cell_type": "code",
   "execution_count": 107,
   "metadata": {
    "tags": []
   },
   "outputs": [
    {
     "output_type": "stream",
     "name": "stdout",
     "text": "[1, 2, 3, 4, 5]\n[-1, -2, -3, -4, -5]\n"
    }
   ],
   "source": [
    "# 任意のリストから空のリストへ特定の条件を満たす要素を追加する\n",
    "numbers = [0, 1, 2, 3, 4, 5, -1, -2, -3, -4, -5]\n",
    "positive = []\n",
    "negative = []\n",
    "\n",
    "for i in range(len(numbers)):\n",
    "    if numbers[i] > 0:\n",
    "        positive.append(numbers[i])\n",
    "\n",
    "for n in range(len(numbers)):\n",
    "    if numbers[n] < 0:\n",
    "        negative.append(numbers[n])\n",
    "\n",
    "\n",
    "print(positive)\n",
    "print(negative)\n"
   ]
  },
  {
   "cell_type": "code",
   "execution_count": 108,
   "metadata": {},
   "outputs": [
    {
     "output_type": "execute_result",
     "data": {
      "text/plain": "[1, 2, 3, 4, 5, -1, -2, -3, -4, -5]"
     },
     "metadata": {},
     "execution_count": 108
    }
   ],
   "source": [
    "# extend・リストにリストの要素を追加する\n",
    "positive.extend(negative)\n",
    "positive"
   ]
  },
  {
   "cell_type": "code",
   "execution_count": 109,
   "metadata": {},
   "outputs": [
    {
     "output_type": "execute_result",
     "data": {
      "text/plain": "[0, 1, 2, 3, 4, 5]"
     },
     "metadata": {},
     "execution_count": 109
    }
   ],
   "source": [
    "# insert・インデックスを指定して要素の挿入\n",
    "insert_ex = [1,2,3,4,5]\n",
    "insert_ex.insert(0, 0)\n",
    "insert_ex"
   ]
  },
  {
   "cell_type": "code",
   "execution_count": 110,
   "metadata": {},
   "outputs": [
    {
     "output_type": "execute_result",
     "data": {
      "text/plain": "[1, 2, 3, 4, 5, -2, -3, -4, -5]"
     },
     "metadata": {},
     "execution_count": 110
    }
   ],
   "source": [
    "# remove・要素の除去\n",
    "numbers = [1, 2, 3, 4, 5, -1, -2, -3, -4, -5]\n",
    "numbers.remove(-1)\n",
    "numbers"
   ]
  },
  {
   "cell_type": "code",
   "execution_count": null,
   "metadata": {},
   "outputs": [],
   "source": []
  },
  {
   "cell_type": "code",
   "execution_count": null,
   "metadata": {},
   "outputs": [],
   "source": []
  }
 ]
}