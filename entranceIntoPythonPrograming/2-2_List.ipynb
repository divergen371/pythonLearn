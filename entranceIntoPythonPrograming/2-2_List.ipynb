{
 "metadata": {
  "language_info": {
   "codemirror_mode": {
    "name": "ipython",
    "version": 3
   },
   "file_extension": ".py",
   "mimetype": "text/x-python",
   "name": "python",
   "nbconvert_exporter": "python",
   "pygments_lexer": "ipython3",
   "version": "3.7.3-final"
  },
  "orig_nbformat": 2,
  "kernelspec": {
   "name": "python3",
   "language": "python",
   "display_name": "Python 3"
  }
 },
 "nbformat": 4,
 "nbformat_minor": 2,
 "cells": [
  {
   "cell_type": "markdown",
   "metadata": {},
   "source": [
    "# リスト\n",
    "複数のデータ要素をまとめて扱う。  \n",
    "リストでは構成する要素としてあらゆるデータを指定できる。  \n",
    "リスト内に異なるデータ型の要素が混ざっていても良い。"
   ]
  },
  {
   "cell_type": "code",
   "execution_count": 12,
   "metadata": {
    "tags": []
   },
   "outputs": [
    {
     "output_type": "stream",
     "name": "stdout",
     "text": "[0, 1, 2, 3, 4, 5]\n"
    },
    {
     "output_type": "execute_result",
     "data": {
      "text/plain": "list"
     },
     "metadata": {},
     "execution_count": 12
    }
   ],
   "source": [
    "numbers = [0,1,2,3,4,5]\n",
    "print(numbers)\n",
    "type(numbers)"
   ]
  },
  {
   "cell_type": "code",
   "execution_count": 13,
   "metadata": {},
   "outputs": [],
   "source": [
    "fruits = ['apple', 'banana', 'cherry']"
   ]
  },
  {
   "cell_type": "code",
   "execution_count": 14,
   "metadata": {},
   "outputs": [
    {
     "output_type": "execute_result",
     "data": {
      "text/plain": "[1, 'apple', 2, 'banana']"
     },
     "metadata": {},
     "execution_count": 14
    }
   ],
   "source": [
    "mix = [1, 'apple', 2, 'banana']\n",
    "mix"
   ]
  },
  {
   "cell_type": "code",
   "execution_count": 15,
   "metadata": {},
   "outputs": [
    {
     "output_type": "execute_result",
     "data": {
      "text/plain": "[]"
     },
     "metadata": {},
     "execution_count": 15
    }
   ],
   "source": [
    "# 空リスト\n",
    "empty = []\n",
    "empty"
   ]
  },
  {
   "cell_type": "markdown",
   "metadata": {},
   "source": [
    "## リストとインデックス\n",
    "インデックスの指定は文字列型と同じで、0から始まる。"
   ]
  },
  {
   "cell_type": "code",
   "execution_count": 16,
   "metadata": {},
   "outputs": [
    {
     "output_type": "execute_result",
     "data": {
      "text/plain": "'c'"
     },
     "metadata": {},
     "execution_count": 16
    }
   ],
   "source": [
    "abcd = ['a', 'b', 'c', 'd']\n",
    "abcd[2]"
   ]
  },
  {
   "cell_type": "markdown",
   "metadata": {},
   "source": [
    "リストは文字列とは違って変更可能である。  \n",
    "インデックスを指定して、データを代入することで要素を変更できる。"
   ]
  },
  {
   "cell_type": "code",
   "execution_count": 17,
   "metadata": {},
   "outputs": [
    {
     "output_type": "execute_result",
     "data": {
      "text/plain": "['1', '', 'c', 'd']"
     },
     "metadata": {},
     "execution_count": 17
    }
   ],
   "source": [
    "abcd = ['1', 'b', 'c', 'd']\n",
    "abcd[1] = ''\n",
    "abcd"
   ]
  },
  {
   "cell_type": "code",
   "execution_count": 18,
   "metadata": {},
   "outputs": [
    {
     "output_type": "execute_result",
     "data": {
      "text/plain": "['b', 'c']"
     },
     "metadata": {},
     "execution_count": 18
    }
   ],
   "source": [
    "abcd = ['1', 'b', 'c', 'd']\n",
    "abcd[1:3]"
   ]
  },
  {
   "cell_type": "code",
   "execution_count": 19,
   "metadata": {},
   "outputs": [
    {
     "output_type": "execute_result",
     "data": {
      "text/plain": "['1', 'c']"
     },
     "metadata": {},
     "execution_count": 19
    }
   ],
   "source": [
    "abcd = ['1', 'b', 'c', 'd']\n",
    "abcd[0:4:2]"
   ]
  },
  {
   "cell_type": "code",
   "execution_count": 20,
   "metadata": {},
   "outputs": [],
   "source": [
    "# 練習 偶数番目のインデックスを除去する。\n",
    "def remove_evenindex(ln):\n",
    "     ln2= ln[1::2] \n",
    "     return ln2"
   ]
  },
  {
   "cell_type": "code",
   "execution_count": 21,
   "metadata": {
    "tags": []
   },
   "outputs": [
    {
     "output_type": "stream",
     "name": "stdout",
     "text": "[2, 4]\n"
    }
   ],
   "source": [
    "print(remove_evenindex([1,2,3,4,5]))"
   ]
  },
  {
   "cell_type": "code",
   "execution_count": 22,
   "metadata": {},
   "outputs": [
    {
     "output_type": "execute_result",
     "data": {
      "text/plain": "['hello', 'I', 'am', 'john', 'doe.']"
     },
     "metadata": {},
     "execution_count": 22
    }
   ],
   "source": [
    "'hello I am john doe.'.split(' ')"
   ]
  },
  {
   "cell_type": "markdown",
   "metadata": {},
   "source": [
    "## 多重リスト\n",
    "リストはリストそのものをリストの要素として扱うことが出来る。"
   ]
  },
  {
   "cell_type": "code",
   "execution_count": 23,
   "metadata": {},
   "outputs": [],
   "source": [
    "# n重リスト。これは二重リストである。\n",
    "lns = [[1,2,3], [10,20,30], ['a', 'b', 'c']]"
   ]
  },
  {
   "cell_type": "markdown",
   "metadata": {},
   "source": [
    "多重リストにおいてはインデックスの指定も多重となる"
   ]
  },
  {
   "cell_type": "code",
   "execution_count": 24,
   "metadata": {},
   "outputs": [
    {
     "output_type": "execute_result",
     "data": {
      "text/plain": "10"
     },
     "metadata": {},
     "execution_count": 24
    }
   ],
   "source": [
    "# 2つ目のリストの1つ目の要素にアクセス\n",
    "lns[1][0]"
   ]
  },
  {
   "cell_type": "code",
   "execution_count": 25,
   "metadata": {},
   "outputs": [
    {
     "output_type": "execute_result",
     "data": {
      "text/plain": "[[[1, 2, 3], [10, 20, 30], ['a', 'b', 'c']],\n ['x', 1, [11, 22, 33]],\n ['y', [111, 222, 333]]]"
     },
     "metadata": {},
     "execution_count": 25
    }
   ],
   "source": [
    "# こういうのもあり\n",
    "lns2 = [lns, ['x', 1,[11,22,33]], ['y', [111,222,333]]]\n",
    "lns2"
   ]
  },
  {
   "cell_type": "markdown",
   "metadata": {},
   "source": [
    "## リストに対する関数・演算子・メソッド\n",
    "### リストの要素数\n",
    "組み込み関数`len`を使うことで、リスト内の要素の数を取得できる。"
   ]
  },
  {
   "cell_type": "code",
   "execution_count": 26,
   "metadata": {},
   "outputs": [
    {
     "output_type": "execute_result",
     "data": {
      "text/plain": "5"
     },
     "metadata": {},
     "execution_count": 26
    }
   ],
   "source": [
    "numbers = [1,2,3,4,5]\n",
    "len(numbers)"
   ]
  },
  {
   "cell_type": "code",
   "execution_count": 27,
   "metadata": {},
   "outputs": [],
   "source": [
    "# 練習 文字列中の単語の数を調べる\n",
    "def count_words(str_engsentence):\n",
    "    split = str_engsentence.split(' ')\n",
    "    return len(split)"
   ]
  },
  {
   "cell_type": "code",
   "execution_count": 28,
   "metadata": {
    "tags": []
   },
   "outputs": [
    {
     "output_type": "stream",
     "name": "stdout",
     "text": "True\n"
    }
   ],
   "source": [
    "print(count_words('From Stettin in the Baltic to Trieste in the Adriatic an iron curtain has descended across the Continent.') == 18)"
   ]
  },
  {
   "cell_type": "markdown",
   "metadata": {},
   "source": [
    "### リストと演算子\n",
    "演算子`+`によって連結、演算子`*`で連結を繰り返す。"
   ]
  },
  {
   "cell_type": "code",
   "execution_count": 29,
   "metadata": {},
   "outputs": [
    {
     "output_type": "execute_result",
     "data": {
      "text/plain": "[1, 2, 3, 'a', 'b', 'c']"
     },
     "metadata": {},
     "execution_count": 29
    }
   ],
   "source": [
    "numbers = [1,2,3]\n",
    "numbers + ['a', 'b', 'c']"
   ]
  },
  {
   "cell_type": "code",
   "execution_count": 30,
   "metadata": {},
   "outputs": [
    {
     "output_type": "execute_result",
     "data": {
      "text/plain": "[1, 2, 3, 1, 2, 3, 1, 2, 3]"
     },
     "metadata": {},
     "execution_count": 30
    }
   ],
   "source": [
    "numbers * 3"
   ]
  },
  {
   "cell_type": "code",
   "execution_count": 31,
   "metadata": {},
   "outputs": [
    {
     "output_type": "execute_result",
     "data": {
      "text/plain": "[1, 2, 3, 4, 5, 6, 1, 2, 3, 4, 5, 6, 1, 2, 3, 4, 5, 6]"
     },
     "metadata": {},
     "execution_count": 31
    }
   ],
   "source": [
    "(numbers + [4,5,6] )*3"
   ]
  },
  {
   "cell_type": "code",
   "execution_count": 32,
   "metadata": {},
   "outputs": [
    {
     "output_type": "execute_result",
     "data": {
      "text/plain": "[0, 0, 0, 0, 0, 0, 0, 0, 0, 0]"
     },
     "metadata": {},
     "execution_count": 32
    }
   ],
   "source": [
    "zero10 = [0] * 10\n",
    "zero10"
   ]
  },
  {
   "cell_type": "code",
   "execution_count": 33,
   "metadata": {},
   "outputs": [
    {
     "output_type": "execute_result",
     "data": {
      "text/plain": "False"
     },
     "metadata": {},
     "execution_count": 33
    }
   ],
   "source": [
    "# in演算子 >> 左辺の要素がリストに含まれていればTrueを返す。\n",
    "10 in numbers"
   ]
  },
  {
   "cell_type": "markdown",
   "metadata": {},
   "source": [
    "`in`演算子は論理演算orを簡潔に表すのに使える。  \n",
    "例えばif文などの条件で"
   ]
  },
  {
   "cell_type": "code",
   "execution_count": 34,
   "metadata": {},
   "outputs": [
    {
     "output_type": "error",
     "ename": "SyntaxError",
     "evalue": "invalid syntax (<ipython-input-34-4a32a39deea6>, line 1)",
     "traceback": [
      "\u001B[0;36m  File \u001B[0;32m\"<ipython-input-34-4a32a39deea6>\"\u001B[0;36m, line \u001B[0;32m1\u001B[0m\n\u001B[0;31m    a1 == 1 or a1 == 3  or a3 == 7:\u001B[0m\n\u001B[0m                                   ^\u001B[0m\n\u001B[0;31mSyntaxError\u001B[0m\u001B[0;31m:\u001B[0m invalid syntax\n"
     ]
    }
   ],
   "source": [
    "a1 == 1 or a1 == 3  or a3 == 7:"
   ]
  },
  {
   "cell_type": "code",
   "execution_count": 35,
   "metadata": {},
   "outputs": [
    {
     "output_type": "error",
     "ename": "SyntaxError",
     "evalue": "invalid syntax (<ipython-input-35-4c66b675cfab>, line 1)",
     "traceback": [
      "\u001B[0;36m  File \u001B[0;32m\"<ipython-input-35-4c66b675cfab>\"\u001B[0;36m, line \u001B[0;32m1\u001B[0m\n\u001B[0;31m    a1 in [1, 3, 7]:\u001B[0m\n\u001B[0m                    ^\u001B[0m\n\u001B[0;31mSyntaxError\u001B[0m\u001B[0;31m:\u001B[0m invalid syntax\n"
     ]
    }
   ],
   "source": [
    "a1 in [1, 3, 7]:"
   ]
  },
  {
   "cell_type": "markdown",
   "metadata": {},
   "source": [
    "とすることが出来る。  \n",
    "`not in`演算子は`in`の逆を意味する。"
   ]
  },
  {
   "cell_type": "code",
   "execution_count": 36,
   "metadata": {},
   "outputs": [
    {
     "output_type": "execute_result",
     "data": {
      "text/plain": "3"
     },
     "metadata": {},
     "execution_count": 36
    }
   ],
   "source": [
    "# 指定した要素のインデックスを数え上げる\n",
    "numbers = [0,1,2,3,4,5]\n",
    "numbers.index(3)"
   ]
  },
  {
   "cell_type": "code",
   "execution_count": 37,
   "metadata": {},
   "outputs": [
    {
     "output_type": "execute_result",
     "data": {
      "text/plain": "3"
     },
     "metadata": {},
     "execution_count": 37
    }
   ],
   "source": [
    "# 指定した要素の数を返す\n",
    "all20 = [20]*3\n",
    "all20.count(20)"
   ]
  },
  {
   "cell_type": "code",
   "execution_count": 38,
   "metadata": {},
   "outputs": [],
   "source": [
    "# sortメソッド（デフォルトは昇順・もとのリストに変更を加える・処理したリストを返さないので新しい変数に代入不可)\n",
    "mess_num = [2,4,1,5,7,8,9]\n",
    "mess_num.sort()"
   ]
  },
  {
   "cell_type": "code",
   "execution_count": 39,
   "metadata": {},
   "outputs": [
    {
     "output_type": "execute_result",
     "data": {
      "text/plain": "[1, 2, 4, 5, 7, 8, 9]"
     },
     "metadata": {},
     "execution_count": 39
    }
   ],
   "source": [
    "mess_num"
   ]
  },
  {
   "cell_type": "code",
   "execution_count": 40,
   "metadata": {},
   "outputs": [
    {
     "output_type": "execute_result",
     "data": {
      "text/plain": "[9, 8, 7, 5, 4, 2, 1]"
     },
     "metadata": {},
     "execution_count": 40
    }
   ],
   "source": [
    "# reverseオプションで降順\n",
    "mess_num.sort(reverse=True)\n",
    "mess_num"
   ]
  },
  {
   "cell_type": "code",
   "execution_count": 41,
   "metadata": {},
   "outputs": [
    {
     "output_type": "execute_result",
     "data": {
      "text/plain": "[1, 2, 4, 5, 7, 8, 9]"
     },
     "metadata": {},
     "execution_count": 41
    }
   ],
   "source": [
    "# sorted関数（こちらはもとのリストに変更を加えない・戻り値を返すため新しい変数に代入可）\n",
    "mess_num2 = [3,4,1,5,7,8,6]\n",
    "sorted(mess_num)"
   ]
  },
  {
   "cell_type": "code",
   "execution_count": 42,
   "metadata": {},
   "outputs": [
    {
     "output_type": "execute_result",
     "data": {
      "text/plain": "['a', 'g', 's', 'u']"
     },
     "metadata": {},
     "execution_count": 42
    }
   ],
   "source": [
    "charac = ['a', 'g', 'u', 's']\n",
    "sorted(charac)"
   ]
  },
  {
   "cell_type": "code",
   "execution_count": 43,
   "metadata": {},
   "outputs": [
    {
     "output_type": "execute_result",
     "data": {
      "text/plain": "[8, 7, 6, 5, 4, 3, 1]"
     },
     "metadata": {},
     "execution_count": 43
    }
   ],
   "source": [
    "sorted(mess_num2, reverse=True)"
   ]
  },
  {
   "cell_type": "markdown",
   "metadata": {},
   "source": [
    "## リストを操作するメソッド\n",
    "メソッドや組み込み関数がリストに対して破壊的であるかどうかは、名称からなどから判断するのは難しい。"
   ]
  },
  {
   "cell_type": "code",
   "execution_count": 44,
   "metadata": {},
   "outputs": [
    {
     "output_type": "execute_result",
     "data": {
      "text/plain": "[1, 2, 3, 4, 5, 6]"
     },
     "metadata": {},
     "execution_count": 44
    }
   ],
   "source": [
    "# append・要素の追加\n",
    "numbers = [1,2,3,4,5]\n",
    "numbers.append(6)\n",
    "numbers"
   ]
  },
  {
   "cell_type": "code",
   "execution_count": 45,
   "metadata": {
    "tags": []
   },
   "outputs": [
    {
     "output_type": "stream",
     "name": "stdout",
     "text": "[1, 2, 3, 4, 5]\n[-1, -2, -3, -4, -5]\n"
    }
   ],
   "source": [
    "# 任意のリストから空のリストへ特定の条件を満たす要素を追加する\n",
    "numbers = [0, 1, 2, 3, 4, 5, -1, -2, -3, -4, -5]\n",
    "positive = []\n",
    "negative = []\n",
    "\n",
    "for i in range(len(numbers)):\n",
    "    if numbers[i] > 0:\n",
    "        positive.append(numbers[i])\n",
    "\n",
    "for n in range(len(numbers)):\n",
    "    if numbers[n] < 0:\n",
    "        negative.append(numbers[n])\n",
    "\n",
    "\n",
    "print(positive)\n",
    "print(negative)\n"
   ]
  },
  {
   "cell_type": "code",
   "execution_count": 46,
   "metadata": {},
   "outputs": [
    {
     "output_type": "execute_result",
     "data": {
      "text/plain": "[1, 2, 3, 4, 5, -1, -2, -3, -4, -5]"
     },
     "metadata": {},
     "execution_count": 46
    }
   ],
   "source": [
    "# extend・リストにリストの要素を追加する\n",
    "positive.extend(negative)\n",
    "positive"
   ]
  },
  {
   "cell_type": "code",
   "execution_count": 47,
   "metadata": {},
   "outputs": [
    {
     "output_type": "execute_result",
     "data": {
      "text/plain": "[0, 1, 2, 3, 4, 5]"
     },
     "metadata": {},
     "execution_count": 47
    }
   ],
   "source": [
    "# insert・インデックスを指定して要素の挿入\n",
    "insert_ex = [1,2,3,4,5]\n",
    "insert_ex.insert(0, 0)\n",
    "insert_ex"
   ]
  },
  {
   "cell_type": "code",
   "execution_count": 48,
   "metadata": {
    "tags": []
   },
   "outputs": [
    {
     "output_type": "execute_result",
     "data": {
      "text/plain": "[1, 2, 3, 4, 5, -2, -3, -4, -5]"
     },
     "metadata": {},
     "execution_count": 48
    }
   ],
   "source": [
    "# remove・要素の除去\n",
    "# 同じ要素が含まれる場合はインデックスが若い方から削除される。\n",
    "# リストに含まれない要素を削除しようとするとエラーを返す。\n",
    "numbers = [1, 2, 3, 4, 5, -1, -2, -3, -4, -5]\n",
    "numbers.remove(-1)\n",
    "numbers"
   ]
  },
  {
   "cell_type": "code",
   "execution_count": 49,
   "metadata": {
    "tags": []
   },
   "outputs": [
    {
     "output_type": "stream",
     "name": "stdout",
     "text": "4\n[1, 2, 3, 5, -1, -2, -3, -4, -5]\n"
    }
   ],
   "source": [
    "# pop・リストインデックスを指定して要素を削除する。\n",
    "# インデックスを指定しない場合は最後尾の要素を削除する。\n",
    "numbers = [1,2,3,4,5,-1,-2,-3,-4,-5]\n",
    "print(numbers.pop(3))\n",
    "print(numbers)"
   ]
  },
  {
   "cell_type": "code",
   "execution_count": 50,
   "metadata": {},
   "outputs": [
    {
     "output_type": "execute_result",
     "data": {
      "text/plain": "[]"
     },
     "metadata": {},
     "execution_count": 50
    }
   ],
   "source": [
    "# del・指定するリストの要素を削除する。スライスを使った指定ができる。\n",
    "numbers = [1,2,3,4,5,-1,-2,-3,-4,-5]\n",
    "del numbers[:]\n",
    "numbers"
   ]
  },
  {
   "cell_type": "code",
   "execution_count": 51,
   "metadata": {},
   "outputs": [
    {
     "output_type": "execute_result",
     "data": {
      "text/plain": "[-5, -4, -3, -2, -1, 5, 4, 3, 2, 1]"
     },
     "metadata": {},
     "execution_count": 51
    }
   ],
   "source": [
    "# reverse・リストの要素を逆順にする\n",
    "numbers = [1,2,3,4,5,-1,-2,-3,-4,-5]\n",
    "numbers.reverse()\n",
    "numbers"
   ]
  },
  {
   "cell_type": "code",
   "execution_count": 13,
   "metadata": {
    "tags": []
   },
   "outputs": [
    {
     "output_type": "stream",
     "name": "stdout",
     "text": "[-5, -4, -3, -2, -1, 5, 4, 1]\n[1, 2, 3, 4, 5, -1, -2, -3, -4, -5]\n['s', 'u', 'g']\n['s', 'u', 'g']\n"
    }
   ],
   "source": [
    "# copy・リストを複製して、新しいリストを返す。\n",
    "# 複製されたリストに何らかの変更を加えてももとにリストに影響を与えない。\n",
    "numbers = [1,2,3,4,5,-1,-2,-3,-4,-5]\n",
    "numbers2 = numbers.copy()\n",
    "del numbers[1:3]\n",
    "numbers.reverse()\n",
    "print(numbers)\n",
    "print(numbers2)\n",
    "# このメソッドの機能を変数から変数に直で代入することで模倣した場合\n",
    "# 何らかの変更を加えると新旧両方の変数に同じ変更が加えられるので注意。\n",
    "charac = ['a', 'g', 'u', 's']\n",
    "charac2 = charac\n",
    "del charac[0:1]\n",
    "charac.reverse()\n",
    "print(charac)\n",
    "print(charac2)"
   ]
  },
  {
   "cell_type": "markdown",
   "metadata": {},
   "source": [
    "## タプル\n",
    "リストと同じようにデータの並びであり、またあらゆる種類のデータを要素にすることが出来る。  \n",
    "ただし、リストと違って要素の変更が不可となる。  \n",
    "つまりリストに使用することのできた、要素を操作するメソッドや組み込み関数は使用不可となる。  \n",
    "リストと比べると一見不便に思えるがタプルのほうが実装の効率が良いので、変更の予定がないデータを  \n",
    "扱う際はタプルを選択したほうが良い。  \n",
    "  \n",
    "例えば、関数が複数の値をリストにして返し、呼び出し側がすぐにリストをバラバラにして値を取り出すような場合は  \n",
    "リストよりタプルのほうが適している。  \n",
    "あるいは、平面上の点を表す場合、$x$座標と$y$座標を別々に取り出す必要がない場合はタプルを使用するのが自然。"
   ]
  },
  {
   "cell_type": "code",
   "execution_count": 2,
   "metadata": {},
   "outputs": [
    {
     "output_type": "execute_result",
     "data": {
      "text/plain": "(3, 5)"
     },
     "metadata": {},
     "execution_count": 2
    }
   ],
   "source": [
    "x = 3\n",
    "y = 5\n",
    "point = (x, y)\n",
    "point"
   ]
  },
  {
   "cell_type": "code",
   "execution_count": 3,
   "metadata": {},
   "outputs": [
    {
     "output_type": "execute_result",
     "data": {
      "text/plain": "tuple"
     },
     "metadata": {},
     "execution_count": 3
    }
   ],
   "source": [
    "type(point)"
   ]
  },
  {
   "cell_type": "code",
   "execution_count": 4,
   "metadata": {},
   "outputs": [
    {
     "output_type": "execute_result",
     "data": {
      "text/plain": "(1, 2, 3)"
     },
     "metadata": {},
     "execution_count": 4
    }
   ],
   "source": [
    "numbers3 = (1, 2, 3)\n",
    "numbers3"
   ]
  },
  {
   "cell_type": "markdown",
   "metadata": {},
   "source": [
    "タプルは丸括弧なしでも作れる。  \n",
    "値の後ろにカンマをつけるとタプルとみなされる。"
   ]
  },
  {
   "cell_type": "code",
   "execution_count": 5,
   "metadata": {},
   "outputs": [
    {
     "output_type": "execute_result",
     "data": {
      "text/plain": "(1, 2, 3)"
     },
     "metadata": {},
     "execution_count": 5
    }
   ],
   "source": [
    "numbers4 = 1,2,3\n",
    "numbers4"
   ]
  },
  {
   "cell_type": "code",
   "execution_count": 7,
   "metadata": {},
   "outputs": [
    {
     "output_type": "execute_result",
     "data": {
      "text/plain": "(1,)"
     },
     "metadata": {},
     "execution_count": 7
    }
   ],
   "source": [
    "one_point = 1,\n",
    "one_point"
   ]
  },
  {
   "cell_type": "code",
   "execution_count": 8,
   "metadata": {},
   "outputs": [
    {
     "output_type": "execute_result",
     "data": {
      "text/plain": "tuple"
     },
     "metadata": {},
     "execution_count": 8
    }
   ],
   "source": [
    "type(one_point)"
   ]
  },
  {
   "cell_type": "code",
   "execution_count": 9,
   "metadata": {},
   "outputs": [
    {
     "output_type": "error",
     "ename": "SyntaxError",
     "evalue": "invalid syntax (<ipython-input-9-c0e7e0cf3481>, line 1)",
     "traceback": [
      "\u001B[0;36m  File \u001B[0;32m\"<ipython-input-9-c0e7e0cf3481>\"\u001B[0;36m, line \u001B[0;32m1\u001B[0m\n\u001B[0;31m    err_taple = ,\u001B[0m\n\u001B[0m                ^\u001B[0m\n\u001B[0;31mSyntaxError\u001B[0m\u001B[0;31m:\u001B[0m invalid syntax\n"
     ]
    }
   ],
   "source": [
    "# これらは不可\n",
    "err_taple = ,\n",
    "err_taple2 = (,)"
   ]
  },
  {
   "cell_type": "markdown",
   "metadata": {},
   "source": [
    "タプルは要素の変更を許可しないが、組み込み関数`list`を使ってリスト型データに反感することは出来る。  \n",
    "リストからタプルへの変更も可能である。"
   ]
  },
  {
   "cell_type": "code",
   "execution_count": 11,
   "metadata": {},
   "outputs": [
    {
     "output_type": "execute_result",
     "data": {
      "text/plain": "[1, 2, 3]"
     },
     "metadata": {},
     "execution_count": 11
    }
   ],
   "source": [
    "list(numbers3)"
   ]
  },
  {
   "cell_type": "code",
   "execution_count": 22,
   "metadata": {},
   "outputs": [
    {
     "output_type": "execute_result",
     "data": {
      "text/plain": "(1, 2, 3)"
     },
     "metadata": {},
     "execution_count": 22
    }
   ],
   "source": [
    "tuple(numbers3)"
   ]
  },
  {
   "cell_type": "markdown",
   "metadata": {},
   "source": [
    "## 練習\n",
    "整数の要素からなるリスト`ln`を引数として受け取り、`ln`に含まれる要素を逆順に格納したタプルを返す関数`reverse_to_taple`を作成せよ。"
   ]
  },
  {
   "cell_type": "code",
   "execution_count": 35,
   "metadata": {},
   "outputs": [],
   "source": [
    "def reverse_to_tuple(ln):\n",
    "  ln.reverse()\n",
    "  tran_taple = tuple(ln)\n",
    "  return tran_taple"
   ]
  },
  {
   "cell_type": "code",
   "execution_count": 36,
   "metadata": {
    "tags": []
   },
   "outputs": [
    {
     "output_type": "stream",
     "name": "stdout",
     "text": "True\n"
    }
   ],
   "source": [
    "print(reverse_to_tuple([1,2,3,4,5]) == (5,4,3,2,1))"
   ]
  },
  {
   "cell_type": "markdown",
   "metadata": {},
   "source": [
    "## 多重代入\n",
    "多重代入では、左辺に複数の変数などを指定してタプルやリストのすべての要素を一度の操作で代入することが出来る。"
   ]
  },
  {
   "cell_type": "code",
   "execution_count": 40,
   "metadata": {},
   "outputs": [
    {
     "output_type": "execute_result",
     "data": {
      "text/plain": "2"
     },
     "metadata": {},
     "execution_count": 40
    }
   ],
   "source": [
    "numbers = [1,2,3,4,5]\n",
    "[a,b,c,d,e] = numbers\n",
    "b"
   ]
  },
  {
   "cell_type": "code",
   "execution_count": 44,
   "metadata": {},
   "outputs": [
    {
     "output_type": "execute_result",
     "data": {
      "text/plain": "1"
     },
     "metadata": {},
     "execution_count": 44
    }
   ],
   "source": [
    "# これも上と同じ結果になる\n",
    "a,b,c,d,e = numbers\n",
    "a"
   ]
  },
  {
   "cell_type": "code",
   "execution_count": 46,
   "metadata": {},
   "outputs": [
    {
     "output_type": "execute_result",
     "data": {
      "text/plain": "'h'"
     },
     "metadata": {},
     "execution_count": 46
    }
   ],
   "source": [
    "# 多重代入は文字列にも可能\n",
    "a,b,c,d,e = 'hello'\n",
    "a"
   ]
  },
  {
   "cell_type": "code",
   "execution_count": 47,
   "metadata": {},
   "outputs": [
    {
     "output_type": "execute_result",
     "data": {
      "text/plain": "5"
     },
     "metadata": {},
     "execution_count": 47
    }
   ],
   "source": [
    "# タプルにも可能\n",
    "numbers5 = (1,2,3,4,5)\n",
    "a,b,c,d,e = numbers5\n",
    "e"
   ]
  },
  {
   "cell_type": "markdown",
   "metadata": {},
   "source": [
    "多重代入を使うことで2つの変数に格納された値の入れ替えを行うことが出来る。"
   ]
  },
  {
   "cell_type": "code",
   "execution_count": 48,
   "metadata": {
    "tags": []
   },
   "outputs": [
    {
     "output_type": "stream",
     "name": "stdout",
     "text": "pen apple\n"
    }
   ],
   "source": [
    "x = 'apple'\n",
    "y = 'pen'\n",
    "x, y = y, x\n",
    "print(x,y)"
   ]
  },
  {
   "cell_type": "markdown",
   "metadata": {},
   "source": [
    "## リストやタプルの比較演算\n",
    "数値などを比較するのに使うことの出来る比較演算は、リストやタプルにも利用できる。"
   ]
  },
  {
   "cell_type": "code",
   "execution_count": 50,
   "metadata": {
    "tags": []
   },
   "outputs": [
    {
     "output_type": "stream",
     "name": "stdout",
     "text": "True\nFalse\n"
    }
   ],
   "source": [
    "print([1,2,3,4] == [1,2,3,4])\n",
    "print([1,2,3,4] == [1,2,3])"
   ]
  },
  {
   "cell_type": "code",
   "execution_count": 51,
   "metadata": {
    "tags": []
   },
   "outputs": [
    {
     "output_type": "stream",
     "name": "stdout",
     "text": "True\nFalse\n"
    }
   ],
   "source": [
    "print((1,2,3) == (1,2,3))\n",
    "print((1,2,3) == (1,2))"
   ]
  },
  {
   "cell_type": "code",
   "execution_count": 52,
   "metadata": {
    "tags": []
   },
   "outputs": [
    {
     "output_type": "stream",
     "name": "stdout",
     "text": "False\nTrue\n"
    }
   ],
   "source": [
    "print([1,2,3,4] != [1,2,3,4])\n",
    "print([1,2,3,4] != [1,2,3])"
   ]
  },
  {
   "cell_type": "code",
   "execution_count": 53,
   "metadata": {
    "tags": []
   },
   "outputs": [
    {
     "output_type": "stream",
     "name": "stdout",
     "text": "False\nTrue\n"
    }
   ],
   "source": [
    "print((1,2,3) != (1,2,3))\n",
    "print((1,2,3) != (1,2))"
   ]
  },
  {
   "cell_type": "markdown",
   "metadata": {},
   "source": [
    "大小の比較は辞書式にて行われ、最初の要素から順に評価して大小を決める。  \n",
    "片方が片方を拡張したものであれば拡張されたほうが大きいと判断される。"
   ]
  },
  {
   "cell_type": "code",
   "execution_count": 4,
   "metadata": {
    "tags": []
   },
   "outputs": [
    {
     "output_type": "stream",
     "name": "stdout",
     "text": "True\nFalse\nTrue\nTrue\nTrue\nFalse\nTrue\nTrue\n"
    }
   ],
   "source": [
    "print([1,2,3] <= [1,2,3])\n",
    "print([1,2,3] < [1,2,3])\n",
    "print([1,2,3] < [1,2,4])\n",
    "print([1,2] < [1,2,3])\n",
    "\n",
    "print((1,2,3) <= (1,2,3))\n",
    "print((1,2,3) < (1,2,3))\n",
    "print((1,2,3) < (1,2,4))\n",
    "print((1,2) < (1,2,3))"
   ]
  },
  {
   "cell_type": "markdown",
   "metadata": {},
   "source": [
    "## for文による繰り返しをリスト・タプル  \n",
    "リストのそれぞれの要素に対して同じ操作を実行したい場合`for`文を使って処理する。  \n",
    "  \n",
    "  リスト`ln`の要素に対して`実行文`を繰り返したい場合は以下のようにする。  \n",
    "  \n",
    "  ```python\n",
    "  for value in ln:\n",
    "      実行文\n",
    "  ```"
   ]
  },
  {
   "cell_type": "code",
   "execution_count": 11,
   "metadata": {
    "tags": []
   },
   "outputs": [
    {
     "output_type": "stream",
     "name": "stdout",
     "text": "For loop: 1\nFor loop: 2\nFor loop: 3\n"
    }
   ],
   "source": [
    "ln = [1,2,3]\n",
    "for value in ln:\n",
    "    print('For loop:', value)"
   ]
  },
  {
   "cell_type": "markdown",
   "metadata": {},
   "source": [
    "`in`の後にリストを直接表記することも可能である。"
   ]
  },
  {
   "cell_type": "code",
   "execution_count": 16,
   "metadata": {},
   "outputs": [
    {
     "output_type": "execute_result",
     "data": {
      "text/plain": "[1, 9, 25]"
     },
     "metadata": {},
     "execution_count": 16
    }
   ],
   "source": [
    "numbers = [1,2,3,4,5]\n",
    "squares = []\n",
    "for x in numbers:\n",
    "    if x % 2 == 1:\n",
    "        squares.append(x**2)\n",
    "\n",
    "squares"
   ]
  },
  {
   "cell_type": "markdown",
   "metadata": {},
   "source": [
    "## 練習\n",
    "整数の要素からなるリスト`ln`を引数として取り、`ln`の要素の総和を返す関数`sum_list`を作成せよ。"
   ]
  },
  {
   "cell_type": "code",
   "execution_count": 17,
   "metadata": {
    "tags": []
   },
   "outputs": [
    {
     "output_type": "stream",
     "name": "stdout",
     "text": "True\nTrue\n"
    }
   ],
   "source": [
    "def sum_list(ln):\n",
    "    int_sum =0\n",
    "    for x in ln:\n",
    "        int_sum += x\n",
    "    return int_sum\n",
    "\n",
    "print(sum_list([10,20,30]) == 60)\n",
    "print(sum_list([-1,2,-3,4,-5]) == -3)"
   ]
  },
  {
   "cell_type": "markdown",
   "metadata": {},
   "source": [
    "## for文による繰り返しと文字列\n",
    "for文を使った処理は文字列全体にまたがる場合でも利用可能である。\n",
    "\n",
    "```python\n",
    "for c in str1:\n",
    "    実行文\n",
    "```"
   ]
  },
  {
   "cell_type": "code",
   "execution_count": 1,
   "metadata": {
    "tags": []
   },
   "outputs": [
    {
     "name": "stdout",
     "output_type": "stream",
     "text": [
      "A\n",
      "P\n",
      "P\n",
      "L\n",
      "E\n",
      " \n",
      "A\n",
      "N\n",
      "D\n",
      " \n",
      "P\n",
      "E\n",
      "N\n"
     ]
    }
   ],
   "source": [
    "str1 = 'Apple and pen'\n",
    "for c in str1:\n",
    "    print(c.upper())"
   ]
  },
  {
   "cell_type": "code",
   "execution_count": null,
   "metadata": {},
   "outputs": [],
   "source": []
  }
 ]
}