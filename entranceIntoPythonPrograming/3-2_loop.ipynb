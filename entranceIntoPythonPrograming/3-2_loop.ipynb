{
 "cells": [
  {
   "cell_type": "markdown",
   "metadata": {
    "collapsed": true,
    "pycharm": {
     "name": "#%% md\n"
    }
   },
   "source": [
    "# 繰り返し\n",
    "\n",
    "## for文\n",
    "\n",
    "```python\n",
    "for \"変数\" in \"シーケンス（変数・リスト・辞書など）\":\n",
    "    \"実行文\"\n",
    "```\n",
    "\n",
    "in以降に与えられる`変数・リスト・辞書など`に渡って実行文を繰り返す。\n",
    "繰り返しの順序は要素が現れる順番で、要素は変数に代入される。"
   ]
  },
  {
   "cell_type": "code",
   "execution_count": 1,
   "outputs": [
    {
     "name": "stdout",
     "output_type": "stream",
     "text": [
      "dog 3\n",
      "cat 3\n",
      "mouse 5\n",
      "finish\n"
     ]
    }
   ],
   "source": [
    "words = ['dog', 'cat', 'mouse']\n",
    "for w in words:\n",
    "    print(w, len(w))\n",
    "\n",
    "print('finish')"
   ],
   "metadata": {
    "collapsed": false,
    "pycharm": {
     "name": "#%%\n"
    }
   }
  },
  {
   "cell_type": "code",
   "execution_count": 2,
   "outputs": [
    {
     "name": "stdout",
     "output_type": "stream",
     "text": [
      "s\n",
      "u\n",
      "p\n",
      "e\n",
      "r\n",
      "c\n",
      "a\n",
      "l\n",
      "i\n",
      "f\n",
      "r\n",
      "a\n",
      "g\n",
      "i\n",
      "l\n",
      "i\n",
      "s\n",
      "t\n",
      "i\n",
      "c\n",
      "e\n",
      "x\n",
      "p\n",
      "i\n",
      "a\n",
      "l\n",
      "i\n",
      "d\n",
      "o\n",
      "c\n",
      "i\n",
      "o\n",
      "u\n",
      "s\n"
     ]
    }
   ],
   "source": [
    "word = 'supercalifragilisticexpialidocious'\n",
    "for c in word:\n",
    "    print(c)"
   ],
   "metadata": {
    "collapsed": false,
    "pycharm": {
     "name": "#%%\n"
    }
   }
  },
  {
   "cell_type": "code",
   "execution_count": 3,
   "outputs": [
    {
     "name": "stdout",
     "output_type": "stream",
     "text": [
      "97\n",
      "98\n",
      "122\n",
      "a\n"
     ]
    }
   ],
   "source": [
    "# 組み込み関数ord・文字コードを返す\n",
    "print(ord('a'))\n",
    "print(ord('b'))\n",
    "print(ord('z'))\n",
    "\n",
    "# 組み込み関数chr・与えられた整数を文字コードをとして文字を返す\n",
    "print(chr(97))"
   ],
   "metadata": {
    "collapsed": false,
    "pycharm": {
     "name": "#%%\n"
    }
   }
  },
  {
   "cell_type": "code",
   "execution_count": 4,
   "outputs": [
    {
     "name": "stdout",
     "output_type": "stream",
     "text": [
      "[3, 0, 3, 1, 2, 1, 1, 0, 7, 0, 0, 3, 0, 0, 2, 2, 0, 2, 3, 1, 2, 0, 0, 1, 0, 0]\n"
     ]
    }
   ],
   "source": [
    "# 小文字からなる文字列の中の各文字の出現頻度を算出する\n",
    "height = [0] * 26\n",
    "for c in word:\n",
    "    height[ord(c) - ord('a')] += 1\n",
    "\n",
    "print(height)"
   ],
   "metadata": {
    "collapsed": false,
    "pycharm": {
     "name": "#%%\n"
    }
   }
  },
  {
   "cell_type": "code",
   "execution_count": 5,
   "outputs": [
    {
     "data": {
      "text/plain": "[<matplotlib.lines.Line2D at 0x110cf6220>]"
     },
     "execution_count": 5,
     "metadata": {},
     "output_type": "execute_result"
    },
    {
     "data": {
      "text/plain": "<Figure size 432x288 with 1 Axes>",
      "image/png": "[encoded data removed]"
     },
     "metadata": {
      "needs_background": "light"
     },
     "output_type": "display_data"
    }
   ],
   "source": [
    "import matplotlib.pyplot as plt\n",
    "\n",
    "plt.plot(height)"
   ],
   "metadata": {
    "collapsed": false,
    "pycharm": {
     "name": "#%%\n"
    }
   }
  },
  {
   "cell_type": "code",
   "execution_count": 6,
   "outputs": [
    {
     "data": {
      "text/plain": "<BarContainer object of 26 artists>"
     },
     "execution_count": 6,
     "metadata": {},
     "output_type": "execute_result"
    },
    {
     "data": {
      "text/plain": "<Figure size 432x288 with 1 Axes>",
      "image/png": "[encoded data removed]"
     },
     "metadata": {
      "needs_background": "light"
     },
     "output_type": "display_data"
    }
   ],
   "source": [
    "left = list(range(26))\n",
    "labels = [chr(i + ord('a')) for i in range(26)]\n",
    "plt.bar(left, height, tick_label=labels)"
   ],
   "metadata": {
    "collapsed": false,
    "pycharm": {
     "name": "#%%\n"
    }
   }
  },
  {
   "cell_type": "code",
   "execution_count": 7,
   "outputs": [
    {
     "name": "stdout",
     "output_type": "stream",
     "text": [
      "key:  cat , value:  3\n",
      "key:  dog , value:  3\n",
      "key:  mouse , value:  5\n"
     ]
    }
   ],
   "source": [
    "# for文による繰り返しと辞書\n",
    "dic1 = { 'cat': 3, 'dog': 3, 'mouse': 5}\n",
    "for key in dic1.keys():\n",
    "    print('key: ', key, ',', 'value: ', dic1[key] )"
   ],
   "metadata": {
    "collapsed": false,
    "pycharm": {
     "name": "#%%\n"
    }
   }
  },
  {
   "cell_type": "code",
   "execution_count": 8,
   "outputs": [
    {
     "name": "stdout",
     "output_type": "stream",
     "text": [
      "value:  3\n",
      "value:  3\n",
      "value:  5\n"
     ]
    }
   ],
   "source": [
    "# valueメソッドを使ってキーを使わずに値を取り出す\n",
    "for key in dic1.values():\n",
    "    print('value: ', key)"
   ],
   "metadata": {
    "collapsed": false,
    "pycharm": {
     "name": "#%%\n"
    }
   }
  },
  {
   "cell_type": "code",
   "execution_count": 9,
   "outputs": [
    {
     "name": "stdout",
     "output_type": "stream",
     "text": [
      "key cat value 3\n",
      "key dog value 3\n",
      "key mouse value 5\n"
     ]
    }
   ],
   "source": [
    "# itemsメソッドを使ってキーと値を一度に取り出す\n",
    "dic1 = { 'cat': 3, 'dog': 3, 'mouse': 5}\n",
    "for key, value in dic1.items():\n",
    "    print('key', key, 'value', value)"
   ],
   "metadata": {
    "collapsed": false,
    "pycharm": {
     "name": "#%%\n"
    }
   }
  },
  {
   "cell_type": "code",
   "execution_count": 10,
   "outputs": [
    {
     "name": "stdout",
     "output_type": "stream",
     "text": [
      "0 1\n",
      "1 2\n",
      "2 3\n"
     ]
    }
   ],
   "source": [
    "# タプルのリスト、リストのリストに対しても複数の変数を指定できる\n",
    "list1 = [[0, 1], [1, 2], [2, 3]]\n",
    "for i, j in list1:\n",
    "    print(i, j)"
   ],
   "metadata": {
    "collapsed": false,
    "pycharm": {
     "name": "#%%\n"
    }
   }
  },
  {
   "cell_type": "code",
   "execution_count": 11,
   "outputs": [],
   "source": [
    "# 練習\n",
    "# reverse_lookup2という関数を定義せよ\n",
    "# ・引数としてdic1を与える\n",
    "# ・dic1のキーと値は一意とする\n",
    "# ・dic1のキーと値を入れ替えたdic2を返す\n",
    "\n",
    "def reverse_lookup2(dic1):\n",
    "    dic2 = {}\n",
    "    for key, value in dic1.items():\n",
    "        dic2[value] = key\n",
    "    return dic2"
   ],
   "metadata": {
    "collapsed": false,
    "pycharm": {
     "name": "#%%\n"
    }
   }
  },
  {
   "cell_type": "code",
   "execution_count": 12,
   "outputs": [
    {
     "name": "stdout",
     "output_type": "stream",
     "text": [
      "True\n"
     ]
    }
   ],
   "source": [
    "print(reverse_lookup2({'apple': 3, 'pen': 5, 'orange': 7}) == {3: 'apple', 5: 'pen', 7: 'orange'})"
   ],
   "metadata": {
    "collapsed": false,
    "pycharm": {
     "name": "#%%\n"
    }
   }
  },
  {
   "cell_type": "code",
   "execution_count": 13,
   "outputs": [
    {
     "name": "stdout",
     "output_type": "stream",
     "text": [
      "range(0, 5)\n",
      "Yes!!\n",
      "Yes!!\n",
      "Yes!!\n",
      "Yes!!\n",
      "Yes!!\n",
      "0\n",
      "1\n",
      "2\n",
      "3\n",
      "4\n"
     ]
    }
   ],
   "source": [
    "# range関数・特定の回数の繰り返し\n",
    "i = 5\n",
    "print(range(i))\n",
    "\n",
    "for value in range(i):\n",
    "    print('Yes!!')\n",
    "\n",
    "for value in range(i):\n",
    "    print(value)"
   ],
   "metadata": {
    "collapsed": false,
    "pycharm": {
     "name": "#%%\n"
    }
   }
  },
  {
   "cell_type": "code",
   "execution_count": 14,
   "outputs": [
    {
     "name": "stdout",
     "output_type": "stream",
     "text": [
      "a\n",
      "c\n",
      "w\n",
      "d\n",
      "q\n"
     ]
    }
   ],
   "source": [
    "# リストの要素の順番をfor文のシーケンスとして扱う\n",
    "ln = ['a', 'c', 'w', 'd', 'q']\n",
    "for value in range(len(ln)):\n",
    "    print(ln[value])"
   ],
   "metadata": {
    "collapsed": false,
    "pycharm": {
     "name": "#%%\n"
    }
   }
  },
  {
   "cell_type": "code",
   "execution_count": 15,
   "outputs": [
    {
     "name": "stdout",
     "output_type": "stream",
     "text": [
      "45\n"
     ]
    }
   ],
   "source": [
    "# range関数は引数を3つ与えることができ1つ目から順に、開始、終了、ステップを指定できる。\n",
    "# ステップは省略可能で既定値は1となっている。\n",
    "s = 0\n",
    "for i in range(10):\n",
    "    s = s + i\n",
    "\n",
    "print(s)"
   ],
   "metadata": {
    "collapsed": false,
    "pycharm": {
     "name": "#%%\n"
    }
   }
  },
  {
   "cell_type": "code",
   "execution_count": 16,
   "outputs": [
    {
     "name": "stdout",
     "output_type": "stream",
     "text": [
      "3\n"
     ]
    }
   ],
   "source": [
    "s2 = 0\n",
    "for i in range(0, 3):\n",
    "    s2 = s2 + i\n",
    "\n",
    "print(s2)\n"
   ],
   "metadata": {
    "collapsed": false,
    "pycharm": {
     "name": "#%%\n"
    }
   }
  },
  {
   "cell_type": "code",
   "execution_count": 17,
   "outputs": [],
   "source": [
    "# 引数xとyを受け取り（x,yは整数とする）xとyの間に存在する整数の総和を返す\n",
    "# 関数sum_nを定義せよ\n",
    "def sum_n(x, y):\n",
    "    s = 0\n",
    "    for i in range(x, y+1):\n",
    "        s = s + i\n",
    "    return s"
   ],
   "metadata": {
    "collapsed": false,
    "pycharm": {
     "name": "#%%\n"
    }
   }
  },
  {
   "cell_type": "code",
   "execution_count": 18,
   "outputs": [
    {
     "name": "stdout",
     "output_type": "stream",
     "text": [
      "True\n",
      "True\n"
     ]
    }
   ],
   "source": [
    "print(sum_n(2, 3) == 5)\n",
    "print(sum_n(1, 3) == 6)"
   ],
   "metadata": {
    "collapsed": false,
    "pycharm": {
     "name": "#%%\n"
    }
   }
  },
  {
   "cell_type": "code",
   "execution_count": 19,
   "outputs": [],
   "source": [
    "def construct_list(int_size):\n",
    "    empty_l = []\n",
    "    for i in range(int_size):\n",
    "        empty_l.append(i)\n",
    "    return empty_l"
   ],
   "metadata": {
    "collapsed": false,
    "pycharm": {
     "name": "#%%\n"
    }
   }
  },
  {
   "cell_type": "code",
   "execution_count": 20,
   "outputs": [
    {
     "name": "stdout",
     "output_type": "stream",
     "text": [
      "[0, 1, 2, 3, 4, 5, 6, 7, 8, 9]\n",
      "True\n"
     ]
    }
   ],
   "source": [
    "print(construct_list(10))\n",
    "print(construct_list(10) == [0, 1, 2, 3, 4, 5, 6, 7, 8, 9])"
   ],
   "metadata": {
    "collapsed": false,
    "pycharm": {
     "name": "#%%\n"
    }
   }
  },
  {
   "cell_type": "code",
   "execution_count": 21,
   "outputs": [
    {
     "name": "stdout",
     "output_type": "stream",
     "text": [
      "[0, 1, 2, 3, 4]\n"
     ]
    }
   ],
   "source": [
    "# rangeとリスト\n",
    "seq_list = list(range(5))\n",
    "print(seq_list)"
   ],
   "metadata": {
    "collapsed": false,
    "pycharm": {
     "name": "#%%\n"
    }
   }
  },
  {
   "cell_type": "code",
   "execution_count": 22,
   "outputs": [
    {
     "name": "stdout",
     "output_type": "stream",
     "text": [
      "1 1 a\n",
      "1 2 b\n",
      "1 3 c\n",
      "2 1 d\n",
      "2 2 e\n",
      "2 3 f\n",
      "3 1 g\n",
      "3 2 h\n",
      "3 3 i\n",
      "4 1 j\n",
      "4 2 k\n",
      "4 3 l\n"
     ]
    }
   ],
   "source": [
    "\n",
    "# forの入れ子\n",
    "list2 = [['a', 'b', 'c'], ['d', 'e', 'f'], ['g', 'h', 'i'], ['j', 'k', 'l']]\n",
    "for i in range(len(list2)):\n",
    "    for j in range(3):\n",
    "        print(i + 1, j + 1, list2[i][j])"
   ],
   "metadata": {
    "collapsed": false,
    "pycharm": {
     "name": "#%%\n"
    }
   }
  },
  {
   "cell_type": "code",
   "execution_count": 23,
   "outputs": [
    {
     "data": {
      "text/plain": "[[1], [1, 1]]"
     },
     "execution_count": 23,
     "metadata": {},
     "output_type": "execute_result"
    }
   ],
   "source": [
    "c = [[1]]\n",
    "for i in range(100):\n",
    "    c.append([1]+[0]*i+[1])\n",
    "    for j in range(i):\n",
    "        c[i+1][j+1] = c[i][j] + c[i][j+1]\n",
    "\n",
    "c[:2]"
   ],
   "metadata": {
    "collapsed": false,
    "pycharm": {
     "name": "#%%\n"
    }
   }
  },
  {
   "cell_type": "code",
   "execution_count": 24,
   "outputs": [
    {
     "data": {
      "text/plain": "[<matplotlib.lines.Line2D at 0x110efda30>]"
     },
     "execution_count": 24,
     "metadata": {},
     "output_type": "execute_result"
    },
    {
     "data": {
      "text/plain": "<Figure size 432x288 with 1 Axes>",
      "image/png": "[encoded data removed]"
     },
     "metadata": {
      "needs_background": "light"
     },
     "output_type": "display_data"
    }
   ],
   "source": [
    "plt.plot(c[100])\n"
   ],
   "metadata": {
    "collapsed": false,
    "pycharm": {
     "name": "#%%\n"
    }
   }
  },
  {
   "cell_type": "code",
   "execution_count": 25,
   "outputs": [],
   "source": [
    "def sum_lists(list1):\n",
    "    s1 = 0\n",
    "    for i in list1:\n",
    "        for j in range(len(i)):\n",
    "            s1 += i[j]\n",
    "    return s1"
   ],
   "metadata": {
    "collapsed": false,
    "pycharm": {
     "name": "#%%\n"
    }
   }
  },
  {
   "cell_type": "code",
   "execution_count": 26,
   "outputs": [
    {
     "name": "stdout",
     "output_type": "stream",
     "text": [
      "True\n"
     ]
    }
   ],
   "source": [
    "print(sum_lists([[20, 5], [6, 16, 14, 5], [16, 8, 16, 17, 14], [1], [5, 3, 5, 7]]) == 158)"
   ],
   "metadata": {
    "collapsed": false,
    "pycharm": {
     "name": "#%%\n"
    }
   }
  },
  {
   "cell_type": "code",
   "execution_count": 27,
   "outputs": [],
   "source": [
    "def sum_matrix(list1, list2):\n",
    "    list3 = [[0,0,0], [0,0,0], [0,0,0]]\n",
    "    for i in range(3):\n",
    "        for j in range(3):\n",
    "            list3[i][j] += list1[i][j] + list2[i][j]\n",
    "    return list3"
   ],
   "metadata": {
    "collapsed": false,
    "pycharm": {
     "name": "#%%\n"
    }
   }
  },
  {
   "cell_type": "code",
   "execution_count": 28,
   "outputs": [
    {
     "name": "stdout",
     "output_type": "stream",
     "text": [
      "True\n"
     ]
    }
   ],
   "source": [
    "print(sum_matrix([[1,2,3],[4,5,6],[7,8,9]], [[1,4,7],[2,5,8],[3,6,9]]) == [[2, 6, 10], [6, 10, 14], [10, 14, 18]])"
   ],
   "metadata": {
    "collapsed": false,
    "pycharm": {
     "name": "#%%\n"
    }
   }
  },
  {
   "cell_type": "markdown",
   "source": [
    "# for文の計算量\n",
    "\n",
    "処理にかかる時間が一定であるとして、要素の数を$n$とした時処理の終了までにかかる\n",
    "時間は$n$に比例する。（オーダー$n$といい、$O(n)$と書く）\n",
    "二重ループで反復回数が等しい場合、処理に要する時間は$n^2$に比例する。つまり$O(n^2)$"
   ],
   "metadata": {
    "collapsed": false,
    "pycharm": {
     "name": "#%% md\n"
    }
   }
  },
  {
   "cell_type": "code",
   "execution_count": 29,
   "outputs": [],
   "source": [
    "# 二重ループが明らかでない場合\n",
    "\n",
    "# 算術平均\n",
    "def ave(d):\n",
    "    s = 0\n",
    "    for x in d:\n",
    "        s = s + x\n",
    "    return s / len(d)\n",
    "\n",
    "# 分散 （この関数が関数aveを抱え込んで二重になっている）\n",
    "def variance(d):\n",
    "    s = 0\n",
    "    for x in d:\n",
    "        s = s + (x-ave(d)) ** 2\n",
    "    return s / len(d)"
   ],
   "metadata": {
    "collapsed": false,
    "pycharm": {
     "name": "#%%\n"
    }
   }
  },
  {
   "cell_type": "code",
   "execution_count": 30,
   "outputs": [],
   "source": [
    "# ガウス分布から100個と10000個のデータを取り出して分散の計算をしてみる\n",
    "# 10000個のデータの場合かなり待たされる。\n",
    "import random\n",
    "d100 = []\n",
    "for i in range(100):\n",
    "    d100.append(random.gauss(0,10))\n",
    "\n",
    "d10000 = []\n",
    "for i in range(10000):\n",
    "    d10000.append(random.gauss(0,10))"
   ],
   "metadata": {
    "collapsed": false,
    "pycharm": {
     "name": "#%%\n"
    }
   }
  },
  {
   "cell_type": "code",
   "execution_count": 31,
   "outputs": [
    {
     "name": "stdout",
     "output_type": "stream",
     "text": [
      "78.42336987171167\n",
      "実行時間: 0.007439851760864258\n"
     ]
    }
   ],
   "source": [
    "\n",
    "import time\n",
    "start = time.time()\n",
    "print(variance(d100))\n",
    "stop = time.time()\n",
    "elap_t = stop - start\n",
    "print('実行時間:',elap_t)"
   ],
   "metadata": {
    "collapsed": false,
    "pycharm": {
     "name": "#%%\n"
    }
   }
  },
  {
   "cell_type": "code",
   "execution_count": 32,
   "outputs": [
    {
     "name": "stdout",
     "output_type": "stream",
     "text": [
      "98.74454411613733\n",
      "実行時間: 3.4628639221191406\n"
     ]
    }
   ],
   "source": [
    "import time\n",
    "start = time.time()\n",
    "print(variance(d10000))\n",
    "stop = time.time()\n",
    "elap_t = stop - start\n",
    "print('実行時間:',elap_t)"
   ],
   "metadata": {
    "collapsed": false,
    "pycharm": {
     "name": "#%%\n"
    }
   }
  },
  {
   "cell_type": "code",
   "execution_count": 33,
   "outputs": [],
   "source": [
    "# 局所変数を用いてvarianceを再定義。\n",
    "# こうすると1重のループを2回実行する処理となる\n",
    "def variance2(d):\n",
    "    av = ave(d)\n",
    "    s = 0\n",
    "    for x in d:\n",
    "        s = s + (x-av) ** 2\n",
    "    return s / len(d)"
   ],
   "metadata": {
    "collapsed": false,
    "pycharm": {
     "name": "#%%\n"
    }
   }
  },
  {
   "cell_type": "code",
   "execution_count": 34,
   "outputs": [
    {
     "name": "stdout",
     "output_type": "stream",
     "text": [
      "78.42336987171167\n",
      "実行時間: 0.00080108642578125\n"
     ]
    }
   ],
   "source": [
    "import time\n",
    "start = time.time()\n",
    "print(variance2(d100))\n",
    "stop = time.time()\n",
    "elap_t = stop - start\n",
    "print('実行時間:',elap_t)"
   ],
   "metadata": {
    "collapsed": false,
    "pycharm": {
     "name": "#%%\n"
    }
   }
  },
  {
   "cell_type": "code",
   "execution_count": 35,
   "outputs": [
    {
     "name": "stdout",
     "output_type": "stream",
     "text": [
      "98.74454411613733\n",
      "実行時間: 0.003270864486694336\n"
     ]
    }
   ],
   "source": [
    "import time\n",
    "start = time.time()\n",
    "print(variance2(d10000))\n",
    "stop = time.time()\n",
    "elap_t = stop - start\n",
    "print('実行時間:',elap_t)"
   ],
   "metadata": {
    "collapsed": false,
    "pycharm": {
     "name": "#%%\n"
    }
   }
  },
  {
   "cell_type": "code",
   "execution_count": 36,
   "outputs": [
    {
     "name": "stdout",
     "output_type": "stream",
     "text": [
      "{'dog': 0, 'cat': 1, 'mouse': 2}\n"
     ]
    }
   ],
   "source": [
    "words = ['dog', 'cat', 'mouse']\n",
    "mapping = {}\n",
    "for i, w in enumerate(words):\n",
    "    mapping[w] = i\n",
    "\n",
    "print(mapping)"
   ],
   "metadata": {
    "collapsed": false,
    "pycharm": {
     "name": "#%%\n"
    }
   }
  },
  {
   "cell_type": "markdown",
   "source": [
    "## while\n",
    "whileの後に条件式を設定しそれがFalseになるまで処理を繰り返す\n",
    "\n",
    "以下は$$\\sum_{10}^{x=1}$$\n",
    "totalが$x$の値になる"
   ],
   "metadata": {
    "collapsed": false
   }
  },
  {
   "cell_type": "code",
   "execution_count": 38,
   "outputs": [
    {
     "name": "stdout",
     "output_type": "stream",
     "text": [
      "11 55\n"
     ]
    }
   ],
   "source": [
    "x = 1\n",
    "total = 0\n",
    "while x <= 10:\n",
    "    total += x\n",
    "    x += 1\n",
    "\n",
    "print(x, total)"
   ],
   "metadata": {
    "collapsed": false,
    "pycharm": {
     "name": "#%%\n"
    }
   }
  },
  {
   "cell_type": "markdown",
   "source": [
    "## 制御構造とreturn文\n",
    "\n",
    "return文は関数を終了し、値を返す機能を持つ。\n",
    "`if` `for` `while`の中で与えられた場合、直ちにに処理を終了させそれ以降の処理を\n",
    "行わない。\n",
    "\n"
   ],
   "metadata": {
    "collapsed": false,
    "pycharm": {
     "name": "#%% md\n"
    }
   }
  },
  {
   "cell_type": "code",
   "execution_count": 39,
   "outputs": [],
   "source": [
    "# 与えられたリストにmyitemと等しい要素があればTrue、なければFalseを返す関数。\n",
    "def simple_lsearch(lst, myitem):\n",
    "    for item in lst:       # 与えられたリストに対して繰り返しを行う\n",
    "        if item == myitem: # myitemとリスト内に要素の比較\n",
    "            return True    # 一致すればTrueを返して処理を終了する\n",
    "    return False           # すべての比較が終わり一致するものが一つも無ければFalseを返して終了"
   ],
   "metadata": {
    "collapsed": false,
    "pycharm": {
     "name": "#%%\n"
    }
   }
  },
  {
   "cell_type": "markdown",
   "source": [
    "## break文\n",
    "for文、あるいはwhile文にて使用できる。\n",
    "実行中のプログラムのループの中で最も内側にある繰り返しを中断しそのループを終了させる。"
   ],
   "metadata": {
    "collapsed": false,
    "pycharm": {
     "name": "#%% md\n"
    }
   }
  },
  {
   "cell_type": "code",
   "execution_count": 40,
   "outputs": [
    {
     "name": "stdout",
     "output_type": "stream",
     "text": [
      "4 504\n"
     ]
    }
   ],
   "source": [
    "# 初項256、公比1/2の等比級数を求めるプログラム。\n",
    "# 総和が500を超えたら終了する。\n",
    "\n",
    "x = 256\n",
    "total = 0\n",
    "while x > 0:\n",
    "    if total > 500:\n",
    "        break\n",
    "    total += x\n",
    "    x = x // 2\n",
    "\n",
    "print(x, total)\n"
   ],
   "metadata": {
    "collapsed": false,
    "pycharm": {
     "name": "#%%\n"
    }
   }
  }
 ],
 "metadata": {
  "kernelspec": {
   "display_name": "Python 3",
   "language": "python",
   "name": "python3"
  },
  "language_info": {
   "codemirror_mode": {
    "name": "ipython",
    "version": 2
   },
   "file_extension": ".py",
   "mimetype": "text/x-python",
   "name": "python",
   "nbconvert_exporter": "python",
   "pygments_lexer": "ipython2",
   "version": "2.7.6"
  }
 },
 "nbformat": 4,
 "nbformat_minor": 0
}