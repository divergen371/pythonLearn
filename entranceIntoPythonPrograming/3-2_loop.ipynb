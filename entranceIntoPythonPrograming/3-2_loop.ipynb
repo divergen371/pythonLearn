{
 "cells": [
  {
   "cell_type": "markdown",
   "metadata": {
    "collapsed": true,
    "pycharm": {
     "name": "#%% md\n"
    }
   },
   "source": [
    "# 繰り返し\n",
    "\n",
    "## for文\n",
    "\n",
    "```python\n",
    "for 変数 in \"変数・リスト・辞書など\":\n",
    "    \"実行文\"\n",
    "```\n",
    "\n",
    "in以降に与えられる`変数・リスト・辞書など`に渡って実行文を繰り返す。\n",
    "繰り返しの順序は要素が現れる順番で、要素は変数に代入される。"
   ]
  },
  {
   "cell_type": "code",
   "execution_count": 2,
   "outputs": [
    {
     "name": "stdout",
     "output_type": "stream",
     "text": [
      "dog 3\n",
      "cat 3\n",
      "mouse 5\n",
      "finish\n"
     ]
    }
   ],
   "source": [
    "words = ['dog', 'cat', 'mouse']\n",
    "for w in words:\n",
    "    print(w, len(w))\n",
    "\n",
    "print('finish')"
   ],
   "metadata": {
    "collapsed": false,
    "pycharm": {
     "name": "#%%\n"
    }
   }
  },
  {
   "cell_type": "code",
   "execution_count": 3,
   "outputs": [
    {
     "name": "stdout",
     "output_type": "stream",
     "text": [
      "s\n",
      "u\n",
      "p\n",
      "e\n",
      "r\n",
      "c\n",
      "a\n",
      "l\n",
      "i\n",
      "f\n",
      "r\n",
      "a\n",
      "g\n",
      "i\n",
      "l\n",
      "i\n",
      "s\n",
      "t\n",
      "i\n",
      "c\n",
      "e\n",
      "x\n",
      "p\n",
      "i\n",
      "a\n",
      "l\n",
      "i\n",
      "d\n",
      "o\n",
      "c\n",
      "i\n",
      "o\n",
      "u\n",
      "s\n"
     ]
    }
   ],
   "source": [
    "word = 'supercalifragilisticexpialidocious'\n",
    "for c in word:\n",
    "    print(c)"
   ],
   "metadata": {
    "collapsed": false,
    "pycharm": {
     "name": "#%%\n"
    }
   }
  },
  {
   "cell_type": "code",
   "execution_count": 5,
   "outputs": [
    {
     "name": "stdout",
     "output_type": "stream",
     "text": [
      "97\n",
      "98\n",
      "122\n",
      "a\n"
     ]
    }
   ],
   "source": [
    "# 組み込み関数ord・文字コードを返す\n",
    "print(ord('a'))\n",
    "print(ord('b'))\n",
    "print(ord('z'))\n",
    "\n",
    "# 組み込み関数chr・与えられた整数を文字コードをとして文字を返す\n",
    "print(chr(97))"
   ],
   "metadata": {
    "collapsed": false,
    "pycharm": {
     "name": "#%%\n"
    }
   }
  },
  {
   "cell_type": "code",
   "execution_count": 6,
   "outputs": [
    {
     "name": "stdout",
     "output_type": "stream",
     "text": [
      "[3, 0, 3, 1, 2, 1, 1, 0, 7, 0, 0, 3, 0, 0, 2, 2, 0, 2, 3, 1, 2, 0, 0, 1, 0, 0]\n"
     ]
    }
   ],
   "source": [
    "# 小文字からなる文字列の中の各文字の出現頻度を算出する\n",
    "height = [0] * 26\n",
    "for c in word:\n",
    "    height[ord(c) - ord('a')] += 1\n",
    "\n",
    "print(height)"
   ],
   "metadata": {
    "collapsed": false,
    "pycharm": {
     "name": "#%%\n"
    }
   }
  },
  {
   "cell_type": "code",
   "execution_count": 7,
   "outputs": [
    {
     "data": {
      "text/plain": "[<matplotlib.lines.Line2D at 0x11182e610>]"
     },
     "execution_count": 7,
     "metadata": {},
     "output_type": "execute_result"
    },
    {
     "data": {
      "text/plain": "<Figure size 432x288 with 1 Axes>",
      "image/png": "[encoded data removed]"
     },
     "metadata": {
      "needs_background": "light"
     },
     "output_type": "display_data"
    }
   ],
   "source": [
    "import matplotlib.pyplot as plt\n",
    "\n",
    "plt.plot(height)"
   ],
   "metadata": {
    "collapsed": false,
    "pycharm": {
     "name": "#%%\n"
    }
   }
  },
  {
   "cell_type": "code",
   "execution_count": 9,
   "outputs": [
    {
     "data": {
      "text/plain": "<BarContainer object of 26 artists>"
     },
     "execution_count": 9,
     "metadata": {},
     "output_type": "execute_result"
    },
    {
     "data": {
      "text/plain": "<Figure size 432x288 with 1 Axes>",
      "image/png": "[encoded data removed]"
     },
     "metadata": {
      "needs_background": "light"
     },
     "output_type": "display_data"
    }
   ],
   "source": [
    "left = list(range(26))\n",
    "labels = [chr(i + ord('a')) for i in range(26)]\n",
    "plt.bar(left, height, tick_label=labels)"
   ],
   "metadata": {
    "collapsed": false,
    "pycharm": {
     "name": "#%%\n"
    }
   }
  },
  {
   "cell_type": "code",
   "execution_count": 11,
   "outputs": [
    {
     "name": "stdout",
     "output_type": "stream",
     "text": [
      "key:  cat , value:  3\n",
      "key:  dog , value:  3\n",
      "key:  mouse , value:  5\n"
     ]
    }
   ],
   "source": [
    "# for文による繰り返しと辞書\n",
    "dic1 = { 'cat': 3, 'dog': 3, 'mouse': 5}\n",
    "for key in dic1.keys():\n",
    "    print('key: ', key, ',', 'value: ', dic1[key] )"
   ],
   "metadata": {
    "collapsed": false,
    "pycharm": {
     "name": "#%%\n"
    }
   }
  },
  {
   "cell_type": "code",
   "execution_count": 12,
   "outputs": [
    {
     "name": "stdout",
     "output_type": "stream",
     "text": [
      "value:  3\n",
      "value:  3\n",
      "value:  5\n"
     ]
    }
   ],
   "source": [
    "# valueメソッドを使ってキーを使わずに値を取り出す\n",
    "for key in dic1.values():\n",
    "    print('value: ', key)"
   ],
   "metadata": {
    "collapsed": false,
    "pycharm": {
     "name": "#%%\n"
    }
   }
  },
  {
   "cell_type": "code",
   "execution_count": 13,
   "outputs": [
    {
     "name": "stdout",
     "output_type": "stream",
     "text": [
      "key cat value 3\n",
      "key dog value 3\n",
      "key mouse value 5\n"
     ]
    }
   ],
   "source": [
    "# itemsメソッドを使ってキーと値を一度に取り出す\n",
    "dic1 = { 'cat': 3, 'dog': 3, 'mouse': 5}\n",
    "for key, value in dic1.items():\n",
    "    print('key', key, 'value', value)"
   ],
   "metadata": {
    "collapsed": false,
    "pycharm": {
     "name": "#%%\n"
    }
   }
  },
  {
   "cell_type": "code",
   "execution_count": 14,
   "outputs": [
    {
     "name": "stdout",
     "output_type": "stream",
     "text": [
      "0 1\n",
      "1 2\n",
      "2 3\n"
     ]
    }
   ],
   "source": [
    "# タプルのリスト、リストのリストに対しても複数の変数を指定できる\n",
    "list1 = [[0, 1], [1, 2], [2, 3]]\n",
    "for i, j in list1:\n",
    "    print(i, j)"
   ],
   "metadata": {
    "collapsed": false,
    "pycharm": {
     "name": "#%%\n"
    }
   }
  },
  {
   "cell_type": "code",
   "execution_count": 19,
   "outputs": [],
   "source": [
    "# 練習\n",
    "# reverse_lookup2という関数を定義せよ\n",
    "# ・引数としてdic1を与える\n",
    "# ・dic1のキーと値は一意とする\n",
    "# ・dic1のキーと値を入れ替えたdic2を返す\n",
    "\n",
    "def reverse_lookup2(dic1):\n",
    "    dic2 = {}\n",
    "    for key, value in dic1.items():\n",
    "        dic2[value] = key\n",
    "    return dic2"
   ],
   "metadata": {
    "collapsed": false,
    "pycharm": {
     "name": "#%%\n"
    }
   }
  },
  {
   "cell_type": "code",
   "execution_count": 20,
   "outputs": [
    {
     "name": "stdout",
     "output_type": "stream",
     "text": [
      "True\n"
     ]
    }
   ],
   "source": [
    "print(reverse_lookup2({'apple': 3, 'pen': 5, 'orange': 7}) == {3: 'apple', 5: 'pen', 7: 'orange'})"
   ],
   "metadata": {
    "collapsed": false,
    "pycharm": {
     "name": "#%%\n"
    }
   }
  },
  {
   "cell_type": "code",
   "execution_count": 21,
   "outputs": [
    {
     "name": "stdout",
     "output_type": "stream",
     "text": [
      "range(0, 4)\n"
     ]
    }
   ],
   "source": [
    "# range\n",
    "print(range(4))\n",
    "for"
   ],
   "metadata": {
    "collapsed": false,
    "pycharm": {
     "name": "#%%\n"
    }
   }
  },
  {
   "cell_type": "code",
   "execution_count": null,
   "outputs": [],
   "source": [],
   "metadata": {
    "collapsed": false,
    "pycharm": {
     "name": "#%%\n"
    }
   }
  }
 ],
 "metadata": {
  "kernelspec": {
   "display_name": "Python 3",
   "language": "python",
   "name": "python3"
  },
  "language_info": {
   "codemirror_mode": {
    "name": "ipython",
    "version": 2
   },
   "file_extension": ".py",
   "mimetype": "text/x-python",
   "name": "python",
   "nbconvert_exporter": "python",
   "pygments_lexer": "ipython2",
   "version": "2.7.6"
  }
 },
 "nbformat": 4,
 "nbformat_minor": 0
}